{
 "cells": [
  {
   "cell_type": "code",
   "execution_count": 1,
   "id": "initial_id",
   "metadata": {
    "ExecuteTime": {
     "end_time": "2024-08-27T11:36:32.804035Z",
     "start_time": "2024-08-27T11:36:32.798136Z"
    },
    "collapsed": true
   },
   "outputs": [],
   "source": [
    "import shutil\n",
    "import xml.etree.ElementTree as ET\n",
    "import os\n",
    "from ultralytics import YOLO\n",
    "\n",
    "import torch\n",
    "from sklearn.model_selection import train_test_split"
   ]
  },
  {
   "cell_type": "code",
   "execution_count": 2,
   "id": "a3b1caa77127bd35",
   "metadata": {
    "ExecuteTime": {
     "end_time": "2024-08-27T11:36:32.817784Z",
     "start_time": "2024-08-27T11:36:32.814047Z"
    }
   },
   "outputs": [
    {
     "name": "stdout",
     "output_type": "stream",
     "text": [
      "Number of GPU:  1\n",
      "GPU Name:  NVIDIA GeForce RTX 3050 Laptop GPU\n",
      "Using device: cuda\n"
     ]
    }
   ],
   "source": [
    "print(\"Number of GPU: \", torch.cuda.device_count())\n",
    "print(\"GPU Name: \", torch.cuda.get_device_name())\n",
    "\n",
    "\n",
    "device = torch.device('cuda' if torch.cuda.is_available() else 'cpu')\n",
    "print('Using device:', device)"
   ]
  },
  {
   "cell_type": "code",
   "execution_count": 3,
   "id": "3d74f688f06e8f64",
   "metadata": {
    "ExecuteTime": {
     "end_time": "2024-08-27T11:36:32.848050Z",
     "start_time": "2024-08-27T11:36:32.831583Z"
    }
   },
   "outputs": [
    {
     "name": "stdout",
     "output_type": "stream",
     "text": [
      "apanar_06.08.2002/IMG_1261.JPG (1600, 1200) ['self', 'adhesive', 'address', 'labels', '36', '89m', 'cls', '250', 'on', 'a', 'roll'] [[174.0, 392.0, 274.0, 195.0], [512.0, 391.0, 679.0, 183.0], [184.0, 612.0, 622.0, 174.0], [863.0, 599.0, 446.0, 187.0], [72.0, 6.0, 95.0, 87.0], [247.0, 2.0, 197.0, 88.0], [792.0, 0.0, 115.0, 81.0], [200.0, 848.0, 228.0, 139.0], [473.0, 878.0, 165.0, 109.0], [684.0, 878.0, 71.0, 106.0], [806.0, 844.0, 218.0, 141.0]]\n"
     ]
    }
   ],
   "source": [
    "word_xml_path = \"Dataset/words.xml\"\n",
    "root = ET.parse(word_xml_path).getroot()\n",
    "\n",
    "img_paths = []\n",
    "img_sizes = []\n",
    "img_labels = []\n",
    "bounding_boxes = []\n",
    "\n",
    "for img in root:\n",
    "    bbox_word = []\n",
    "    label_word = []\n",
    "    for words in img.findall(\"taggedRectangles\"):\n",
    "        for word in words:\n",
    "            if not word[0].text.isalnum():\n",
    "                continue\n",
    "            if \"é\" in word[0].text.lower() or \"ñ\" in word[0].text.lower():\n",
    "                continue\n",
    "            bbox_word.append([\n",
    "                float(word.attrib[\"x\"]),\n",
    "                float(word.attrib[\"y\"]),\n",
    "                float(word.attrib[\"width\"]),\n",
    "                float(word.attrib[\"height\"])\n",
    "            ])\n",
    "            label_word.append(word[0].text.lower())\n",
    "    \n",
    "    img_paths.append(img[0].text)\n",
    "    img_sizes.append((int(img[1].attrib[\"x\"]), int(img[1].attrib[\"y\"])))\n",
    "    img_labels.append(label_word)\n",
    "    bounding_boxes.append(bbox_word)\n",
    "    \n",
    "print(img_paths[0], img_sizes[0], img_labels[0], bounding_boxes[0])"
   ]
  },
  {
   "cell_type": "code",
   "execution_count": 4,
   "id": "bf5b4ead5734724a",
   "metadata": {
    "ExecuteTime": {
     "end_time": "2024-08-27T11:36:32.883613Z",
     "start_time": "2024-08-27T11:36:32.863892Z"
    }
   },
   "outputs": [
    {
     "data": {
      "text/plain": [
       "('apanar_06.08.2002/IMG_1261.JPG',\n",
       " ['0 0.194375 0.40791666666666665 0.17125 0.1625',\n",
       "  '0 0.5321875 0.40208333333333335 0.424375 0.1525',\n",
       "  '0 0.309375 0.5825 0.38875 0.145',\n",
       "  '0 0.67875 0.5770833333333333 0.27875 0.15583333333333332',\n",
       "  '0 0.0746875 0.04125 0.059375 0.0725',\n",
       "  '0 0.2159375 0.03833333333333333 0.123125 0.07333333333333333',\n",
       "  '0 0.5309375 0.03375 0.071875 0.0675',\n",
       "  '0 0.19625 0.7645833333333333 0.1425 0.11583333333333333',\n",
       "  '0 0.3471875 0.7770833333333333 0.103125 0.09083333333333334',\n",
       "  '0 0.4496875 0.7758333333333334 0.044375 0.08833333333333333',\n",
       "  '0 0.571875 0.7620833333333333 0.13625 0.1175'])"
      ]
     },
     "execution_count": 4,
     "metadata": {},
     "output_type": "execute_result"
    }
   ],
   "source": [
    "def convert_to_yolov8_format(img_paths, img_sizes, bounding_boxes):\n",
    "    yolov8_data = []\n",
    "    for img_path, img_size, bounding_box in zip(img_paths, img_sizes, bounding_boxes):\n",
    "        img_width, img_height = img_size\n",
    "        labels = []\n",
    "        \n",
    "        for bbox in bounding_box:\n",
    "            x, y, w, h = bbox\n",
    "            \n",
    "            center_x = (x + w / 2) / img_width\n",
    "            center_y = (y + h / 2) / img_height\n",
    "            nomal_w = w / img_width\n",
    "            nomal_h = h / img_height\n",
    "            \n",
    "            class_id = 0\n",
    "            \n",
    "            yolov8_label = f\"{class_id} {center_x} {center_y} {nomal_w} {nomal_h}\"\n",
    "            labels.append(yolov8_label)\n",
    "        \n",
    "        yolov8_data.append((img_path, labels))\n",
    "    \n",
    "    return yolov8_data\n",
    "\n",
    "yolov8_data = convert_to_yolov8_format(img_paths, img_sizes, bounding_boxes)\n",
    "yolov8_data[0]"
   ]
  },
  {
   "cell_type": "code",
   "execution_count": 5,
   "id": "57af4b3300431453",
   "metadata": {
    "ExecuteTime": {
     "end_time": "2024-08-27T11:36:32.933693Z",
     "start_time": "2024-08-27T11:36:32.927238Z"
    }
   },
   "outputs": [
    {
     "data": {
      "text/plain": [
       "(200, 43, 7)"
      ]
     },
     "execution_count": 5,
     "metadata": {},
     "output_type": "execute_result"
    }
   ],
   "source": [
    "seed = 1\n",
    "vaid_rate = 0.2\n",
    "test_rate = 0.125\n",
    "train_data, remain_data = train_test_split(yolov8_data, test_size=vaid_rate, random_state=seed ,shuffle=True)\n",
    "valid_data, test_data = train_test_split(remain_data, test_size=test_rate,random_state= seed ,shuffle=True)\n",
    "\n",
    "len(train_data), len(valid_data), len(test_data)"
   ]
  },
  {
   "cell_type": "code",
   "execution_count": 6,
   "id": "9c46b638fa87560",
   "metadata": {
    "ExecuteTime": {
     "end_time": "2024-08-27T11:36:33.152616Z",
     "start_time": "2024-08-27T11:36:32.954425Z"
    }
   },
   "outputs": [],
   "source": [
    "def save_data(data, scr_img_dir, save_dir):\n",
    "    os.makedirs(save_dir, exist_ok=True)\n",
    "    os.makedirs(os.path.join(save_dir, \"images\"), exist_ok=True)\n",
    "    os.makedirs(os.path.join(save_dir, \"labels\"), exist_ok=True)\n",
    "    \n",
    "    for img_path, labels in data:\n",
    "        shutil.copy(\n",
    "            os.path.join(scr_img_dir, img_path),\n",
    "            os.path.join(save_dir, \"images\")\n",
    "        )\n",
    "        \n",
    "        img_name = os.path.basename(img_path)\n",
    "        img_name = os.path.splitext(img_name)[0]\n",
    "        \n",
    "        with open(os.path.join(save_dir, \"labels\", f\"{img_name}.txt\"), \"w\") as f:\n",
    "            for label in labels:\n",
    "                f.write(f\"{label}\\n\")\n",
    "\n",
    "os.makedirs(\"Dataset/yolo_data\", exist_ok=True)\n",
    "save_train_dir = os.path.join(\"Dataset/yolo_data\", \"train\")\n",
    "save_test_dir = os.path.join(\"Dataset/yolo_data\", \"test\")\n",
    "save_valid_dir = os.path.join(\"Dataset/yolo_data\", \"val\")\n",
    "\n",
    "save_data(train_data, \"Dataset\", save_train_dir)\n",
    "save_data(valid_data, \"Dataset\", save_valid_dir)\n",
    "save_data(test_data, \"Dataset\", save_test_dir)"
   ]
  },
  {
   "cell_type": "code",
   "execution_count": 7,
   "id": "db49a5c9281e1bfc",
   "metadata": {
    "ExecuteTime": {
     "end_time": "2024-08-27T11:36:33.170805Z",
     "start_time": "2024-08-27T11:36:33.167344Z"
    }
   },
   "outputs": [],
   "source": [
    "yaml_path = os.path.join(\"Dataset/yolo_data\", \"data.yaml\")\n",
    "\n",
    "device = 'cuda' if torch.cuda.is_available() else 'cpu'\n",
    "\n",
    "model = YOLO(\"yolov8s.yaml\").load(\"yolov8s.pt\").to(device)\n",
    "\n",
    "img_size = 512\n",
    "batch = 2\n",
    "\n",
    "torch.cuda.empty_cache()\n",
    "\n",
    "results = model.train(\n",
    "    data=yaml_path,\n",
    "    epochs=100,\n",
    "    imgsz=img_size,\n",
    "    batch= batch,\n",
    "    device=device\n",
    ")\n"
   ]
  },
  {
   "cell_type": "code",
   "execution_count": 8,
   "id": "33e167de",
   "metadata": {
    "ExecuteTime": {
     "end_time": "2024-08-27T11:36:33.188286Z",
     "start_time": "2024-08-27T11:36:33.184746Z"
    }
   },
   "outputs": [],
   "source": [
    "model_path = \"runs\\\\detect\\\\train42\\\\weights\\\\best.pt\"\n",
    "model = YOLO(model=model_path)\n",
    "\n",
    "model.val()"
   ]
  },
  {
   "cell_type": "code",
   "execution_count": 9,
   "id": "92e12c35",
   "metadata": {
    "ExecuteTime": {
     "end_time": "2024-08-27T11:36:33.207251Z",
     "start_time": "2024-08-27T11:36:33.202589Z"
    }
   },
   "outputs": [],
   "source": [
    "img_path = \"Dataset\\\\yolo_data\\\\val\\\\images\\\\from_joanne.jpg\"\n",
    "test = model.predict(img_path, show=True)"
   ]
  }
 ],
 "metadata": {
  "kernelspec": {
   "display_name": "Python 3",
   "language": "python",
   "name": "python3"
  },
  "language_info": {
   "codemirror_mode": {
    "name": "ipython",
    "version": 3
   },
   "file_extension": ".py",
   "mimetype": "text/x-python",
   "name": "python",
   "nbconvert_exporter": "python",
   "pygments_lexer": "ipython3",
   "version": "3.12.5"
  }
 },
 "nbformat": 4,
 "nbformat_minor": 5
}
