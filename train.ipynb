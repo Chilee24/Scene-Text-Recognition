{
 "cells": [
  {
   "cell_type": "code",
   "execution_count": 1,
   "id": "initial_id",
   "metadata": {
    "ExecuteTime": {
     "end_time": "2024-08-27T00:18:19.551339Z",
     "start_time": "2024-08-27T00:18:19.540383Z"
    },
    "collapsed": true
   },
   "outputs": [],
   "source": [
    "import os\n",
    "import shutil\n",
    "import xml.etree.ElementTree as ET"
   ]
  },
  {
   "cell_type": "code",
   "execution_count": 2,
   "id": "a3b1caa77127bd35",
   "metadata": {
    "ExecuteTime": {
     "end_time": "2024-08-26T08:30:05.219650Z",
     "start_time": "2024-08-26T08:30:01.847828Z"
    }
   },
   "outputs": [
    {
     "name": "stdout",
     "output_type": "stream",
     "text": [
      "Number of GPU:  1\n",
      "GPU Name:  NVIDIA GeForce RTX 3050 Laptop GPU\n",
      "Using device: cuda\n"
     ]
    }
   ],
   "source": [
    "import torch\n",
    "\n",
    "print(\"Number of GPU: \", torch.cuda.device_count())\n",
    "print(\"GPU Name: \", torch.cuda.get_device_name())\n",
    "\n",
    "\n",
    "device = torch.device('cuda' if torch.cuda.is_available() else 'cpu')\n",
    "print('Using device:', device)"
   ]
  },
  {
   "cell_type": "code",
   "execution_count": 3,
   "id": "c5cde59ebca27d12",
   "metadata": {
    "ExecuteTime": {
     "end_time": "2024-08-26T08:30:05.388628Z",
     "start_time": "2024-08-26T08:30:05.379309Z"
    }
   },
   "outputs": [
    {
     "name": "stdout",
     "output_type": "stream",
     "text": [
      "self ['174.0', '392.0', '274.0', '195.0']\n",
      "adhesive ['512.0', '391.0', '679.0', '183.0']\n",
      "address ['184.0', '612.0', '622.0', '174.0']\n",
      "labels ['863.0', '599.0', '446.0', '187.0']\n",
      "36 ['72.0', '6.0', '95.0', '87.0']\n",
      "89m ['247.0', '2.0', '197.0', '88.0']\n",
      "cls ['792.0', '0.0', '115.0', '81.0']\n",
      "250 ['200.0', '848.0', '228.0', '139.0']\n",
      "on ['473.0', '878.0', '165.0', '109.0']\n",
      "a ['684.0', '878.0', '71.0', '106.0']\n",
      "roll ['806.0', '844.0', '218.0', '141.0']\n"
     ]
    }
   ],
   "source": [
    "word_xml_path = \"Dataset/words.xml\"\n",
    "root = ET.parse(word_xml_path).getroot()\n",
    "\n",
    "for img in root: \n",
    "    for tags in img.findall(\"taggedRectangles\"):\n",
    "        for tag in tags:\n",
    "            bbox = [\n",
    "                tag.attrib[\"x\"],\n",
    "                tag.attrib[\"y\"],\n",
    "                tag.attrib[\"width\"],\n",
    "                tag.attrib[\"height\"]\n",
    "            ]\n",
    "            print(tag[0].text, bbox)\n",
    "        break\n",
    "    break\n"
   ]
  },
  {
   "cell_type": "code",
   "execution_count": 4,
   "id": "3d74f688f06e8f64",
   "metadata": {
    "ExecuteTime": {
     "end_time": "2024-08-26T08:30:05.492493Z",
     "start_time": "2024-08-26T08:30:05.483452Z"
    }
   },
   "outputs": [
    {
     "name": "stdout",
     "output_type": "stream",
     "text": [
      "apanar_06.08.2002/IMG_1261.JPG (1600, 1200) ['self', 'adhesive', 'address', 'labels', '36', '89m', 'cls', '250', 'on', 'a', 'roll'] [[174.0, 392.0, 274.0, 195.0], [512.0, 391.0, 679.0, 183.0], [184.0, 612.0, 622.0, 174.0], [863.0, 599.0, 446.0, 187.0], [72.0, 6.0, 95.0, 87.0], [247.0, 2.0, 197.0, 88.0], [792.0, 0.0, 115.0, 81.0], [200.0, 848.0, 228.0, 139.0], [473.0, 878.0, 165.0, 109.0], [684.0, 878.0, 71.0, 106.0], [806.0, 844.0, 218.0, 141.0]]\n"
     ]
    }
   ],
   "source": [
    "img_paths = []\n",
    "img_sizes = []\n",
    "img_labels = []\n",
    "bounding_boxes = []\n",
    "\n",
    "for img in root:\n",
    "    bbox_word = []\n",
    "    label_word = []\n",
    "    for words in img.findall(\"taggedRectangles\"):\n",
    "        for word in words:\n",
    "            if not word[0].text.isalnum():\n",
    "                continue\n",
    "            if \"é\" in word[0].text.lower() or \"ñ\" in word[0].text.lower():\n",
    "                continue\n",
    "            bbox_word.append([\n",
    "                float(word.attrib[\"x\"]),\n",
    "                float(word.attrib[\"y\"]),\n",
    "                float(word.attrib[\"width\"]),\n",
    "                float(word.attrib[\"height\"])\n",
    "            ])\n",
    "            label_word.append(word[0].text.lower())\n",
    "    \n",
    "    img_paths.append(img[0].text)\n",
    "    img_sizes.append((int(img[1].attrib[\"x\"]), int(img[1].attrib[\"y\"])))\n",
    "    img_labels.append(label_word)\n",
    "    bounding_boxes.append(bbox_word)\n",
    "    \n",
    "print(img_paths[0], img_sizes[0], img_labels[0], bounding_boxes[0])"
   ]
  },
  {
   "cell_type": "code",
   "execution_count": 5,
   "id": "bf5b4ead5734724a",
   "metadata": {
    "ExecuteTime": {
     "end_time": "2024-08-26T08:30:05.571097Z",
     "start_time": "2024-08-26T08:30:05.563241Z"
    }
   },
   "outputs": [
    {
     "data": {
      "text/plain": [
       "('apanar_06.08.2002/IMG_1261.JPG',\n",
       " ['0 0.194375 0.40791666666666665 0.17125 0.1625',\n",
       "  '0 0.5321875 0.40208333333333335 0.424375 0.1525',\n",
       "  '0 0.309375 0.5825 0.38875 0.145',\n",
       "  '0 0.67875 0.5770833333333333 0.27875 0.15583333333333332',\n",
       "  '0 0.0746875 0.04125 0.059375 0.0725',\n",
       "  '0 0.2159375 0.03833333333333333 0.123125 0.07333333333333333',\n",
       "  '0 0.5309375 0.03375 0.071875 0.0675',\n",
       "  '0 0.19625 0.7645833333333333 0.1425 0.11583333333333333',\n",
       "  '0 0.3471875 0.7770833333333333 0.103125 0.09083333333333334',\n",
       "  '0 0.4496875 0.7758333333333334 0.044375 0.08833333333333333',\n",
       "  '0 0.571875 0.7620833333333333 0.13625 0.1175'])"
      ]
     },
     "execution_count": 5,
     "metadata": {},
     "output_type": "execute_result"
    }
   ],
   "source": [
    "def convert_to_yolov8_format(img_paths, img_sizes, bounding_boxes):\n",
    "    yolov8_data = []\n",
    "    for img_path, img_size, bounding_box in zip(img_paths, img_sizes, bounding_boxes):\n",
    "        img_width, img_height = img_size\n",
    "        labels = []\n",
    "        \n",
    "        for bbox in bounding_box:\n",
    "            x, y, w, h = bbox\n",
    "            \n",
    "            center_x = (x + w / 2) / img_width\n",
    "            center_y = (y + h / 2) / img_height\n",
    "            nomal_w = w / img_width\n",
    "            nomal_h = h / img_height\n",
    "            \n",
    "            class_id = 0\n",
    "            \n",
    "            yolov8_label = f\"{class_id} {center_x} {center_y} {nomal_w} {nomal_h}\"\n",
    "            labels.append(yolov8_label)\n",
    "        \n",
    "        yolov8_data.append((img_path, labels))\n",
    "    \n",
    "    return yolov8_data\n",
    "\n",
    "yolov8_data = convert_to_yolov8_format(img_paths, img_sizes, bounding_boxes)\n",
    "yolov8_data[0]"
   ]
  },
  {
   "cell_type": "code",
   "execution_count": 6,
   "id": "57af4b3300431453",
   "metadata": {
    "ExecuteTime": {
     "end_time": "2024-08-26T08:30:06.492079Z",
     "start_time": "2024-08-26T08:30:05.616325Z"
    }
   },
   "outputs": [],
   "source": [
    "from sklearn.model_selection import train_test_split\n",
    "seed = 1\n",
    "vaid_rate = 0.2\n",
    "test_rate = 0.125\n",
    "train_data, remain_data = train_test_split(yolov8_data, test_size=vaid_rate, random_state=seed ,shuffle=True)\n",
    "valid_data, test_data = train_test_split(remain_data, test_size=test_rate,random_state= seed ,shuffle=True)"
   ]
  },
  {
   "cell_type": "code",
   "execution_count": 7,
   "id": "acc562b34a5cb425",
   "metadata": {
    "ExecuteTime": {
     "end_time": "2024-08-26T08:30:06.508522Z",
     "start_time": "2024-08-26T08:30:06.504292Z"
    }
   },
   "outputs": [
    {
     "data": {
      "text/plain": [
       "(200, 43, 7)"
      ]
     },
     "execution_count": 7,
     "metadata": {},
     "output_type": "execute_result"
    }
   ],
   "source": [
    "len(train_data), len(valid_data), len(test_data)"
   ]
  },
  {
   "cell_type": "code",
   "execution_count": 8,
   "id": "9c46b638fa87560",
   "metadata": {
    "ExecuteTime": {
     "end_time": "2024-08-26T08:30:06.532822Z",
     "start_time": "2024-08-26T08:30:06.528876Z"
    }
   },
   "outputs": [],
   "source": [
    "def save_data(data, scr_img_dir, save_dir):\n",
    "    os.makedirs(save_dir, exist_ok=True)\n",
    "    os.makedirs(os.path.join(save_dir, \"images\"), exist_ok=True)\n",
    "    os.makedirs(os.path.join(save_dir, \"labels\"), exist_ok=True)\n",
    "    \n",
    "    for img_path, labels in data:\n",
    "        shutil.copy(\n",
    "            os.path.join(scr_img_dir, img_path),\n",
    "            os.path.join(save_dir, \"images\")\n",
    "        )\n",
    "        \n",
    "        img_name = os.path.basename(img_path)\n",
    "        img_name = os.path.splitext(img_name)[0]\n",
    "        \n",
    "        with open(os.path.join(save_dir, \"labels\", f\"{img_name}.txt\"), \"w\") as f:\n",
    "            for label in labels:\n",
    "                f.write(f\"{label}\\n\")"
   ]
  },
  {
   "cell_type": "code",
   "execution_count": 9,
   "id": "c9a17a1cab486229",
   "metadata": {
    "ExecuteTime": {
     "end_time": "2024-08-26T08:30:06.910891Z",
     "start_time": "2024-08-26T08:30:06.554171Z"
    }
   },
   "outputs": [],
   "source": [
    "os.makedirs(\"Dataset/yolo_data\", exist_ok=True)\n",
    "save_train_dir = os.path.join(\"Dataset/yolo_data\", \"train\")\n",
    "save_test_dir = os.path.join(\"Dataset/yolo_data\", \"test\")\n",
    "save_valid_dir = os.path.join(\"Dataset/yolo_data\", \"val\")\n",
    "\n",
    "save_data(train_data, \"Dataset\", save_train_dir)\n",
    "save_data(valid_data, \"Dataset\", save_valid_dir)\n",
    "save_data(test_data, \"Dataset\", save_test_dir)"
   ]
  },
  {
   "cell_type": "code",
   "execution_count": 1,
   "id": "db49a5c9281e1bfc",
   "metadata": {
    "jupyter": {
     "is_executing": true
    }
   },
   "outputs": [
    {
     "name": "stdout",
     "output_type": "stream",
     "text": [
      "Transferred 355/355 items from pretrained weights\n",
      "Ultralytics YOLOv8.2.82  Python-3.12.5 torch-2.4.0+cu124 CUDA:0 (NVIDIA GeForce RTX 3050 Laptop GPU, 4096MiB)\n",
      "\u001B[34m\u001B[1mengine\\trainer: \u001B[0mtask=detect, mode=train, model=yolov8s.yaml, data=Dataset/yolo_data\\data.yaml, epochs=100, time=None, patience=100, batch=2, imgsz=512, save=True, save_period=-1, cache=False, device=cuda, workers=8, project=None, name=train, exist_ok=False, pretrained=yolov8s.pt, optimizer=auto, verbose=True, seed=0, deterministic=True, single_cls=False, rect=False, cos_lr=False, close_mosaic=10, resume=False, amp=True, fraction=1.0, profile=False, freeze=None, multi_scale=False, overlap_mask=True, mask_ratio=4, dropout=0.0, val=True, split=val, save_json=False, save_hybrid=False, conf=None, iou=0.7, max_det=300, half=False, dnn=False, plots=True, source=None, vid_stride=1, stream_buffer=False, visualize=False, augment=False, agnostic_nms=False, classes=None, retina_masks=False, embed=None, show=False, save_frames=False, save_txt=False, save_conf=False, save_crop=False, show_labels=True, show_conf=True, show_boxes=True, line_width=None, format=torchscript, keras=False, optimize=False, int8=False, dynamic=False, simplify=False, opset=None, workspace=4, nms=False, lr0=0.01, lrf=0.01, momentum=0.937, weight_decay=0.0005, warmup_epochs=3.0, warmup_momentum=0.8, warmup_bias_lr=0.1, box=7.5, cls=0.5, dfl=1.5, pose=12.0, kobj=1.0, label_smoothing=0.0, nbs=64, hsv_h=0.015, hsv_s=0.7, hsv_v=0.4, degrees=0.0, translate=0.1, scale=0.5, shear=0.0, perspective=0.0, flipud=0.0, fliplr=0.5, bgr=0.0, mosaic=1.0, mixup=0.0, copy_paste=0.0, auto_augment=randaugment, erasing=0.4, crop_fraction=1.0, cfg=None, tracker=botsort.yaml, save_dir=runs\\detect\\train\n",
      "Overriding model.yaml nc=80 with nc=1\n",
      "\n",
      "                   from  n    params  module                                       arguments                     \n",
      "  0                  -1  1       928  ultralytics.nn.modules.conv.Conv             [3, 32, 3, 2]                 \n",
      "  1                  -1  1     18560  ultralytics.nn.modules.conv.Conv             [32, 64, 3, 2]                \n",
      "  2                  -1  1     29056  ultralytics.nn.modules.block.C2f             [64, 64, 1, True]             \n",
      "  3                  -1  1     73984  ultralytics.nn.modules.conv.Conv             [64, 128, 3, 2]               \n",
      "  4                  -1  2    197632  ultralytics.nn.modules.block.C2f             [128, 128, 2, True]           \n",
      "  5                  -1  1    295424  ultralytics.nn.modules.conv.Conv             [128, 256, 3, 2]              \n",
      "  6                  -1  2    788480  ultralytics.nn.modules.block.C2f             [256, 256, 2, True]           \n",
      "  7                  -1  1   1180672  ultralytics.nn.modules.conv.Conv             [256, 512, 3, 2]              \n",
      "  8                  -1  1   1838080  ultralytics.nn.modules.block.C2f             [512, 512, 1, True]           \n",
      "  9                  -1  1    656896  ultralytics.nn.modules.block.SPPF            [512, 512, 5]                 \n",
      " 10                  -1  1         0  torch.nn.modules.upsampling.Upsample         [None, 2, 'nearest']          \n",
      " 11             [-1, 6]  1         0  ultralytics.nn.modules.conv.Concat           [1]                           \n",
      " 12                  -1  1    591360  ultralytics.nn.modules.block.C2f             [768, 256, 1]                 \n",
      " 13                  -1  1         0  torch.nn.modules.upsampling.Upsample         [None, 2, 'nearest']          \n",
      " 14             [-1, 4]  1         0  ultralytics.nn.modules.conv.Concat           [1]                           \n",
      " 15                  -1  1    148224  ultralytics.nn.modules.block.C2f             [384, 128, 1]                 \n",
      " 16                  -1  1    147712  ultralytics.nn.modules.conv.Conv             [128, 128, 3, 2]              \n",
      " 17            [-1, 12]  1         0  ultralytics.nn.modules.conv.Concat           [1]                           \n",
      " 18                  -1  1    493056  ultralytics.nn.modules.block.C2f             [384, 256, 1]                 \n",
      " 19                  -1  1    590336  ultralytics.nn.modules.conv.Conv             [256, 256, 3, 2]              \n",
      " 20             [-1, 9]  1         0  ultralytics.nn.modules.conv.Concat           [1]                           \n",
      " 21                  -1  1   1969152  ultralytics.nn.modules.block.C2f             [768, 512, 1]                 \n",
      " 22        [15, 18, 21]  1   2116435  ultralytics.nn.modules.head.Detect           [1, [128, 256, 512]]          \n",
      "YOLOv8s summary: 225 layers, 11,135,987 parameters, 11,135,971 gradients, 28.6 GFLOPs\n",
      "\n",
      "Transferred 349/355 items from pretrained weights\n",
      "Freezing layer 'model.22.dfl.conv.weight'\n",
      "\u001B[34m\u001B[1mAMP: \u001B[0mrunning Automatic Mixed Precision (AMP) checks with YOLOv8n...\n",
      "Downloading https://github.com/ultralytics/assets/releases/download/v8.2.0/yolov8n.pt to 'yolov8n.pt'...\n"
     ]
    },
    {
     "name": "stderr",
     "output_type": "stream",
     "text": [
      "100%|██████████| 6.25M/6.25M [00:00<00:00, 13.6MB/s]\n"
     ]
    },
    {
     "name": "stdout",
     "output_type": "stream",
     "text": [
      "\u001B[34m\u001B[1mAMP: \u001B[0mchecks passed \n"
     ]
    },
    {
     "name": "stderr",
     "output_type": "stream",
     "text": [
      "c:\\Users\\hieuh\\AppData\\Local\\Programs\\Python\\Python312\\Lib\\site-packages\\ultralytics\\engine\\trainer.py:268: FutureWarning: `torch.cuda.amp.GradScaler(args...)` is deprecated. Please use `torch.amp.GradScaler('cuda', args...)` instead.\n",
      "  self.scaler = torch.cuda.amp.GradScaler(enabled=self.amp)\n",
      "\u001B[34m\u001B[1mtrain: \u001B[0mScanning C:\\Users\\hieuh\\Downloads\\Project\\Scene-Text-Recognition\\Dataset\\yolo_data\\train\\labels.cache... 200 images, 9 backgrounds, 0 corrupt: 100%|██████████| 200/200 [00:00<?, ?it/s]\n",
      "\u001B[34m\u001B[1mval: \u001B[0mScanning C:\\Users\\hieuh\\Downloads\\Project\\Scene-Text-Recognition\\Dataset\\yolo_data\\val\\labels.cache... 43 images, 0 backgrounds, 0 corrupt: 100%|██████████| 43/43 [00:00<?, ?it/s]\n"
     ]
    },
    {
     "name": "stdout",
     "output_type": "stream",
     "text": [
      "Plotting labels to runs\\detect\\train\\labels.jpg... \n",
      "\u001B[34m\u001B[1moptimizer:\u001B[0m 'optimizer=auto' found, ignoring 'lr0=0.01' and 'momentum=0.937' and determining best 'optimizer', 'lr0' and 'momentum' automatically... \n",
      "\u001B[34m\u001B[1moptimizer:\u001B[0m AdamW(lr=0.002, momentum=0.9) with parameter groups 57 weight(decay=0.0), 64 weight(decay=0.0005), 63 bias(decay=0.0)\n",
      "Image sizes 512 train, 512 val\n",
      "Using 8 dataloader workers\n",
      "Logging results to \u001B[1mruns\\detect\\train\u001B[0m\n",
      "Starting training for 100 epochs...\n",
      "\n",
      "      Epoch    GPU_mem   box_loss   cls_loss   dfl_loss  Instances       Size\n"
     ]
    },
    {
     "name": "stderr",
     "output_type": "stream",
     "text": [
      "      1/100     0.596G      1.587      2.322      1.372         17        512: 100%|██████████| 100/100 [00:08<00:00, 11.20it/s]\n",
      "                 Class     Images  Instances      Box(P          R      mAP50  mAP50-95): 100%|██████████| 11/11 [00:00<00:00, 16.21it/s]"
     ]
    },
    {
     "name": "stdout",
     "output_type": "stream",
     "text": [
      "                   all         43        186      0.599      0.559      0.527      0.317\n"
     ]
    },
    {
     "name": "stderr",
     "output_type": "stream",
     "text": [
      "\n"
     ]
    },
    {
     "name": "stdout",
     "output_type": "stream",
     "text": [
      "\n",
      "      Epoch    GPU_mem   box_loss   cls_loss   dfl_loss  Instances       Size\n"
     ]
    },
    {
     "name": "stderr",
     "output_type": "stream",
     "text": [
      "      2/100     0.585G      1.336      1.704      1.222         17        512: 100%|██████████| 100/100 [00:06<00:00, 14.96it/s]\n",
      "                 Class     Images  Instances      Box(P          R      mAP50  mAP50-95): 100%|██████████| 11/11 [00:00<00:00, 20.64it/s]"
     ]
    },
    {
     "name": "stdout",
     "output_type": "stream",
     "text": [
      "                   all         43        186      0.324      0.522      0.287      0.144\n"
     ]
    },
    {
     "name": "stderr",
     "output_type": "stream",
     "text": [
      "\n"
     ]
    },
    {
     "name": "stdout",
     "output_type": "stream",
     "text": [
      "\n",
      "      Epoch    GPU_mem   box_loss   cls_loss   dfl_loss  Instances       Size\n"
     ]
    },
    {
     "name": "stderr",
     "output_type": "stream",
     "text": [
      "      3/100      0.57G      1.451      1.575      1.298         12        512: 100%|██████████| 100/100 [00:06<00:00, 15.54it/s]\n",
      "                 Class     Images  Instances      Box(P          R      mAP50  mAP50-95): 100%|██████████| 11/11 [00:00<00:00, 25.53it/s]\n"
     ]
    },
    {
     "name": "stdout",
     "output_type": "stream",
     "text": [
      "                   all         43        186      0.422      0.621      0.366      0.192\n",
      "\n",
      "      Epoch    GPU_mem   box_loss   cls_loss   dfl_loss  Instances       Size\n"
     ]
    },
    {
     "name": "stderr",
     "output_type": "stream",
     "text": [
      "      4/100     0.573G      1.469      1.592      1.359         12        512: 100%|██████████| 100/100 [00:06<00:00, 16.32it/s]\n",
      "                 Class     Images  Instances      Box(P          R      mAP50  mAP50-95): 100%|██████████| 11/11 [00:00<00:00, 26.69it/s]\n"
     ]
    },
    {
     "name": "stdout",
     "output_type": "stream",
     "text": [
      "                   all         43        186      0.741      0.554      0.628      0.356\n",
      "\n",
      "      Epoch    GPU_mem   box_loss   cls_loss   dfl_loss  Instances       Size\n"
     ]
    },
    {
     "name": "stderr",
     "output_type": "stream",
     "text": [
      "      5/100      0.57G      1.429      1.456       1.27         30        512: 100%|██████████| 100/100 [00:06<00:00, 16.19it/s]\n",
      "                 Class     Images  Instances      Box(P          R      mAP50  mAP50-95): 100%|██████████| 11/11 [00:00<00:00, 24.86it/s]"
     ]
    },
    {
     "name": "stdout",
     "output_type": "stream",
     "text": [
      "                   all         43        186      0.707      0.726      0.747      0.458\n"
     ]
    },
    {
     "name": "stderr",
     "output_type": "stream",
     "text": [
      "\n"
     ]
    },
    {
     "name": "stdout",
     "output_type": "stream",
     "text": [
      "\n",
      "      Epoch    GPU_mem   box_loss   cls_loss   dfl_loss  Instances       Size\n"
     ]
    },
    {
     "name": "stderr",
     "output_type": "stream",
     "text": [
      "      6/100     0.596G      1.376      1.351      1.281         16        512: 100%|██████████| 100/100 [00:06<00:00, 16.04it/s]\n",
      "                 Class     Images  Instances      Box(P          R      mAP50  mAP50-95): 100%|██████████| 11/11 [00:00<00:00, 25.19it/s]"
     ]
    },
    {
     "name": "stdout",
     "output_type": "stream",
     "text": [
      "                   all         43        186      0.743      0.729      0.773      0.437\n"
     ]
    },
    {
     "name": "stderr",
     "output_type": "stream",
     "text": [
      "\n"
     ]
    },
    {
     "name": "stdout",
     "output_type": "stream",
     "text": [
      "\n",
      "      Epoch    GPU_mem   box_loss   cls_loss   dfl_loss  Instances       Size\n"
     ]
    },
    {
     "name": "stderr",
     "output_type": "stream",
     "text": [
      "      7/100      0.57G      1.345      1.289      1.242          7        512: 100%|██████████| 100/100 [00:06<00:00, 16.17it/s]\n",
      "                 Class     Images  Instances      Box(P          R      mAP50  mAP50-95): 100%|██████████| 11/11 [00:00<00:00, 26.30it/s]"
     ]
    },
    {
     "name": "stdout",
     "output_type": "stream",
     "text": [
      "                   all         43        186      0.776      0.796      0.789      0.426\n"
     ]
    },
    {
     "name": "stderr",
     "output_type": "stream",
     "text": [
      "\n"
     ]
    },
    {
     "name": "stdout",
     "output_type": "stream",
     "text": [
      "\n",
      "      Epoch    GPU_mem   box_loss   cls_loss   dfl_loss  Instances       Size\n"
     ]
    },
    {
     "name": "stderr",
     "output_type": "stream",
     "text": [
      "      8/100      0.57G      1.353      1.229      1.242         12        512: 100%|██████████| 100/100 [00:06<00:00, 15.61it/s]\n",
      "                 Class     Images  Instances      Box(P          R      mAP50  mAP50-95): 100%|██████████| 11/11 [00:00<00:00, 26.52it/s]"
     ]
    },
    {
     "name": "stdout",
     "output_type": "stream",
     "text": [
      "                   all         43        186      0.839      0.667      0.787      0.457\n"
     ]
    },
    {
     "name": "stderr",
     "output_type": "stream",
     "text": [
      "\n"
     ]
    },
    {
     "name": "stdout",
     "output_type": "stream",
     "text": [
      "\n",
      "      Epoch    GPU_mem   box_loss   cls_loss   dfl_loss  Instances       Size\n"
     ]
    },
    {
     "name": "stderr",
     "output_type": "stream",
     "text": [
      "      9/100     0.583G      1.316      1.218      1.216         21        512: 100%|██████████| 100/100 [00:06<00:00, 16.02it/s]\n",
      "                 Class     Images  Instances      Box(P          R      mAP50  mAP50-95): 100%|██████████| 11/11 [00:00<00:00, 24.25it/s]"
     ]
    },
    {
     "name": "stdout",
     "output_type": "stream",
     "text": [
      "                   all         43        186      0.796      0.683      0.778      0.461\n"
     ]
    },
    {
     "name": "stderr",
     "output_type": "stream",
     "text": [
      "\n"
     ]
    },
    {
     "name": "stdout",
     "output_type": "stream",
     "text": [
      "\n",
      "      Epoch    GPU_mem   box_loss   cls_loss   dfl_loss  Instances       Size\n"
     ]
    },
    {
     "name": "stderr",
     "output_type": "stream",
     "text": [
      "     10/100     0.575G      1.294        1.3      1.219         61        512: 100%|██████████| 100/100 [00:06<00:00, 15.89it/s]\n",
      "                 Class     Images  Instances      Box(P          R      mAP50  mAP50-95): 100%|██████████| 11/11 [00:00<00:00, 26.06it/s]"
     ]
    },
    {
     "name": "stdout",
     "output_type": "stream",
     "text": [
      "                   all         43        186      0.778      0.747        0.8      0.487\n"
     ]
    },
    {
     "name": "stderr",
     "output_type": "stream",
     "text": [
      "\n"
     ]
    },
    {
     "name": "stdout",
     "output_type": "stream",
     "text": [
      "\n",
      "      Epoch    GPU_mem   box_loss   cls_loss   dfl_loss  Instances       Size\n"
     ]
    },
    {
     "name": "stderr",
     "output_type": "stream",
     "text": [
      "     11/100     0.575G      1.239      1.171      1.186         15        512: 100%|██████████| 100/100 [00:06<00:00, 16.50it/s]\n",
      "                 Class     Images  Instances      Box(P          R      mAP50  mAP50-95): 100%|██████████| 11/11 [00:00<00:00, 26.16it/s]"
     ]
    },
    {
     "name": "stdout",
     "output_type": "stream",
     "text": [
      "                   all         43        186      0.762      0.769      0.748      0.437\n"
     ]
    },
    {
     "name": "stderr",
     "output_type": "stream",
     "text": [
      "\n"
     ]
    },
    {
     "name": "stdout",
     "output_type": "stream",
     "text": [
      "\n",
      "      Epoch    GPU_mem   box_loss   cls_loss   dfl_loss  Instances       Size\n"
     ]
    },
    {
     "name": "stderr",
     "output_type": "stream",
     "text": [
      "     12/100      0.57G      1.267      1.132      1.214         14        512: 100%|██████████| 100/100 [00:06<00:00, 15.77it/s]\n",
      "                 Class     Images  Instances      Box(P          R      mAP50  mAP50-95): 100%|██████████| 11/11 [00:00<00:00, 25.60it/s]"
     ]
    },
    {
     "name": "stdout",
     "output_type": "stream",
     "text": [
      "                   all         43        186      0.784      0.802      0.774      0.481\n"
     ]
    },
    {
     "name": "stderr",
     "output_type": "stream",
     "text": [
      "\n"
     ]
    },
    {
     "name": "stdout",
     "output_type": "stream",
     "text": [
      "\n",
      "      Epoch    GPU_mem   box_loss   cls_loss   dfl_loss  Instances       Size\n"
     ]
    },
    {
     "name": "stderr",
     "output_type": "stream",
     "text": [
      "     13/100     0.583G      1.213      1.096      1.171         72        512: 100%|██████████| 100/100 [00:06<00:00, 16.49it/s]\n",
      "                 Class     Images  Instances      Box(P          R      mAP50  mAP50-95): 100%|██████████| 11/11 [00:00<00:00, 23.77it/s]"
     ]
    },
    {
     "name": "stdout",
     "output_type": "stream",
     "text": [
      "                   all         43        186       0.77      0.738      0.762      0.491\n"
     ]
    },
    {
     "name": "stderr",
     "output_type": "stream",
     "text": [
      "\n"
     ]
    },
    {
     "name": "stdout",
     "output_type": "stream",
     "text": [
      "\n",
      "      Epoch    GPU_mem   box_loss   cls_loss   dfl_loss  Instances       Size\n"
     ]
    },
    {
     "name": "stderr",
     "output_type": "stream",
     "text": [
      "     14/100     0.575G      1.233      1.135      1.156          7        512: 100%|██████████| 100/100 [00:06<00:00, 15.62it/s]\n",
      "                 Class     Images  Instances      Box(P          R      mAP50  mAP50-95): 100%|██████████| 11/11 [00:00<00:00, 25.92it/s]"
     ]
    },
    {
     "name": "stdout",
     "output_type": "stream",
     "text": [
      "                   all         43        186      0.797      0.774      0.845      0.528\n"
     ]
    },
    {
     "name": "stderr",
     "output_type": "stream",
     "text": [
      "\n"
     ]
    },
    {
     "name": "stdout",
     "output_type": "stream",
     "text": [
      "\n",
      "      Epoch    GPU_mem   box_loss   cls_loss   dfl_loss  Instances       Size\n"
     ]
    },
    {
     "name": "stderr",
     "output_type": "stream",
     "text": [
      "     15/100     0.591G      1.172       1.05       1.19         17        512: 100%|██████████| 100/100 [00:06<00:00, 15.96it/s]\n",
      "                 Class     Images  Instances      Box(P          R      mAP50  mAP50-95): 100%|██████████| 11/11 [00:00<00:00, 26.49it/s]"
     ]
    },
    {
     "name": "stdout",
     "output_type": "stream",
     "text": [
      "                   all         43        186      0.833      0.774      0.848      0.552\n"
     ]
    },
    {
     "name": "stderr",
     "output_type": "stream",
     "text": [
      "\n"
     ]
    },
    {
     "name": "stdout",
     "output_type": "stream",
     "text": [
      "\n",
      "      Epoch    GPU_mem   box_loss   cls_loss   dfl_loss  Instances       Size\n"
     ]
    },
    {
     "name": "stderr",
     "output_type": "stream",
     "text": [
      "     16/100     0.591G      1.204      1.047      1.197          1        512: 100%|██████████| 100/100 [00:06<00:00, 16.40it/s]\n",
      "                 Class     Images  Instances      Box(P          R      mAP50  mAP50-95): 100%|██████████| 11/11 [00:00<00:00, 25.78it/s]"
     ]
    },
    {
     "name": "stdout",
     "output_type": "stream",
     "text": [
      "                   all         43        186      0.794      0.787      0.821       0.52\n"
     ]
    },
    {
     "name": "stderr",
     "output_type": "stream",
     "text": [
      "\n"
     ]
    },
    {
     "name": "stdout",
     "output_type": "stream",
     "text": [
      "\n",
      "      Epoch    GPU_mem   box_loss   cls_loss   dfl_loss  Instances       Size\n"
     ]
    },
    {
     "name": "stderr",
     "output_type": "stream",
     "text": [
      "     17/100     0.583G      1.173       1.08      1.154         22        512: 100%|██████████| 100/100 [00:06<00:00, 14.41it/s]\n",
      "                 Class     Images  Instances      Box(P          R      mAP50  mAP50-95): 100%|██████████| 11/11 [00:00<00:00, 24.41it/s]"
     ]
    },
    {
     "name": "stdout",
     "output_type": "stream",
     "text": [
      "                   all         43        186      0.751      0.748      0.783      0.508\n"
     ]
    },
    {
     "name": "stderr",
     "output_type": "stream",
     "text": [
      "\n"
     ]
    },
    {
     "name": "stdout",
     "output_type": "stream",
     "text": [
      "\n",
      "      Epoch    GPU_mem   box_loss   cls_loss   dfl_loss  Instances       Size\n"
     ]
    },
    {
     "name": "stderr",
     "output_type": "stream",
     "text": [
      "     18/100      0.57G      1.163       1.14      1.168          6        512: 100%|██████████| 100/100 [00:06<00:00, 16.13it/s]\n",
      "                 Class     Images  Instances      Box(P          R      mAP50  mAP50-95): 100%|██████████| 11/11 [00:00<00:00, 26.99it/s]"
     ]
    },
    {
     "name": "stdout",
     "output_type": "stream",
     "text": [
      "                   all         43        186      0.781      0.727      0.784      0.531\n"
     ]
    },
    {
     "name": "stderr",
     "output_type": "stream",
     "text": [
      "\n"
     ]
    },
    {
     "name": "stdout",
     "output_type": "stream",
     "text": [
      "\n",
      "      Epoch    GPU_mem   box_loss   cls_loss   dfl_loss  Instances       Size\n"
     ]
    },
    {
     "name": "stderr",
     "output_type": "stream",
     "text": [
      "     19/100     0.591G      1.176      1.045      1.161         13        512: 100%|██████████| 100/100 [00:06<00:00, 15.42it/s]\n",
      "                 Class     Images  Instances      Box(P          R      mAP50  mAP50-95): 100%|██████████| 11/11 [00:00<00:00, 26.83it/s]"
     ]
    },
    {
     "name": "stdout",
     "output_type": "stream",
     "text": [
      "                   all         43        186      0.762      0.757      0.768      0.495\n"
     ]
    },
    {
     "name": "stderr",
     "output_type": "stream",
     "text": [
      "\n"
     ]
    },
    {
     "name": "stdout",
     "output_type": "stream",
     "text": [
      "\n",
      "      Epoch    GPU_mem   box_loss   cls_loss   dfl_loss  Instances       Size\n"
     ]
    },
    {
     "name": "stderr",
     "output_type": "stream",
     "text": [
      "     20/100      0.57G      1.151     0.9875      1.136         11        512: 100%|██████████| 100/100 [00:06<00:00, 15.88it/s]\n",
      "                 Class     Images  Instances      Box(P          R      mAP50  mAP50-95): 100%|██████████| 11/11 [00:00<00:00, 25.96it/s]"
     ]
    },
    {
     "name": "stdout",
     "output_type": "stream",
     "text": [
      "                   all         43        186      0.928      0.763      0.848      0.551\n"
     ]
    },
    {
     "name": "stderr",
     "output_type": "stream",
     "text": [
      "\n"
     ]
    },
    {
     "name": "stdout",
     "output_type": "stream",
     "text": [
      "\n",
      "      Epoch    GPU_mem   box_loss   cls_loss   dfl_loss  Instances       Size\n"
     ]
    },
    {
     "name": "stderr",
     "output_type": "stream",
     "text": [
      "     21/100     0.583G      1.191       1.07      1.186         10        512: 100%|██████████| 100/100 [00:06<00:00, 16.43it/s]\n",
      "                 Class     Images  Instances      Box(P          R      mAP50  mAP50-95): 100%|██████████| 11/11 [00:00<00:00, 26.41it/s]"
     ]
    },
    {
     "name": "stdout",
     "output_type": "stream",
     "text": [
      "                   all         43        186       0.85      0.791      0.819      0.538\n"
     ]
    },
    {
     "name": "stderr",
     "output_type": "stream",
     "text": [
      "\n"
     ]
    },
    {
     "name": "stdout",
     "output_type": "stream",
     "text": [
      "\n",
      "      Epoch    GPU_mem   box_loss   cls_loss   dfl_loss  Instances       Size\n"
     ]
    },
    {
     "name": "stderr",
     "output_type": "stream",
     "text": [
      "     22/100     0.583G      1.131      1.007      1.136         19        512: 100%|██████████| 100/100 [00:06<00:00, 15.27it/s]\n",
      "                 Class     Images  Instances      Box(P          R      mAP50  mAP50-95): 100%|██████████| 11/11 [00:00<00:00, 24.54it/s]"
     ]
    },
    {
     "name": "stdout",
     "output_type": "stream",
     "text": [
      "                   all         43        186       0.81      0.711      0.766      0.481\n"
     ]
    },
    {
     "name": "stderr",
     "output_type": "stream",
     "text": [
      "\n"
     ]
    },
    {
     "name": "stdout",
     "output_type": "stream",
     "text": [
      "\n",
      "      Epoch    GPU_mem   box_loss   cls_loss   dfl_loss  Instances       Size\n"
     ]
    },
    {
     "name": "stderr",
     "output_type": "stream",
     "text": [
      "     23/100     0.596G      1.114     0.9771      1.121         11        512: 100%|██████████| 100/100 [00:06<00:00, 16.44it/s]\n",
      "                 Class     Images  Instances      Box(P          R      mAP50  mAP50-95): 100%|██████████| 11/11 [00:00<00:00, 27.48it/s]"
     ]
    },
    {
     "name": "stdout",
     "output_type": "stream",
     "text": [
      "                   all         43        186      0.849      0.785      0.836       0.57\n"
     ]
    },
    {
     "name": "stderr",
     "output_type": "stream",
     "text": [
      "\n"
     ]
    },
    {
     "name": "stdout",
     "output_type": "stream",
     "text": [
      "\n",
      "      Epoch    GPU_mem   box_loss   cls_loss   dfl_loss  Instances       Size\n"
     ]
    },
    {
     "name": "stderr",
     "output_type": "stream",
     "text": [
      "     24/100     0.583G        1.1     0.9539      1.119         18        512: 100%|██████████| 100/100 [00:06<00:00, 15.68it/s]\n",
      "                 Class     Images  Instances      Box(P          R      mAP50  mAP50-95): 100%|██████████| 11/11 [00:00<00:00, 25.99it/s]"
     ]
    },
    {
     "name": "stdout",
     "output_type": "stream",
     "text": [
      "                   all         43        186      0.848      0.806      0.849       0.58\n"
     ]
    },
    {
     "name": "stderr",
     "output_type": "stream",
     "text": [
      "\n"
     ]
    },
    {
     "name": "stdout",
     "output_type": "stream",
     "text": [
      "\n",
      "      Epoch    GPU_mem   box_loss   cls_loss   dfl_loss  Instances       Size\n"
     ]
    },
    {
     "name": "stderr",
     "output_type": "stream",
     "text": [
      "     25/100      0.57G      1.096     0.9704      1.128         13        512: 100%|██████████| 100/100 [00:06<00:00, 15.49it/s]\n",
      "                 Class     Images  Instances      Box(P          R      mAP50  mAP50-95): 100%|██████████| 11/11 [00:00<00:00, 26.51it/s]"
     ]
    },
    {
     "name": "stdout",
     "output_type": "stream",
     "text": [
      "                   all         43        186      0.775      0.806      0.843      0.577\n"
     ]
    },
    {
     "name": "stderr",
     "output_type": "stream",
     "text": [
      "\n"
     ]
    },
    {
     "name": "stdout",
     "output_type": "stream",
     "text": [
      "\n",
      "      Epoch    GPU_mem   box_loss   cls_loss   dfl_loss  Instances       Size\n"
     ]
    },
    {
     "name": "stderr",
     "output_type": "stream",
     "text": [
      "     26/100     0.562G      1.086     0.9311       1.11          9        512: 100%|██████████| 100/100 [00:06<00:00, 15.87it/s]\n",
      "                 Class     Images  Instances      Box(P          R      mAP50  mAP50-95): 100%|██████████| 11/11 [00:00<00:00, 26.39it/s]"
     ]
    },
    {
     "name": "stdout",
     "output_type": "stream",
     "text": [
      "                   all         43        186      0.851       0.78      0.829      0.559\n"
     ]
    },
    {
     "name": "stderr",
     "output_type": "stream",
     "text": [
      "\n"
     ]
    },
    {
     "name": "stdout",
     "output_type": "stream",
     "text": [
      "\n",
      "      Epoch    GPU_mem   box_loss   cls_loss   dfl_loss  Instances       Size\n"
     ]
    },
    {
     "name": "stderr",
     "output_type": "stream",
     "text": [
      "     27/100      0.57G      1.034     0.9255      1.106         17        512: 100%|██████████| 100/100 [00:06<00:00, 16.04it/s]\n",
      "                 Class     Images  Instances      Box(P          R      mAP50  mAP50-95): 100%|██████████| 11/11 [00:00<00:00, 25.49it/s]"
     ]
    },
    {
     "name": "stdout",
     "output_type": "stream",
     "text": [
      "                   all         43        186      0.758      0.809      0.813      0.559\n"
     ]
    },
    {
     "name": "stderr",
     "output_type": "stream",
     "text": [
      "\n"
     ]
    },
    {
     "name": "stdout",
     "output_type": "stream",
     "text": [
      "\n",
      "      Epoch    GPU_mem   box_loss   cls_loss   dfl_loss  Instances       Size\n"
     ]
    },
    {
     "name": "stderr",
     "output_type": "stream",
     "text": [
      "     28/100      0.57G      1.077     0.9402      1.116         20        512: 100%|██████████| 100/100 [00:06<00:00, 15.45it/s]\n",
      "                 Class     Images  Instances      Box(P          R      mAP50  mAP50-95): 100%|██████████| 11/11 [00:00<00:00, 25.33it/s]"
     ]
    },
    {
     "name": "stdout",
     "output_type": "stream",
     "text": [
      "                   all         43        186      0.845       0.79      0.807      0.542\n"
     ]
    },
    {
     "name": "stderr",
     "output_type": "stream",
     "text": [
      "\n"
     ]
    },
    {
     "name": "stdout",
     "output_type": "stream",
     "text": [
      "\n",
      "      Epoch    GPU_mem   box_loss   cls_loss   dfl_loss  Instances       Size\n"
     ]
    },
    {
     "name": "stderr",
     "output_type": "stream",
     "text": [
      "     29/100     0.583G      1.119      0.966      1.133         29        512: 100%|██████████| 100/100 [00:06<00:00, 15.83it/s]\n",
      "                 Class     Images  Instances      Box(P          R      mAP50  mAP50-95): 100%|██████████| 11/11 [00:00<00:00, 24.91it/s]"
     ]
    },
    {
     "name": "stdout",
     "output_type": "stream",
     "text": [
      "                   all         43        186        0.8      0.753      0.807      0.523\n"
     ]
    },
    {
     "name": "stderr",
     "output_type": "stream",
     "text": [
      "\n"
     ]
    },
    {
     "name": "stdout",
     "output_type": "stream",
     "text": [
      "\n",
      "      Epoch    GPU_mem   box_loss   cls_loss   dfl_loss  Instances       Size\n"
     ]
    },
    {
     "name": "stderr",
     "output_type": "stream",
     "text": [
      "     30/100      0.57G      1.075     0.9965      1.138         19        512: 100%|██████████| 100/100 [00:06<00:00, 15.73it/s]\n",
      "                 Class     Images  Instances      Box(P          R      mAP50  mAP50-95): 100%|██████████| 11/11 [00:00<00:00, 25.11it/s]"
     ]
    },
    {
     "name": "stdout",
     "output_type": "stream",
     "text": [
      "                   all         43        186      0.794      0.704       0.79      0.551\n"
     ]
    },
    {
     "name": "stderr",
     "output_type": "stream",
     "text": [
      "\n"
     ]
    },
    {
     "name": "stdout",
     "output_type": "stream",
     "text": [
      "\n",
      "      Epoch    GPU_mem   box_loss   cls_loss   dfl_loss  Instances       Size\n"
     ]
    },
    {
     "name": "stderr",
     "output_type": "stream",
     "text": [
      "     31/100      0.57G      1.093     0.9606      1.096         11        512: 100%|██████████| 100/100 [00:06<00:00, 15.95it/s]\n",
      "                 Class     Images  Instances      Box(P          R      mAP50  mAP50-95): 100%|██████████| 11/11 [00:00<00:00, 24.44it/s]"
     ]
    },
    {
     "name": "stdout",
     "output_type": "stream",
     "text": [
      "                   all         43        186      0.871      0.785      0.864      0.581\n"
     ]
    },
    {
     "name": "stderr",
     "output_type": "stream",
     "text": [
      "\n"
     ]
    },
    {
     "name": "stdout",
     "output_type": "stream",
     "text": [
      "\n",
      "      Epoch    GPU_mem   box_loss   cls_loss   dfl_loss  Instances       Size\n"
     ]
    },
    {
     "name": "stderr",
     "output_type": "stream",
     "text": [
      "     32/100      0.57G      1.044     0.9559      1.108          6        512: 100%|██████████| 100/100 [00:06<00:00, 15.37it/s]\n",
      "                 Class     Images  Instances      Box(P          R      mAP50  mAP50-95): 100%|██████████| 11/11 [00:00<00:00, 23.77it/s]"
     ]
    },
    {
     "name": "stdout",
     "output_type": "stream",
     "text": [
      "                   all         43        186      0.891      0.763      0.845      0.571\n"
     ]
    },
    {
     "name": "stderr",
     "output_type": "stream",
     "text": [
      "\n"
     ]
    },
    {
     "name": "stdout",
     "output_type": "stream",
     "text": [
      "\n",
      "      Epoch    GPU_mem   box_loss   cls_loss   dfl_loss  Instances       Size\n"
     ]
    },
    {
     "name": "stderr",
     "output_type": "stream",
     "text": [
      "     33/100     0.591G      1.042     0.8727      1.093         19        512: 100%|██████████| 100/100 [00:06<00:00, 15.41it/s]\n",
      "                 Class     Images  Instances      Box(P          R      mAP50  mAP50-95): 100%|██████████| 11/11 [00:00<00:00, 26.62it/s]"
     ]
    },
    {
     "name": "stdout",
     "output_type": "stream",
     "text": [
      "                   all         43        186      0.825      0.785      0.817       0.56\n"
     ]
    },
    {
     "name": "stderr",
     "output_type": "stream",
     "text": [
      "\n"
     ]
    },
    {
     "name": "stdout",
     "output_type": "stream",
     "text": [
      "\n",
      "      Epoch    GPU_mem   box_loss   cls_loss   dfl_loss  Instances       Size\n"
     ]
    },
    {
     "name": "stderr",
     "output_type": "stream",
     "text": [
      "     34/100       0.6G      1.027     0.8033      1.076         35        512: 100%|██████████| 100/100 [00:06<00:00, 16.40it/s]\n",
      "                 Class     Images  Instances      Box(P          R      mAP50  mAP50-95): 100%|██████████| 11/11 [00:00<00:00, 25.04it/s]"
     ]
    },
    {
     "name": "stdout",
     "output_type": "stream",
     "text": [
      "                   all         43        186      0.863      0.779      0.833      0.595\n"
     ]
    },
    {
     "name": "stderr",
     "output_type": "stream",
     "text": [
      "\n"
     ]
    },
    {
     "name": "stdout",
     "output_type": "stream",
     "text": [
      "\n",
      "      Epoch    GPU_mem   box_loss   cls_loss   dfl_loss  Instances       Size\n"
     ]
    },
    {
     "name": "stderr",
     "output_type": "stream",
     "text": [
      "     35/100      0.57G      1.037     0.8274      1.087         12        512: 100%|██████████| 100/100 [00:06<00:00, 15.89it/s]\n",
      "                 Class     Images  Instances      Box(P          R      mAP50  mAP50-95): 100%|██████████| 11/11 [00:00<00:00, 24.54it/s]"
     ]
    },
    {
     "name": "stdout",
     "output_type": "stream",
     "text": [
      "                   all         43        186      0.828        0.8      0.809      0.559\n"
     ]
    },
    {
     "name": "stderr",
     "output_type": "stream",
     "text": [
      "\n"
     ]
    },
    {
     "name": "stdout",
     "output_type": "stream",
     "text": [
      "\n",
      "      Epoch    GPU_mem   box_loss   cls_loss   dfl_loss  Instances       Size\n"
     ]
    },
    {
     "name": "stderr",
     "output_type": "stream",
     "text": [
      "     36/100     0.598G      1.025     0.8458      1.089          2        512: 100%|██████████| 100/100 [00:06<00:00, 15.96it/s]\n",
      "                 Class     Images  Instances      Box(P          R      mAP50  mAP50-95): 100%|██████████| 11/11 [00:00<00:00, 25.44it/s]"
     ]
    },
    {
     "name": "stdout",
     "output_type": "stream",
     "text": [
      "                   all         43        186      0.799      0.763      0.791      0.547\n"
     ]
    },
    {
     "name": "stderr",
     "output_type": "stream",
     "text": [
      "\n"
     ]
    },
    {
     "name": "stdout",
     "output_type": "stream",
     "text": [
      "\n",
      "      Epoch    GPU_mem   box_loss   cls_loss   dfl_loss  Instances       Size\n"
     ]
    },
    {
     "name": "stderr",
     "output_type": "stream",
     "text": [
      "     37/100     0.575G      1.037     0.8849      1.104          8        512: 100%|██████████| 100/100 [00:06<00:00, 15.93it/s]\n",
      "                 Class     Images  Instances      Box(P          R      mAP50  mAP50-95): 100%|██████████| 11/11 [00:00<00:00, 26.86it/s]"
     ]
    },
    {
     "name": "stdout",
     "output_type": "stream",
     "text": [
      "                   all         43        186      0.857      0.753      0.822      0.566\n"
     ]
    },
    {
     "name": "stderr",
     "output_type": "stream",
     "text": [
      "\n"
     ]
    },
    {
     "name": "stdout",
     "output_type": "stream",
     "text": [
      "\n",
      "      Epoch    GPU_mem   box_loss   cls_loss   dfl_loss  Instances       Size\n"
     ]
    },
    {
     "name": "stderr",
     "output_type": "stream",
     "text": [
      "     38/100     0.575G      1.037     0.9848      1.107          6        512: 100%|██████████| 100/100 [00:06<00:00, 15.75it/s]\n",
      "                 Class     Images  Instances      Box(P          R      mAP50  mAP50-95): 100%|██████████| 11/11 [00:00<00:00, 26.96it/s]"
     ]
    },
    {
     "name": "stdout",
     "output_type": "stream",
     "text": [
      "                   all         43        186      0.649      0.756      0.689      0.457\n"
     ]
    },
    {
     "name": "stderr",
     "output_type": "stream",
     "text": [
      "\n"
     ]
    },
    {
     "name": "stdout",
     "output_type": "stream",
     "text": [
      "\n",
      "      Epoch    GPU_mem   box_loss   cls_loss   dfl_loss  Instances       Size\n"
     ]
    },
    {
     "name": "stderr",
     "output_type": "stream",
     "text": [
      "     39/100     0.575G      1.022     0.8874      1.083         12        512: 100%|██████████| 100/100 [00:06<00:00, 15.56it/s]\n",
      "                 Class     Images  Instances      Box(P          R      mAP50  mAP50-95): 100%|██████████| 11/11 [00:00<00:00, 22.59it/s]"
     ]
    },
    {
     "name": "stdout",
     "output_type": "stream",
     "text": [
      "                   all         43        186      0.836      0.812      0.836      0.568\n"
     ]
    },
    {
     "name": "stderr",
     "output_type": "stream",
     "text": [
      "\n"
     ]
    },
    {
     "name": "stdout",
     "output_type": "stream",
     "text": [
      "\n",
      "      Epoch    GPU_mem   box_loss   cls_loss   dfl_loss  Instances       Size\n"
     ]
    },
    {
     "name": "stderr",
     "output_type": "stream",
     "text": [
      "     40/100     0.583G     0.9966     0.7989      1.082          3        512: 100%|██████████| 100/100 [00:06<00:00, 15.45it/s]\n",
      "                 Class     Images  Instances      Box(P          R      mAP50  mAP50-95): 100%|██████████| 11/11 [00:00<00:00, 25.57it/s]"
     ]
    },
    {
     "name": "stdout",
     "output_type": "stream",
     "text": [
      "                   all         43        186      0.899      0.812      0.871      0.607\n"
     ]
    },
    {
     "name": "stderr",
     "output_type": "stream",
     "text": [
      "\n"
     ]
    },
    {
     "name": "stdout",
     "output_type": "stream",
     "text": [
      "\n",
      "      Epoch    GPU_mem   box_loss   cls_loss   dfl_loss  Instances       Size\n"
     ]
    },
    {
     "name": "stderr",
     "output_type": "stream",
     "text": [
      "     41/100     0.583G      1.021     0.8029      1.085          8        512: 100%|██████████| 100/100 [00:06<00:00, 16.27it/s]\n",
      "                 Class     Images  Instances      Box(P          R      mAP50  mAP50-95): 100%|██████████| 11/11 [00:00<00:00, 25.51it/s]"
     ]
    },
    {
     "name": "stdout",
     "output_type": "stream",
     "text": [
      "                   all         43        186      0.869       0.79      0.852      0.593\n"
     ]
    },
    {
     "name": "stderr",
     "output_type": "stream",
     "text": [
      "\n"
     ]
    },
    {
     "name": "stdout",
     "output_type": "stream",
     "text": [
      "\n",
      "      Epoch    GPU_mem   box_loss   cls_loss   dfl_loss  Instances       Size\n"
     ]
    },
    {
     "name": "stderr",
     "output_type": "stream",
     "text": [
      "     42/100      0.57G     0.9839     0.7947      1.057          8        512: 100%|██████████| 100/100 [00:06<00:00, 15.94it/s]\n",
      "                 Class     Images  Instances      Box(P          R      mAP50  mAP50-95): 100%|██████████| 11/11 [00:00<00:00, 24.89it/s]"
     ]
    },
    {
     "name": "stdout",
     "output_type": "stream",
     "text": [
      "                   all         43        186      0.849      0.814      0.857      0.594\n"
     ]
    },
    {
     "name": "stderr",
     "output_type": "stream",
     "text": [
      "\n"
     ]
    },
    {
     "name": "stdout",
     "output_type": "stream",
     "text": [
      "\n",
      "      Epoch    GPU_mem   box_loss   cls_loss   dfl_loss  Instances       Size\n"
     ]
    },
    {
     "name": "stderr",
     "output_type": "stream",
     "text": [
      "     43/100      0.57G     0.9924     0.7706      1.051         14        512: 100%|██████████| 100/100 [00:06<00:00, 16.14it/s]\n",
      "                 Class     Images  Instances      Box(P          R      mAP50  mAP50-95): 100%|██████████| 11/11 [00:00<00:00, 26.28it/s]"
     ]
    },
    {
     "name": "stdout",
     "output_type": "stream",
     "text": [
      "                   all         43        186      0.853      0.779      0.852      0.598\n"
     ]
    },
    {
     "name": "stderr",
     "output_type": "stream",
     "text": [
      "\n"
     ]
    },
    {
     "name": "stdout",
     "output_type": "stream",
     "text": [
      "\n",
      "      Epoch    GPU_mem   box_loss   cls_loss   dfl_loss  Instances       Size\n"
     ]
    },
    {
     "name": "stderr",
     "output_type": "stream",
     "text": [
      "     44/100     0.583G     0.9894     0.7904      1.074         33        512: 100%|██████████| 100/100 [00:06<00:00, 16.44it/s]\n",
      "                 Class     Images  Instances      Box(P          R      mAP50  mAP50-95): 100%|██████████| 11/11 [00:00<00:00, 25.82it/s]"
     ]
    },
    {
     "name": "stdout",
     "output_type": "stream",
     "text": [
      "                   all         43        186      0.885      0.785      0.863      0.622\n"
     ]
    },
    {
     "name": "stderr",
     "output_type": "stream",
     "text": [
      "\n"
     ]
    },
    {
     "name": "stdout",
     "output_type": "stream",
     "text": [
      "\n",
      "      Epoch    GPU_mem   box_loss   cls_loss   dfl_loss  Instances       Size\n"
     ]
    },
    {
     "name": "stderr",
     "output_type": "stream",
     "text": [
      "     45/100     0.583G     0.9478     0.7694      1.062          9        512: 100%|██████████| 100/100 [00:06<00:00, 15.82it/s]\n",
      "                 Class     Images  Instances      Box(P          R      mAP50  mAP50-95): 100%|██████████| 11/11 [00:00<00:00, 24.24it/s]"
     ]
    },
    {
     "name": "stdout",
     "output_type": "stream",
     "text": [
      "                   all         43        186       0.92      0.805      0.873       0.62\n"
     ]
    },
    {
     "name": "stderr",
     "output_type": "stream",
     "text": [
      "\n"
     ]
    },
    {
     "name": "stdout",
     "output_type": "stream",
     "text": [
      "\n",
      "      Epoch    GPU_mem   box_loss   cls_loss   dfl_loss  Instances       Size\n"
     ]
    },
    {
     "name": "stderr",
     "output_type": "stream",
     "text": [
      "     46/100     0.579G     0.9842     0.7883      1.074         29        512: 100%|██████████| 100/100 [00:05<00:00, 16.86it/s]\n",
      "                 Class     Images  Instances      Box(P          R      mAP50  mAP50-95): 100%|██████████| 11/11 [00:00<00:00, 25.47it/s]"
     ]
    },
    {
     "name": "stdout",
     "output_type": "stream",
     "text": [
      "                   all         43        186      0.846      0.798      0.847      0.601\n"
     ]
    },
    {
     "name": "stderr",
     "output_type": "stream",
     "text": [
      "\n"
     ]
    },
    {
     "name": "stdout",
     "output_type": "stream",
     "text": [
      "\n",
      "      Epoch    GPU_mem   box_loss   cls_loss   dfl_loss  Instances       Size\n"
     ]
    },
    {
     "name": "stderr",
     "output_type": "stream",
     "text": [
      "     47/100     0.591G       0.95     0.7358      1.051         12        512: 100%|██████████| 100/100 [00:06<00:00, 16.18it/s]\n",
      "                 Class     Images  Instances      Box(P          R      mAP50  mAP50-95): 100%|██████████| 11/11 [00:00<00:00, 25.68it/s]"
     ]
    },
    {
     "name": "stdout",
     "output_type": "stream",
     "text": [
      "                   all         43        186      0.807      0.817      0.839      0.597\n"
     ]
    },
    {
     "name": "stderr",
     "output_type": "stream",
     "text": [
      "\n"
     ]
    },
    {
     "name": "stdout",
     "output_type": "stream",
     "text": [
      "\n",
      "      Epoch    GPU_mem   box_loss   cls_loss   dfl_loss  Instances       Size\n"
     ]
    },
    {
     "name": "stderr",
     "output_type": "stream",
     "text": [
      "     48/100     0.591G     0.9437     0.7443      1.031         18        512: 100%|██████████| 100/100 [00:06<00:00, 15.73it/s]\n",
      "                 Class     Images  Instances      Box(P          R      mAP50  mAP50-95): 100%|██████████| 11/11 [00:00<00:00, 26.19it/s]"
     ]
    },
    {
     "name": "stdout",
     "output_type": "stream",
     "text": [
      "                   all         43        186      0.843      0.833      0.856      0.613\n"
     ]
    },
    {
     "name": "stderr",
     "output_type": "stream",
     "text": [
      "\n"
     ]
    },
    {
     "name": "stdout",
     "output_type": "stream",
     "text": [
      "\n",
      "      Epoch    GPU_mem   box_loss   cls_loss   dfl_loss  Instances       Size\n"
     ]
    },
    {
     "name": "stderr",
     "output_type": "stream",
     "text": [
      "     49/100     0.591G     0.9341     0.7652      1.066         16        512: 100%|██████████| 100/100 [00:05<00:00, 16.88it/s]\n",
      "                 Class     Images  Instances      Box(P          R      mAP50  mAP50-95): 100%|██████████| 11/11 [00:00<00:00, 26.78it/s]"
     ]
    },
    {
     "name": "stdout",
     "output_type": "stream",
     "text": [
      "                   all         43        186       0.85      0.854      0.879      0.624\n"
     ]
    },
    {
     "name": "stderr",
     "output_type": "stream",
     "text": [
      "\n"
     ]
    },
    {
     "name": "stdout",
     "output_type": "stream",
     "text": [
      "\n",
      "      Epoch    GPU_mem   box_loss   cls_loss   dfl_loss  Instances       Size\n"
     ]
    },
    {
     "name": "stderr",
     "output_type": "stream",
     "text": [
      "     50/100     0.583G     0.9494     0.7676      1.059          5        512: 100%|██████████| 100/100 [00:06<00:00, 15.69it/s]\n",
      "                 Class     Images  Instances      Box(P          R      mAP50  mAP50-95): 100%|██████████| 11/11 [00:00<00:00, 25.80it/s]"
     ]
    },
    {
     "name": "stdout",
     "output_type": "stream",
     "text": [
      "                   all         43        186      0.898      0.763      0.857      0.606\n"
     ]
    },
    {
     "name": "stderr",
     "output_type": "stream",
     "text": [
      "\n"
     ]
    },
    {
     "name": "stdout",
     "output_type": "stream",
     "text": [
      "\n",
      "      Epoch    GPU_mem   box_loss   cls_loss   dfl_loss  Instances       Size\n"
     ]
    },
    {
     "name": "stderr",
     "output_type": "stream",
     "text": [
      "     51/100      0.57G     0.9394     0.7835      1.041         14        512: 100%|██████████| 100/100 [00:06<00:00, 16.04it/s]\n",
      "                 Class     Images  Instances      Box(P          R      mAP50  mAP50-95): 100%|██████████| 11/11 [00:00<00:00, 25.39it/s]"
     ]
    },
    {
     "name": "stdout",
     "output_type": "stream",
     "text": [
      "                   all         43        186      0.868      0.753      0.845      0.612\n"
     ]
    },
    {
     "name": "stderr",
     "output_type": "stream",
     "text": [
      "\n"
     ]
    },
    {
     "name": "stdout",
     "output_type": "stream",
     "text": [
      "\n",
      "      Epoch    GPU_mem   box_loss   cls_loss   dfl_loss  Instances       Size\n"
     ]
    },
    {
     "name": "stderr",
     "output_type": "stream",
     "text": [
      "     52/100     0.585G     0.8901     0.7373      1.029         60        512: 100%|██████████| 100/100 [00:06<00:00, 16.23it/s]\n",
      "                 Class     Images  Instances      Box(P          R      mAP50  mAP50-95): 100%|██████████| 11/11 [00:00<00:00, 24.98it/s]"
     ]
    },
    {
     "name": "stdout",
     "output_type": "stream",
     "text": [
      "                   all         43        186      0.855      0.774      0.854        0.6\n"
     ]
    },
    {
     "name": "stderr",
     "output_type": "stream",
     "text": [
      "\n"
     ]
    },
    {
     "name": "stdout",
     "output_type": "stream",
     "text": [
      "\n",
      "      Epoch    GPU_mem   box_loss   cls_loss   dfl_loss  Instances       Size\n"
     ]
    },
    {
     "name": "stderr",
     "output_type": "stream",
     "text": [
      "     53/100      0.57G     0.8886     0.7198      1.016          8        512: 100%|██████████| 100/100 [00:06<00:00, 16.34it/s]\n",
      "                 Class     Images  Instances      Box(P          R      mAP50  mAP50-95): 100%|██████████| 11/11 [00:00<00:00, 24.06it/s]"
     ]
    },
    {
     "name": "stdout",
     "output_type": "stream",
     "text": [
      "                   all         43        186      0.836      0.793      0.854      0.608\n"
     ]
    },
    {
     "name": "stderr",
     "output_type": "stream",
     "text": [
      "\n"
     ]
    },
    {
     "name": "stdout",
     "output_type": "stream",
     "text": [
      "\n",
      "      Epoch    GPU_mem   box_loss   cls_loss   dfl_loss  Instances       Size\n"
     ]
    },
    {
     "name": "stderr",
     "output_type": "stream",
     "text": [
      "     54/100     0.583G     0.8583      0.707      1.003          6        512: 100%|██████████| 100/100 [00:06<00:00, 16.02it/s]\n",
      "                 Class     Images  Instances      Box(P          R      mAP50  mAP50-95): 100%|██████████| 11/11 [00:00<00:00, 25.34it/s]"
     ]
    },
    {
     "name": "stdout",
     "output_type": "stream",
     "text": [
      "                   all         43        186      0.877      0.796      0.855      0.613\n"
     ]
    },
    {
     "name": "stderr",
     "output_type": "stream",
     "text": [
      "\n"
     ]
    },
    {
     "name": "stdout",
     "output_type": "stream",
     "text": [
      "\n",
      "      Epoch    GPU_mem   box_loss   cls_loss   dfl_loss  Instances       Size\n"
     ]
    },
    {
     "name": "stderr",
     "output_type": "stream",
     "text": [
      "     55/100     0.583G     0.9145     0.6856      1.025         15        512: 100%|██████████| 100/100 [00:06<00:00, 15.93it/s]\n",
      "                 Class     Images  Instances      Box(P          R      mAP50  mAP50-95): 100%|██████████| 11/11 [00:00<00:00, 24.05it/s]"
     ]
    },
    {
     "name": "stdout",
     "output_type": "stream",
     "text": [
      "                   all         43        186       0.92      0.769      0.854      0.624\n"
     ]
    },
    {
     "name": "stderr",
     "output_type": "stream",
     "text": [
      "\n"
     ]
    },
    {
     "name": "stdout",
     "output_type": "stream",
     "text": [
      "\n",
      "      Epoch    GPU_mem   box_loss   cls_loss   dfl_loss  Instances       Size\n"
     ]
    },
    {
     "name": "stderr",
     "output_type": "stream",
     "text": [
      "     56/100     0.583G     0.8945     0.7092      1.025          9        512: 100%|██████████| 100/100 [00:06<00:00, 15.97it/s]\n",
      "                 Class     Images  Instances      Box(P          R      mAP50  mAP50-95): 100%|██████████| 11/11 [00:00<00:00, 27.18it/s]"
     ]
    },
    {
     "name": "stdout",
     "output_type": "stream",
     "text": [
      "                   all         43        186      0.888      0.753      0.831      0.607\n"
     ]
    },
    {
     "name": "stderr",
     "output_type": "stream",
     "text": [
      "\n"
     ]
    },
    {
     "name": "stdout",
     "output_type": "stream",
     "text": [
      "\n",
      "      Epoch    GPU_mem   box_loss   cls_loss   dfl_loss  Instances       Size\n"
     ]
    },
    {
     "name": "stderr",
     "output_type": "stream",
     "text": [
      "     57/100     0.583G     0.8997     0.7499      1.024          4        512: 100%|██████████| 100/100 [00:06<00:00, 16.03it/s]\n",
      "                 Class     Images  Instances      Box(P          R      mAP50  mAP50-95): 100%|██████████| 11/11 [00:00<00:00, 26.73it/s]"
     ]
    },
    {
     "name": "stdout",
     "output_type": "stream",
     "text": [
      "                   all         43        186      0.906      0.781      0.863      0.618\n"
     ]
    },
    {
     "name": "stderr",
     "output_type": "stream",
     "text": [
      "\n"
     ]
    },
    {
     "name": "stdout",
     "output_type": "stream",
     "text": [
      "\n",
      "      Epoch    GPU_mem   box_loss   cls_loss   dfl_loss  Instances       Size\n"
     ]
    },
    {
     "name": "stderr",
     "output_type": "stream",
     "text": [
      "     58/100      0.57G     0.9271     0.7203       1.06         27        512: 100%|██████████| 100/100 [00:06<00:00, 15.94it/s]\n",
      "                 Class     Images  Instances      Box(P          R      mAP50  mAP50-95): 100%|██████████| 11/11 [00:00<00:00, 22.85it/s]"
     ]
    },
    {
     "name": "stdout",
     "output_type": "stream",
     "text": [
      "                   all         43        186      0.898      0.805      0.863      0.627\n"
     ]
    },
    {
     "name": "stderr",
     "output_type": "stream",
     "text": [
      "\n"
     ]
    },
    {
     "name": "stdout",
     "output_type": "stream",
     "text": [
      "\n",
      "      Epoch    GPU_mem   box_loss   cls_loss   dfl_loss  Instances       Size\n"
     ]
    },
    {
     "name": "stderr",
     "output_type": "stream",
     "text": [
      "     59/100      0.57G     0.8838      0.723       1.03         10        512: 100%|██████████| 100/100 [00:06<00:00, 16.23it/s]\n",
      "                 Class     Images  Instances      Box(P          R      mAP50  mAP50-95): 100%|██████████| 11/11 [00:00<00:00, 25.94it/s]"
     ]
    },
    {
     "name": "stdout",
     "output_type": "stream",
     "text": [
      "                   all         43        186      0.895      0.763      0.835      0.609\n"
     ]
    },
    {
     "name": "stderr",
     "output_type": "stream",
     "text": [
      "\n"
     ]
    },
    {
     "name": "stdout",
     "output_type": "stream",
     "text": [
      "\n",
      "      Epoch    GPU_mem   box_loss   cls_loss   dfl_loss  Instances       Size\n"
     ]
    },
    {
     "name": "stderr",
     "output_type": "stream",
     "text": [
      "     60/100     0.585G     0.8969     0.7026      1.014         33        512: 100%|██████████| 100/100 [00:06<00:00, 16.41it/s]\n",
      "                 Class     Images  Instances      Box(P          R      mAP50  mAP50-95): 100%|██████████| 11/11 [00:00<00:00, 23.62it/s]"
     ]
    },
    {
     "name": "stdout",
     "output_type": "stream",
     "text": [
      "                   all         43        186      0.916      0.742      0.848      0.626\n"
     ]
    },
    {
     "name": "stderr",
     "output_type": "stream",
     "text": [
      "\n"
     ]
    },
    {
     "name": "stdout",
     "output_type": "stream",
     "text": [
      "\n",
      "      Epoch    GPU_mem   box_loss   cls_loss   dfl_loss  Instances       Size\n"
     ]
    },
    {
     "name": "stderr",
     "output_type": "stream",
     "text": [
      "     61/100     0.583G     0.8645     0.7011      1.002          5        512: 100%|██████████| 100/100 [00:06<00:00, 15.03it/s]\n",
      "                 Class     Images  Instances      Box(P          R      mAP50  mAP50-95): 100%|██████████| 11/11 [00:00<00:00, 24.97it/s]"
     ]
    },
    {
     "name": "stdout",
     "output_type": "stream",
     "text": [
      "                   all         43        186      0.925      0.798      0.859      0.641\n"
     ]
    },
    {
     "name": "stderr",
     "output_type": "stream",
     "text": [
      "\n"
     ]
    },
    {
     "name": "stdout",
     "output_type": "stream",
     "text": [
      "\n",
      "      Epoch    GPU_mem   box_loss   cls_loss   dfl_loss  Instances       Size\n"
     ]
    },
    {
     "name": "stderr",
     "output_type": "stream",
     "text": [
      "     62/100     0.581G     0.8794     0.6803       1.01         17        512: 100%|██████████| 100/100 [00:06<00:00, 15.41it/s]\n",
      "                 Class     Images  Instances      Box(P          R      mAP50  mAP50-95): 100%|██████████| 11/11 [00:00<00:00, 26.68it/s]"
     ]
    },
    {
     "name": "stdout",
     "output_type": "stream",
     "text": [
      "                   all         43        186      0.932      0.805      0.869      0.615\n"
     ]
    },
    {
     "name": "stderr",
     "output_type": "stream",
     "text": [
      "\n"
     ]
    },
    {
     "name": "stdout",
     "output_type": "stream",
     "text": [
      "\n",
      "      Epoch    GPU_mem   box_loss   cls_loss   dfl_loss  Instances       Size\n"
     ]
    },
    {
     "name": "stderr",
     "output_type": "stream",
     "text": [
      "     63/100      0.57G     0.8862     0.7123      1.014         12        512: 100%|██████████| 100/100 [00:06<00:00, 15.75it/s]\n",
      "                 Class     Images  Instances      Box(P          R      mAP50  mAP50-95): 100%|██████████| 11/11 [00:00<00:00, 25.95it/s]"
     ]
    },
    {
     "name": "stdout",
     "output_type": "stream",
     "text": [
      "                   all         43        186      0.879       0.78      0.849      0.615\n"
     ]
    },
    {
     "name": "stderr",
     "output_type": "stream",
     "text": [
      "\n"
     ]
    },
    {
     "name": "stdout",
     "output_type": "stream",
     "text": [
      "\n",
      "      Epoch    GPU_mem   box_loss   cls_loss   dfl_loss  Instances       Size\n"
     ]
    },
    {
     "name": "stderr",
     "output_type": "stream",
     "text": [
      "     64/100     0.585G     0.8542     0.6661      1.012         18        512: 100%|██████████| 100/100 [00:06<00:00, 16.03it/s]\n",
      "                 Class     Images  Instances      Box(P          R      mAP50  mAP50-95): 100%|██████████| 11/11 [00:00<00:00, 25.88it/s]"
     ]
    },
    {
     "name": "stdout",
     "output_type": "stream",
     "text": [
      "                   all         43        186      0.845       0.78      0.858      0.625\n"
     ]
    },
    {
     "name": "stderr",
     "output_type": "stream",
     "text": [
      "\n"
     ]
    },
    {
     "name": "stdout",
     "output_type": "stream",
     "text": [
      "\n",
      "      Epoch    GPU_mem   box_loss   cls_loss   dfl_loss  Instances       Size\n"
     ]
    },
    {
     "name": "stderr",
     "output_type": "stream",
     "text": [
      "     65/100      0.57G     0.8664     0.6938      1.005          8        512: 100%|██████████| 100/100 [00:06<00:00, 16.11it/s]\n",
      "                 Class     Images  Instances      Box(P          R      mAP50  mAP50-95): 100%|██████████| 11/11 [00:00<00:00, 25.80it/s]"
     ]
    },
    {
     "name": "stdout",
     "output_type": "stream",
     "text": [
      "                   all         43        186      0.866      0.806       0.86      0.622\n"
     ]
    },
    {
     "name": "stderr",
     "output_type": "stream",
     "text": [
      "\n"
     ]
    },
    {
     "name": "stdout",
     "output_type": "stream",
     "text": [
      "\n",
      "      Epoch    GPU_mem   box_loss   cls_loss   dfl_loss  Instances       Size\n"
     ]
    },
    {
     "name": "stderr",
     "output_type": "stream",
     "text": [
      "     66/100     0.591G     0.8795     0.6851     0.9999         30        512: 100%|██████████| 100/100 [00:06<00:00, 15.89it/s]\n",
      "                 Class     Images  Instances      Box(P          R      mAP50  mAP50-95): 100%|██████████| 11/11 [00:00<00:00, 26.04it/s]"
     ]
    },
    {
     "name": "stdout",
     "output_type": "stream",
     "text": [
      "                   all         43        186      0.888      0.769      0.856      0.637\n"
     ]
    },
    {
     "name": "stderr",
     "output_type": "stream",
     "text": [
      "\n"
     ]
    },
    {
     "name": "stdout",
     "output_type": "stream",
     "text": [
      "\n",
      "      Epoch    GPU_mem   box_loss   cls_loss   dfl_loss  Instances       Size\n"
     ]
    },
    {
     "name": "stderr",
     "output_type": "stream",
     "text": [
      "     67/100     0.583G     0.8596     0.6627     0.9973         15        512: 100%|██████████| 100/100 [00:05<00:00, 16.79it/s]\n",
      "                 Class     Images  Instances      Box(P          R      mAP50  mAP50-95): 100%|██████████| 11/11 [00:00<00:00, 24.91it/s]"
     ]
    },
    {
     "name": "stdout",
     "output_type": "stream",
     "text": [
      "                   all         43        186      0.895      0.821      0.866      0.632\n"
     ]
    },
    {
     "name": "stderr",
     "output_type": "stream",
     "text": [
      "\n"
     ]
    },
    {
     "name": "stdout",
     "output_type": "stream",
     "text": [
      "\n",
      "      Epoch    GPU_mem   box_loss   cls_loss   dfl_loss  Instances       Size\n"
     ]
    },
    {
     "name": "stderr",
     "output_type": "stream",
     "text": [
      "     68/100      0.57G     0.8323     0.6321     0.9951         14        512: 100%|██████████| 100/100 [00:06<00:00, 16.02it/s]\n",
      "                 Class     Images  Instances      Box(P          R      mAP50  mAP50-95): 100%|██████████| 11/11 [00:00<00:00, 25.70it/s]"
     ]
    },
    {
     "name": "stdout",
     "output_type": "stream",
     "text": [
      "                   all         43        186      0.898      0.851      0.867      0.617\n"
     ]
    },
    {
     "name": "stderr",
     "output_type": "stream",
     "text": [
      "\n"
     ]
    },
    {
     "name": "stdout",
     "output_type": "stream",
     "text": [
      "\n",
      "      Epoch    GPU_mem   box_loss   cls_loss   dfl_loss  Instances       Size\n"
     ]
    },
    {
     "name": "stderr",
     "output_type": "stream",
     "text": [
      "     69/100      0.57G     0.8304     0.7028      1.007          2        512: 100%|██████████| 100/100 [00:06<00:00, 16.15it/s]\n",
      "                 Class     Images  Instances      Box(P          R      mAP50  mAP50-95): 100%|██████████| 11/11 [00:00<00:00, 27.15it/s]"
     ]
    },
    {
     "name": "stdout",
     "output_type": "stream",
     "text": [
      "                   all         43        186      0.901      0.855      0.883       0.65\n"
     ]
    },
    {
     "name": "stderr",
     "output_type": "stream",
     "text": [
      "\n"
     ]
    },
    {
     "name": "stdout",
     "output_type": "stream",
     "text": [
      "\n",
      "      Epoch    GPU_mem   box_loss   cls_loss   dfl_loss  Instances       Size\n"
     ]
    },
    {
     "name": "stderr",
     "output_type": "stream",
     "text": [
      "     70/100     0.579G     0.8133     0.6269     0.9935         18        512: 100%|██████████| 100/100 [00:06<00:00, 16.16it/s]\n",
      "                 Class     Images  Instances      Box(P          R      mAP50  mAP50-95): 100%|██████████| 11/11 [00:00<00:00, 25.66it/s]"
     ]
    },
    {
     "name": "stdout",
     "output_type": "stream",
     "text": [
      "                   all         43        186      0.889      0.858      0.884      0.659\n"
     ]
    },
    {
     "name": "stderr",
     "output_type": "stream",
     "text": [
      "\n"
     ]
    },
    {
     "name": "stdout",
     "output_type": "stream",
     "text": [
      "\n",
      "      Epoch    GPU_mem   box_loss   cls_loss   dfl_loss  Instances       Size\n"
     ]
    },
    {
     "name": "stderr",
     "output_type": "stream",
     "text": [
      "     71/100      0.57G     0.8037     0.6021     0.9952          9        512: 100%|██████████| 100/100 [00:06<00:00, 16.09it/s]\n",
      "                 Class     Images  Instances      Box(P          R      mAP50  mAP50-95): 100%|██████████| 11/11 [00:00<00:00, 25.43it/s]"
     ]
    },
    {
     "name": "stdout",
     "output_type": "stream",
     "text": [
      "                   all         43        186      0.891      0.844      0.866      0.633\n"
     ]
    },
    {
     "name": "stderr",
     "output_type": "stream",
     "text": [
      "\n"
     ]
    },
    {
     "name": "stdout",
     "output_type": "stream",
     "text": [
      "\n",
      "      Epoch    GPU_mem   box_loss   cls_loss   dfl_loss  Instances       Size\n"
     ]
    },
    {
     "name": "stderr",
     "output_type": "stream",
     "text": [
      "     72/100     0.583G     0.8188     0.6386      1.004         12        512: 100%|██████████| 100/100 [00:06<00:00, 16.35it/s]\n",
      "                 Class     Images  Instances      Box(P          R      mAP50  mAP50-95): 100%|██████████| 11/11 [00:00<00:00, 26.42it/s]"
     ]
    },
    {
     "name": "stdout",
     "output_type": "stream",
     "text": [
      "                   all         43        186       0.87       0.83      0.863      0.649\n"
     ]
    },
    {
     "name": "stderr",
     "output_type": "stream",
     "text": [
      "\n"
     ]
    },
    {
     "name": "stdout",
     "output_type": "stream",
     "text": [
      "\n",
      "      Epoch    GPU_mem   box_loss   cls_loss   dfl_loss  Instances       Size\n"
     ]
    },
    {
     "name": "stderr",
     "output_type": "stream",
     "text": [
      "     73/100     0.587G     0.8135     0.6153     0.9705          7        512: 100%|██████████| 100/100 [00:06<00:00, 15.62it/s]\n",
      "                 Class     Images  Instances      Box(P          R      mAP50  mAP50-95): 100%|██████████| 11/11 [00:00<00:00, 26.27it/s]"
     ]
    },
    {
     "name": "stdout",
     "output_type": "stream",
     "text": [
      "                   all         43        186      0.854       0.79      0.848      0.629\n"
     ]
    },
    {
     "name": "stderr",
     "output_type": "stream",
     "text": [
      "\n"
     ]
    },
    {
     "name": "stdout",
     "output_type": "stream",
     "text": [
      "\n",
      "      Epoch    GPU_mem   box_loss   cls_loss   dfl_loss  Instances       Size\n"
     ]
    },
    {
     "name": "stderr",
     "output_type": "stream",
     "text": [
      "     74/100     0.591G     0.8115     0.6407      1.008         13        512: 100%|██████████| 100/100 [00:06<00:00, 16.07it/s]\n",
      "                 Class     Images  Instances      Box(P          R      mAP50  mAP50-95): 100%|██████████| 11/11 [00:00<00:00, 25.94it/s]"
     ]
    },
    {
     "name": "stdout",
     "output_type": "stream",
     "text": [
      "                   all         43        186      0.881      0.801      0.854      0.619\n"
     ]
    },
    {
     "name": "stderr",
     "output_type": "stream",
     "text": [
      "\n"
     ]
    },
    {
     "name": "stdout",
     "output_type": "stream",
     "text": [
      "\n",
      "      Epoch    GPU_mem   box_loss   cls_loss   dfl_loss  Instances       Size\n"
     ]
    },
    {
     "name": "stderr",
     "output_type": "stream",
     "text": [
      "     75/100      0.57G     0.8207     0.6406     0.9742         13        512: 100%|██████████| 100/100 [00:06<00:00, 16.26it/s]\n",
      "                 Class     Images  Instances      Box(P          R      mAP50  mAP50-95): 100%|██████████| 11/11 [00:00<00:00, 24.28it/s]"
     ]
    },
    {
     "name": "stdout",
     "output_type": "stream",
     "text": [
      "                   all         43        186      0.877      0.839      0.865      0.622\n"
     ]
    },
    {
     "name": "stderr",
     "output_type": "stream",
     "text": [
      "\n"
     ]
    },
    {
     "name": "stdout",
     "output_type": "stream",
     "text": [
      "\n",
      "      Epoch    GPU_mem   box_loss   cls_loss   dfl_loss  Instances       Size\n"
     ]
    },
    {
     "name": "stderr",
     "output_type": "stream",
     "text": [
      "     76/100     0.583G     0.8069     0.6276     0.9763         23        512: 100%|██████████| 100/100 [00:06<00:00, 16.37it/s]\n",
      "                 Class     Images  Instances      Box(P          R      mAP50  mAP50-95): 100%|██████████| 11/11 [00:00<00:00, 25.30it/s]"
     ]
    },
    {
     "name": "stdout",
     "output_type": "stream",
     "text": [
      "                   all         43        186      0.905      0.823      0.877      0.645\n"
     ]
    },
    {
     "name": "stderr",
     "output_type": "stream",
     "text": [
      "\n"
     ]
    },
    {
     "name": "stdout",
     "output_type": "stream",
     "text": [
      "\n",
      "      Epoch    GPU_mem   box_loss   cls_loss   dfl_loss  Instances       Size\n"
     ]
    },
    {
     "name": "stderr",
     "output_type": "stream",
     "text": [
      "     77/100     0.583G     0.8307     0.5995     0.9769         11        512: 100%|██████████| 100/100 [00:06<00:00, 16.04it/s]\n",
      "                 Class     Images  Instances      Box(P          R      mAP50  mAP50-95): 100%|██████████| 11/11 [00:00<00:00, 26.06it/s]"
     ]
    },
    {
     "name": "stdout",
     "output_type": "stream",
     "text": [
      "                   all         43        186      0.887      0.828      0.868      0.633\n"
     ]
    },
    {
     "name": "stderr",
     "output_type": "stream",
     "text": [
      "\n"
     ]
    },
    {
     "name": "stdout",
     "output_type": "stream",
     "text": [
      "\n",
      "      Epoch    GPU_mem   box_loss   cls_loss   dfl_loss  Instances       Size\n"
     ]
    },
    {
     "name": "stderr",
     "output_type": "stream",
     "text": [
      "     78/100     0.575G      0.805     0.6046     0.9801          4        512: 100%|██████████| 100/100 [00:06<00:00, 16.65it/s]\n",
      "                 Class     Images  Instances      Box(P          R      mAP50  mAP50-95): 100%|██████████| 11/11 [00:00<00:00, 25.44it/s]"
     ]
    },
    {
     "name": "stdout",
     "output_type": "stream",
     "text": [
      "                   all         43        186      0.909      0.844      0.889      0.647\n"
     ]
    },
    {
     "name": "stderr",
     "output_type": "stream",
     "text": [
      "\n"
     ]
    },
    {
     "name": "stdout",
     "output_type": "stream",
     "text": [
      "\n",
      "      Epoch    GPU_mem   box_loss   cls_loss   dfl_loss  Instances       Size\n"
     ]
    },
    {
     "name": "stderr",
     "output_type": "stream",
     "text": [
      "     79/100     0.562G     0.7594     0.5729     0.9628          8        512: 100%|██████████| 100/100 [00:06<00:00, 16.31it/s]\n",
      "                 Class     Images  Instances      Box(P          R      mAP50  mAP50-95): 100%|██████████| 11/11 [00:00<00:00, 25.32it/s]"
     ]
    },
    {
     "name": "stdout",
     "output_type": "stream",
     "text": [
      "                   all         43        186      0.901      0.835      0.881      0.662\n"
     ]
    },
    {
     "name": "stderr",
     "output_type": "stream",
     "text": [
      "\n"
     ]
    },
    {
     "name": "stdout",
     "output_type": "stream",
     "text": [
      "\n",
      "      Epoch    GPU_mem   box_loss   cls_loss   dfl_loss  Instances       Size\n"
     ]
    },
    {
     "name": "stderr",
     "output_type": "stream",
     "text": [
      "     80/100     0.583G     0.7799     0.5882     0.9622         20        512: 100%|██████████| 100/100 [00:06<00:00, 16.49it/s]\n",
      "                 Class     Images  Instances      Box(P          R      mAP50  mAP50-95): 100%|██████████| 11/11 [00:00<00:00, 24.64it/s]"
     ]
    },
    {
     "name": "stdout",
     "output_type": "stream",
     "text": [
      "                   all         43        186        0.9      0.839      0.889      0.671\n"
     ]
    },
    {
     "name": "stderr",
     "output_type": "stream",
     "text": [
      "\n"
     ]
    },
    {
     "name": "stdout",
     "output_type": "stream",
     "text": [
      "\n",
      "      Epoch    GPU_mem   box_loss   cls_loss   dfl_loss  Instances       Size\n"
     ]
    },
    {
     "name": "stderr",
     "output_type": "stream",
     "text": [
      "     81/100      0.57G     0.7893     0.6105     0.9839          8        512: 100%|██████████| 100/100 [00:06<00:00, 16.18it/s]\n",
      "                 Class     Images  Instances      Box(P          R      mAP50  mAP50-95): 100%|██████████| 11/11 [00:00<00:00, 26.50it/s]"
     ]
    },
    {
     "name": "stdout",
     "output_type": "stream",
     "text": [
      "                   all         43        186      0.911      0.844      0.897      0.669\n"
     ]
    },
    {
     "name": "stderr",
     "output_type": "stream",
     "text": [
      "\n"
     ]
    },
    {
     "name": "stdout",
     "output_type": "stream",
     "text": [
      "\n",
      "      Epoch    GPU_mem   box_loss   cls_loss   dfl_loss  Instances       Size\n"
     ]
    },
    {
     "name": "stderr",
     "output_type": "stream",
     "text": [
      "     82/100      0.57G     0.7756     0.6135     0.9965         17        512: 100%|██████████| 100/100 [00:06<00:00, 15.91it/s]\n",
      "                 Class     Images  Instances      Box(P          R      mAP50  mAP50-95): 100%|██████████| 11/11 [00:00<00:00, 25.92it/s]"
     ]
    },
    {
     "name": "stdout",
     "output_type": "stream",
     "text": [
      "                   all         43        186      0.896      0.839      0.886      0.676\n"
     ]
    },
    {
     "name": "stderr",
     "output_type": "stream",
     "text": [
      "\n"
     ]
    },
    {
     "name": "stdout",
     "output_type": "stream",
     "text": [
      "\n",
      "      Epoch    GPU_mem   box_loss   cls_loss   dfl_loss  Instances       Size\n"
     ]
    },
    {
     "name": "stderr",
     "output_type": "stream",
     "text": [
      "     83/100     0.583G     0.8122     0.5851     0.9668          8        512: 100%|██████████| 100/100 [00:06<00:00, 16.27it/s]\n",
      "                 Class     Images  Instances      Box(P          R      mAP50  mAP50-95): 100%|██████████| 11/11 [00:00<00:00, 25.14it/s]"
     ]
    },
    {
     "name": "stdout",
     "output_type": "stream",
     "text": [
      "                   all         43        186      0.897      0.844      0.891      0.676\n"
     ]
    },
    {
     "name": "stderr",
     "output_type": "stream",
     "text": [
      "\n"
     ]
    },
    {
     "name": "stdout",
     "output_type": "stream",
     "text": [
      "\n",
      "      Epoch    GPU_mem   box_loss   cls_loss   dfl_loss  Instances       Size\n"
     ]
    },
    {
     "name": "stderr",
     "output_type": "stream",
     "text": [
      "     84/100     0.583G     0.7756     0.5791     0.9548         54        512: 100%|██████████| 100/100 [00:06<00:00, 16.11it/s]\n",
      "                 Class     Images  Instances      Box(P          R      mAP50  mAP50-95): 100%|██████████| 11/11 [00:00<00:00, 27.15it/s]"
     ]
    },
    {
     "name": "stdout",
     "output_type": "stream",
     "text": [
      "                   all         43        186      0.908      0.851      0.889      0.663\n"
     ]
    },
    {
     "name": "stderr",
     "output_type": "stream",
     "text": [
      "\n"
     ]
    },
    {
     "name": "stdout",
     "output_type": "stream",
     "text": [
      "\n",
      "      Epoch    GPU_mem   box_loss   cls_loss   dfl_loss  Instances       Size\n"
     ]
    },
    {
     "name": "stderr",
     "output_type": "stream",
     "text": [
      "     85/100     0.583G      0.788     0.5897     0.9685         13        512: 100%|██████████| 100/100 [00:05<00:00, 16.95it/s]\n",
      "                 Class     Images  Instances      Box(P          R      mAP50  mAP50-95): 100%|██████████| 11/11 [00:00<00:00, 23.55it/s]"
     ]
    },
    {
     "name": "stdout",
     "output_type": "stream",
     "text": [
      "                   all         43        186      0.884      0.833      0.868      0.641\n"
     ]
    },
    {
     "name": "stderr",
     "output_type": "stream",
     "text": [
      "\n"
     ]
    },
    {
     "name": "stdout",
     "output_type": "stream",
     "text": [
      "\n",
      "      Epoch    GPU_mem   box_loss   cls_loss   dfl_loss  Instances       Size\n"
     ]
    },
    {
     "name": "stderr",
     "output_type": "stream",
     "text": [
      "     86/100     0.575G     0.7724     0.5564     0.9578         18        512: 100%|██████████| 100/100 [00:06<00:00, 16.06it/s]\n",
      "                 Class     Images  Instances      Box(P          R      mAP50  mAP50-95): 100%|██████████| 11/11 [00:00<00:00, 25.30it/s]"
     ]
    },
    {
     "name": "stdout",
     "output_type": "stream",
     "text": [
      "                   all         43        186      0.901      0.817      0.869      0.654\n"
     ]
    },
    {
     "name": "stderr",
     "output_type": "stream",
     "text": [
      "\n"
     ]
    },
    {
     "name": "stdout",
     "output_type": "stream",
     "text": [
      "\n",
      "      Epoch    GPU_mem   box_loss   cls_loss   dfl_loss  Instances       Size\n"
     ]
    },
    {
     "name": "stderr",
     "output_type": "stream",
     "text": [
      "     87/100     0.583G     0.7655      0.566     0.9587         16        512: 100%|██████████| 100/100 [00:06<00:00, 15.91it/s]\n",
      "                 Class     Images  Instances      Box(P          R      mAP50  mAP50-95): 100%|██████████| 11/11 [00:00<00:00, 27.06it/s]"
     ]
    },
    {
     "name": "stdout",
     "output_type": "stream",
     "text": [
      "                   all         43        186      0.921      0.801       0.87      0.655\n"
     ]
    },
    {
     "name": "stderr",
     "output_type": "stream",
     "text": [
      "\n"
     ]
    },
    {
     "name": "stdout",
     "output_type": "stream",
     "text": [
      "\n",
      "      Epoch    GPU_mem   box_loss   cls_loss   dfl_loss  Instances       Size\n"
     ]
    },
    {
     "name": "stderr",
     "output_type": "stream",
     "text": [
      "     88/100     0.583G     0.7748      0.577     0.9744          5        512: 100%|██████████| 100/100 [00:06<00:00, 15.86it/s]\n",
      "                 Class     Images  Instances      Box(P          R      mAP50  mAP50-95): 100%|██████████| 11/11 [00:00<00:00, 25.48it/s]"
     ]
    },
    {
     "name": "stdout",
     "output_type": "stream",
     "text": [
      "                   all         43        186        0.9      0.822      0.871      0.663\n"
     ]
    },
    {
     "name": "stderr",
     "output_type": "stream",
     "text": [
      "\n"
     ]
    },
    {
     "name": "stdout",
     "output_type": "stream",
     "text": [
      "\n",
      "      Epoch    GPU_mem   box_loss   cls_loss   dfl_loss  Instances       Size\n"
     ]
    },
    {
     "name": "stderr",
     "output_type": "stream",
     "text": [
      "     89/100     0.591G     0.7492     0.5578     0.9484         19        512: 100%|██████████| 100/100 [00:06<00:00, 15.76it/s]\n",
      "                 Class     Images  Instances      Box(P          R      mAP50  mAP50-95): 100%|██████████| 11/11 [00:00<00:00, 25.88it/s]"
     ]
    },
    {
     "name": "stdout",
     "output_type": "stream",
     "text": [
      "                   all         43        186        0.9      0.826       0.88      0.678\n"
     ]
    },
    {
     "name": "stderr",
     "output_type": "stream",
     "text": [
      "\n"
     ]
    },
    {
     "name": "stdout",
     "output_type": "stream",
     "text": [
      "\n",
      "      Epoch    GPU_mem   box_loss   cls_loss   dfl_loss  Instances       Size\n"
     ]
    },
    {
     "name": "stderr",
     "output_type": "stream",
     "text": [
      "     90/100      0.57G     0.7272     0.5411     0.9707          5        512: 100%|██████████| 100/100 [00:06<00:00, 16.39it/s]\n",
      "                 Class     Images  Instances      Box(P          R      mAP50  mAP50-95): 100%|██████████| 11/11 [00:00<00:00, 25.94it/s]"
     ]
    },
    {
     "name": "stdout",
     "output_type": "stream",
     "text": [
      "                   all         43        186      0.901      0.828      0.886      0.678\n"
     ]
    },
    {
     "name": "stderr",
     "output_type": "stream",
     "text": [
      "\n"
     ]
    },
    {
     "name": "stdout",
     "output_type": "stream",
     "text": [
      "Closing dataloader mosaic\n"
     ]
    }
   ],
   "source": [
    "import os\n",
    "from ultralytics import YOLO\n",
    "import torch\n",
    "\n",
    "yaml_path = os.path.join(\"Dataset/yolo_data\", \"data.yaml\")\n",
    "\n",
    "device = 'cuda' if torch.cuda.is_available() else 'cpu'\n",
    "\n",
    "model = YOLO(\"yolov8s.yaml\").load(\"yolov8s.pt\").to(device)\n",
    "\n",
    "img_size = 512\n",
    "batch = 2\n",
    "\n",
    "torch.cuda.empty_cache()\n",
    "\n",
    "results = model.train(\n",
    "    data=yaml_path,\n",
    "    epochs=100,\n",
    "    imgsz=img_size,\n",
    "    batch= batch,\n",
    "    device=device\n",
    ")\n"
   ]
  },
  {
   "cell_type": "code",
   "id": "33e167de",
   "metadata": {
    "ExecuteTime": {
     "end_time": "2024-08-27T03:39:08.901562Z",
     "start_time": "2024-08-27T03:38:52.243828Z"
    }
   },
   "source": [
    "from ultralytics import YOLO\n",
    "\n",
    "model_path = \"runs\\\\detect\\\\train42\\\\weights\\\\best.pt\"\n",
    "model = YOLO(model=model_path)\n",
    "\n",
    "model.val()"
   ],
   "outputs": [
    {
     "name": "stdout",
     "output_type": "stream",
     "text": [
      "Ultralytics YOLOv8.2.82  Python-3.12.5 torch-2.4.0+cu124 CUDA:0 (NVIDIA GeForce RTX 3050 Laptop GPU, 4096MiB)\n",
      "YOLOv8s summary (fused): 168 layers, 11,125,971 parameters, 0 gradients, 28.4 GFLOPs\n"
     ]
    },
    {
     "name": "stderr",
     "output_type": "stream",
     "text": [
      "\u001B[34m\u001B[1mval: \u001B[0mScanning C:\\Users\\hieuh\\Downloads\\Project\\Scene-Text-Recognition\\Dataset\\yolo_data\\val\\labels.cache... 43 images, 0 backgrounds, 0 corrupt: 100%|██████████| 43/43 [00:00<?, ?it/s]\n",
      "                 Class     Images  Instances      Box(P          R      mAP50  mAP50-95): 100%|██████████| 3/3 [00:05<00:00,  1.84s/it]\n"
     ]
    },
    {
     "name": "stdout",
     "output_type": "stream",
     "text": [
      "                   all         43        186       0.94      0.841       0.89      0.685\n",
      "Speed: 1.7ms preprocess, 11.2ms inference, 0.0ms loss, 7.6ms postprocess per image\n",
      "Results saved to \u001B[1mruns\\detect\\val3\u001B[0m\n"
     ]
    },
    {
     "data": {
      "text/plain": [
       "ultralytics.utils.metrics.DetMetrics object with attributes:\n",
       "\n",
       "ap_class_index: array([0])\n",
       "box: ultralytics.utils.metrics.Metric object\n",
       "confusion_matrix: <ultralytics.utils.metrics.ConfusionMatrix object at 0x000001EE38DD7B60>\n",
       "curves: ['Precision-Recall(B)', 'F1-Confidence(B)', 'Precision-Confidence(B)', 'Recall-Confidence(B)']\n",
       "curves_results: [[array([          0,    0.001001,    0.002002,    0.003003,    0.004004,    0.005005,    0.006006,    0.007007,    0.008008,    0.009009,     0.01001,    0.011011,    0.012012,    0.013013,    0.014014,    0.015015,    0.016016,    0.017017,    0.018018,    0.019019,     0.02002,    0.021021,    0.022022,    0.023023,\n",
       "          0.024024,    0.025025,    0.026026,    0.027027,    0.028028,    0.029029,     0.03003,    0.031031,    0.032032,    0.033033,    0.034034,    0.035035,    0.036036,    0.037037,    0.038038,    0.039039,     0.04004,    0.041041,    0.042042,    0.043043,    0.044044,    0.045045,    0.046046,    0.047047,\n",
       "          0.048048,    0.049049,     0.05005,    0.051051,    0.052052,    0.053053,    0.054054,    0.055055,    0.056056,    0.057057,    0.058058,    0.059059,     0.06006,    0.061061,    0.062062,    0.063063,    0.064064,    0.065065,    0.066066,    0.067067,    0.068068,    0.069069,     0.07007,    0.071071,\n",
       "          0.072072,    0.073073,    0.074074,    0.075075,    0.076076,    0.077077,    0.078078,    0.079079,     0.08008,    0.081081,    0.082082,    0.083083,    0.084084,    0.085085,    0.086086,    0.087087,    0.088088,    0.089089,     0.09009,    0.091091,    0.092092,    0.093093,    0.094094,    0.095095,\n",
       "          0.096096,    0.097097,    0.098098,    0.099099,      0.1001,      0.1011,      0.1021,      0.1031,      0.1041,     0.10511,     0.10611,     0.10711,     0.10811,     0.10911,     0.11011,     0.11111,     0.11211,     0.11311,     0.11411,     0.11512,     0.11612,     0.11712,     0.11812,     0.11912,\n",
       "           0.12012,     0.12112,     0.12212,     0.12312,     0.12412,     0.12513,     0.12613,     0.12713,     0.12813,     0.12913,     0.13013,     0.13113,     0.13213,     0.13313,     0.13413,     0.13514,     0.13614,     0.13714,     0.13814,     0.13914,     0.14014,     0.14114,     0.14214,     0.14314,\n",
       "           0.14414,     0.14515,     0.14615,     0.14715,     0.14815,     0.14915,     0.15015,     0.15115,     0.15215,     0.15315,     0.15415,     0.15516,     0.15616,     0.15716,     0.15816,     0.15916,     0.16016,     0.16116,     0.16216,     0.16316,     0.16416,     0.16517,     0.16617,     0.16717,\n",
       "           0.16817,     0.16917,     0.17017,     0.17117,     0.17217,     0.17317,     0.17417,     0.17518,     0.17618,     0.17718,     0.17818,     0.17918,     0.18018,     0.18118,     0.18218,     0.18318,     0.18418,     0.18519,     0.18619,     0.18719,     0.18819,     0.18919,     0.19019,     0.19119,\n",
       "           0.19219,     0.19319,     0.19419,      0.1952,      0.1962,      0.1972,      0.1982,      0.1992,      0.2002,      0.2012,      0.2022,      0.2032,      0.2042,     0.20521,     0.20621,     0.20721,     0.20821,     0.20921,     0.21021,     0.21121,     0.21221,     0.21321,     0.21421,     0.21522,\n",
       "           0.21622,     0.21722,     0.21822,     0.21922,     0.22022,     0.22122,     0.22222,     0.22322,     0.22422,     0.22523,     0.22623,     0.22723,     0.22823,     0.22923,     0.23023,     0.23123,     0.23223,     0.23323,     0.23423,     0.23524,     0.23624,     0.23724,     0.23824,     0.23924,\n",
       "           0.24024,     0.24124,     0.24224,     0.24324,     0.24424,     0.24525,     0.24625,     0.24725,     0.24825,     0.24925,     0.25025,     0.25125,     0.25225,     0.25325,     0.25425,     0.25526,     0.25626,     0.25726,     0.25826,     0.25926,     0.26026,     0.26126,     0.26226,     0.26326,\n",
       "           0.26426,     0.26527,     0.26627,     0.26727,     0.26827,     0.26927,     0.27027,     0.27127,     0.27227,     0.27327,     0.27427,     0.27528,     0.27628,     0.27728,     0.27828,     0.27928,     0.28028,     0.28128,     0.28228,     0.28328,     0.28428,     0.28529,     0.28629,     0.28729,\n",
       "           0.28829,     0.28929,     0.29029,     0.29129,     0.29229,     0.29329,     0.29429,      0.2953,      0.2963,      0.2973,      0.2983,      0.2993,      0.3003,      0.3013,      0.3023,      0.3033,      0.3043,     0.30531,     0.30631,     0.30731,     0.30831,     0.30931,     0.31031,     0.31131,\n",
       "           0.31231,     0.31331,     0.31431,     0.31532,     0.31632,     0.31732,     0.31832,     0.31932,     0.32032,     0.32132,     0.32232,     0.32332,     0.32432,     0.32533,     0.32633,     0.32733,     0.32833,     0.32933,     0.33033,     0.33133,     0.33233,     0.33333,     0.33433,     0.33534,\n",
       "           0.33634,     0.33734,     0.33834,     0.33934,     0.34034,     0.34134,     0.34234,     0.34334,     0.34434,     0.34535,     0.34635,     0.34735,     0.34835,     0.34935,     0.35035,     0.35135,     0.35235,     0.35335,     0.35435,     0.35536,     0.35636,     0.35736,     0.35836,     0.35936,\n",
       "           0.36036,     0.36136,     0.36236,     0.36336,     0.36436,     0.36537,     0.36637,     0.36737,     0.36837,     0.36937,     0.37037,     0.37137,     0.37237,     0.37337,     0.37437,     0.37538,     0.37638,     0.37738,     0.37838,     0.37938,     0.38038,     0.38138,     0.38238,     0.38338,\n",
       "           0.38438,     0.38539,     0.38639,     0.38739,     0.38839,     0.38939,     0.39039,     0.39139,     0.39239,     0.39339,     0.39439,      0.3954,      0.3964,      0.3974,      0.3984,      0.3994,      0.4004,      0.4014,      0.4024,      0.4034,      0.4044,     0.40541,     0.40641,     0.40741,\n",
       "           0.40841,     0.40941,     0.41041,     0.41141,     0.41241,     0.41341,     0.41441,     0.41542,     0.41642,     0.41742,     0.41842,     0.41942,     0.42042,     0.42142,     0.42242,     0.42342,     0.42442,     0.42543,     0.42643,     0.42743,     0.42843,     0.42943,     0.43043,     0.43143,\n",
       "           0.43243,     0.43343,     0.43443,     0.43544,     0.43644,     0.43744,     0.43844,     0.43944,     0.44044,     0.44144,     0.44244,     0.44344,     0.44444,     0.44545,     0.44645,     0.44745,     0.44845,     0.44945,     0.45045,     0.45145,     0.45245,     0.45345,     0.45445,     0.45546,\n",
       "           0.45646,     0.45746,     0.45846,     0.45946,     0.46046,     0.46146,     0.46246,     0.46346,     0.46446,     0.46547,     0.46647,     0.46747,     0.46847,     0.46947,     0.47047,     0.47147,     0.47247,     0.47347,     0.47447,     0.47548,     0.47648,     0.47748,     0.47848,     0.47948,\n",
       "           0.48048,     0.48148,     0.48248,     0.48348,     0.48448,     0.48549,     0.48649,     0.48749,     0.48849,     0.48949,     0.49049,     0.49149,     0.49249,     0.49349,     0.49449,      0.4955,      0.4965,      0.4975,      0.4985,      0.4995,      0.5005,      0.5015,      0.5025,      0.5035,\n",
       "            0.5045,     0.50551,     0.50651,     0.50751,     0.50851,     0.50951,     0.51051,     0.51151,     0.51251,     0.51351,     0.51451,     0.51552,     0.51652,     0.51752,     0.51852,     0.51952,     0.52052,     0.52152,     0.52252,     0.52352,     0.52452,     0.52553,     0.52653,     0.52753,\n",
       "           0.52853,     0.52953,     0.53053,     0.53153,     0.53253,     0.53353,     0.53453,     0.53554,     0.53654,     0.53754,     0.53854,     0.53954,     0.54054,     0.54154,     0.54254,     0.54354,     0.54454,     0.54555,     0.54655,     0.54755,     0.54855,     0.54955,     0.55055,     0.55155,\n",
       "           0.55255,     0.55355,     0.55455,     0.55556,     0.55656,     0.55756,     0.55856,     0.55956,     0.56056,     0.56156,     0.56256,     0.56356,     0.56456,     0.56557,     0.56657,     0.56757,     0.56857,     0.56957,     0.57057,     0.57157,     0.57257,     0.57357,     0.57457,     0.57558,\n",
       "           0.57658,     0.57758,     0.57858,     0.57958,     0.58058,     0.58158,     0.58258,     0.58358,     0.58458,     0.58559,     0.58659,     0.58759,     0.58859,     0.58959,     0.59059,     0.59159,     0.59259,     0.59359,     0.59459,      0.5956,      0.5966,      0.5976,      0.5986,      0.5996,\n",
       "            0.6006,      0.6016,      0.6026,      0.6036,      0.6046,     0.60561,     0.60661,     0.60761,     0.60861,     0.60961,     0.61061,     0.61161,     0.61261,     0.61361,     0.61461,     0.61562,     0.61662,     0.61762,     0.61862,     0.61962,     0.62062,     0.62162,     0.62262,     0.62362,\n",
       "           0.62462,     0.62563,     0.62663,     0.62763,     0.62863,     0.62963,     0.63063,     0.63163,     0.63263,     0.63363,     0.63463,     0.63564,     0.63664,     0.63764,     0.63864,     0.63964,     0.64064,     0.64164,     0.64264,     0.64364,     0.64464,     0.64565,     0.64665,     0.64765,\n",
       "           0.64865,     0.64965,     0.65065,     0.65165,     0.65265,     0.65365,     0.65465,     0.65566,     0.65666,     0.65766,     0.65866,     0.65966,     0.66066,     0.66166,     0.66266,     0.66366,     0.66466,     0.66567,     0.66667,     0.66767,     0.66867,     0.66967,     0.67067,     0.67167,\n",
       "           0.67267,     0.67367,     0.67467,     0.67568,     0.67668,     0.67768,     0.67868,     0.67968,     0.68068,     0.68168,     0.68268,     0.68368,     0.68468,     0.68569,     0.68669,     0.68769,     0.68869,     0.68969,     0.69069,     0.69169,     0.69269,     0.69369,     0.69469,      0.6957,\n",
       "            0.6967,      0.6977,      0.6987,      0.6997,      0.7007,      0.7017,      0.7027,      0.7037,      0.7047,     0.70571,     0.70671,     0.70771,     0.70871,     0.70971,     0.71071,     0.71171,     0.71271,     0.71371,     0.71471,     0.71572,     0.71672,     0.71772,     0.71872,     0.71972,\n",
       "           0.72072,     0.72172,     0.72272,     0.72372,     0.72472,     0.72573,     0.72673,     0.72773,     0.72873,     0.72973,     0.73073,     0.73173,     0.73273,     0.73373,     0.73473,     0.73574,     0.73674,     0.73774,     0.73874,     0.73974,     0.74074,     0.74174,     0.74274,     0.74374,\n",
       "           0.74474,     0.74575,     0.74675,     0.74775,     0.74875,     0.74975,     0.75075,     0.75175,     0.75275,     0.75375,     0.75475,     0.75576,     0.75676,     0.75776,     0.75876,     0.75976,     0.76076,     0.76176,     0.76276,     0.76376,     0.76476,     0.76577,     0.76677,     0.76777,\n",
       "           0.76877,     0.76977,     0.77077,     0.77177,     0.77277,     0.77377,     0.77477,     0.77578,     0.77678,     0.77778,     0.77878,     0.77978,     0.78078,     0.78178,     0.78278,     0.78378,     0.78478,     0.78579,     0.78679,     0.78779,     0.78879,     0.78979,     0.79079,     0.79179,\n",
       "           0.79279,     0.79379,     0.79479,      0.7958,      0.7968,      0.7978,      0.7988,      0.7998,      0.8008,      0.8018,      0.8028,      0.8038,      0.8048,     0.80581,     0.80681,     0.80781,     0.80881,     0.80981,     0.81081,     0.81181,     0.81281,     0.81381,     0.81481,     0.81582,\n",
       "           0.81682,     0.81782,     0.81882,     0.81982,     0.82082,     0.82182,     0.82282,     0.82382,     0.82482,     0.82583,     0.82683,     0.82783,     0.82883,     0.82983,     0.83083,     0.83183,     0.83283,     0.83383,     0.83483,     0.83584,     0.83684,     0.83784,     0.83884,     0.83984,\n",
       "           0.84084,     0.84184,     0.84284,     0.84384,     0.84484,     0.84585,     0.84685,     0.84785,     0.84885,     0.84985,     0.85085,     0.85185,     0.85285,     0.85385,     0.85485,     0.85586,     0.85686,     0.85786,     0.85886,     0.85986,     0.86086,     0.86186,     0.86286,     0.86386,\n",
       "           0.86486,     0.86587,     0.86687,     0.86787,     0.86887,     0.86987,     0.87087,     0.87187,     0.87287,     0.87387,     0.87487,     0.87588,     0.87688,     0.87788,     0.87888,     0.87988,     0.88088,     0.88188,     0.88288,     0.88388,     0.88488,     0.88589,     0.88689,     0.88789,\n",
       "           0.88889,     0.88989,     0.89089,     0.89189,     0.89289,     0.89389,     0.89489,      0.8959,      0.8969,      0.8979,      0.8989,      0.8999,      0.9009,      0.9019,      0.9029,      0.9039,      0.9049,     0.90591,     0.90691,     0.90791,     0.90891,     0.90991,     0.91091,     0.91191,\n",
       "           0.91291,     0.91391,     0.91491,     0.91592,     0.91692,     0.91792,     0.91892,     0.91992,     0.92092,     0.92192,     0.92292,     0.92392,     0.92492,     0.92593,     0.92693,     0.92793,     0.92893,     0.92993,     0.93093,     0.93193,     0.93293,     0.93393,     0.93493,     0.93594,\n",
       "           0.93694,     0.93794,     0.93894,     0.93994,     0.94094,     0.94194,     0.94294,     0.94394,     0.94494,     0.94595,     0.94695,     0.94795,     0.94895,     0.94995,     0.95095,     0.95195,     0.95295,     0.95395,     0.95495,     0.95596,     0.95696,     0.95796,     0.95896,     0.95996,\n",
       "           0.96096,     0.96196,     0.96296,     0.96396,     0.96496,     0.96597,     0.96697,     0.96797,     0.96897,     0.96997,     0.97097,     0.97197,     0.97297,     0.97397,     0.97497,     0.97598,     0.97698,     0.97798,     0.97898,     0.97998,     0.98098,     0.98198,     0.98298,     0.98398,\n",
       "           0.98498,     0.98599,     0.98699,     0.98799,     0.98899,     0.98999,     0.99099,     0.99199,     0.99299,     0.99399,     0.99499,       0.996,       0.997,       0.998,       0.999,           1]), array([[          1,           1,           1,           1,           1,           1,           1,           1,           1,           1,           1,           1,           1,           1,           1,           1,           1,           1,           1,           1,           1,           1,           1,\n",
       "                  1,           1,           1,           1,           1,           1,           1,           1,           1,           1,           1,           1,           1,           1,           1,           1,           1,           1,           1,           1,           1,           1,           1,\n",
       "                  1,           1,           1,           1,           1,           1,           1,           1,           1,           1,           1,           1,           1,           1,           1,           1,           1,           1,           1,           1,           1,           1,           1,\n",
       "                  1,           1,           1,           1,           1,           1,           1,           1,           1,           1,           1,           1,           1,           1,           1,           1,           1,           1,           1,           1,           1,           1,           1,\n",
       "                  1,           1,           1,           1,           1,           1,           1,           1,           1,           1,           1,           1,           1,           1,           1,           1,           1,           1,           1,           1,           1,           1,           1,\n",
       "                  1,           1,           1,           1,           1,           1,           1,           1,           1,           1,           1,           1,           1,           1,           1,           1,           1,           1,           1,           1,           1,           1,           1,\n",
       "                  1,           1,           1,           1,           1,           1,           1,           1,           1,           1,           1,           1,           1,           1,           1,           1,           1,           1,           1,           1,           1,           1,           1,\n",
       "                  1,           1,           1,           1,           1,           1,           1,           1,           1,           1,           1,           1,           1,           1,           1,           1,           1,           1,           1,           1,           1,           1,     0.98246,\n",
       "            0.98246,     0.98246,     0.98246,     0.98246,     0.98246,     0.98246,     0.98246,     0.98246,     0.98246,     0.98246,     0.98246,     0.98246,     0.98246,     0.98246,     0.98246,     0.98246,     0.98246,     0.98246,     0.98246,     0.98246,     0.98246,     0.98246,     0.98246,\n",
       "            0.98246,     0.98246,     0.98246,     0.98246,     0.98246,     0.98246,     0.98246,     0.98246,     0.98246,     0.98246,     0.98246,     0.98246,     0.98246,     0.98246,     0.98246,     0.98246,     0.98246,     0.98246,     0.98246,     0.98246,     0.98246,     0.98246,     0.98246,\n",
       "            0.98246,     0.98246,     0.98246,     0.98246,     0.98246,     0.98246,     0.98246,     0.98246,     0.98246,     0.98246,     0.98246,     0.98246,     0.98246,     0.98246,     0.98246,     0.98246,     0.98246,     0.98246,     0.98246,     0.98246,     0.98246,     0.98246,     0.98246,\n",
       "            0.98246,     0.98246,     0.98246,     0.98246,     0.98246,     0.98246,     0.98246,     0.98246,     0.98246,     0.98246,     0.98246,     0.98246,     0.98246,     0.98246,     0.98246,     0.98246,     0.98246,     0.98246,     0.98246,     0.98246,     0.98246,     0.98246,     0.98246,\n",
       "            0.98246,     0.98246,     0.98246,     0.98246,     0.98246,     0.98246,     0.98246,     0.98246,     0.98246,     0.98246,     0.98246,     0.98246,     0.98246,     0.98246,     0.98246,     0.98246,     0.98246,     0.98246,     0.98246,     0.98246,     0.98246,     0.98246,     0.98246,\n",
       "            0.98246,     0.98246,     0.98165,     0.98165,     0.98165,     0.98165,     0.98165,     0.98165,     0.98165,     0.98165,     0.98165,     0.98165,     0.98165,     0.98165,     0.98165,     0.98165,     0.98165,     0.98165,     0.98165,     0.98165,     0.98165,     0.98165,     0.98165,\n",
       "            0.98165,     0.98165,     0.98165,     0.98165,     0.98165,     0.98165,     0.98165,     0.98165,     0.98165,     0.98165,     0.98165,     0.98165,     0.98165,     0.98165,     0.98165,     0.98165,     0.98165,     0.98165,     0.98165,     0.98165,     0.98165,     0.98165,     0.98165,\n",
       "            0.98165,     0.98165,     0.98165,     0.98165,     0.98165,     0.98165,     0.98165,     0.98165,     0.98165,     0.98165,     0.98165,     0.98165,     0.98165,     0.98165,     0.98165,     0.98165,     0.98165,     0.98165,     0.98165,     0.98165,     0.98165,     0.98165,     0.98165,\n",
       "            0.98165,     0.98165,     0.98165,     0.98165,     0.98165,     0.98165,     0.98165,     0.98165,     0.98165,     0.98165,     0.98165,     0.98165,     0.98165,     0.98165,     0.98165,     0.98165,     0.98165,     0.98165,     0.98165,     0.98165,     0.98165,     0.98165,     0.98165,\n",
       "            0.98165,     0.98165,     0.98165,     0.98165,     0.98165,     0.98165,     0.98165,     0.98165,     0.98165,     0.98165,     0.98165,     0.98165,     0.98165,     0.98165,     0.98165,     0.98165,     0.98165,     0.98165,     0.98165,     0.98165,     0.98165,     0.98165,     0.98165,\n",
       "            0.98165,     0.98165,     0.98165,     0.98165,     0.98165,     0.98165,     0.98165,     0.98165,     0.98165,     0.98165,     0.98165,     0.98165,     0.98165,     0.98165,     0.98165,     0.98165,     0.98165,     0.98165,     0.98165,     0.98165,     0.98165,     0.98165,     0.98165,\n",
       "            0.98165,     0.98165,     0.98165,     0.98165,     0.98165,     0.98165,     0.98165,     0.98165,     0.98165,     0.98165,     0.98165,     0.98165,     0.98165,     0.98165,     0.98165,     0.98165,     0.98165,     0.98165,     0.98165,     0.98165,     0.98165,     0.98165,     0.98165,\n",
       "            0.98165,     0.98165,     0.98165,     0.98165,     0.98165,     0.98165,     0.98165,     0.98165,     0.98165,     0.98165,     0.98165,     0.98165,     0.98165,     0.98165,     0.98165,     0.98165,     0.98165,     0.98165,     0.98165,     0.98165,     0.98165,     0.98165,     0.98165,\n",
       "            0.98165,     0.98165,     0.98165,     0.98165,     0.98165,     0.98165,     0.98165,     0.98165,     0.98165,     0.98165,     0.98165,     0.98165,     0.98165,     0.98165,     0.98165,     0.98165,     0.98165,     0.98165,     0.98165,     0.98165,     0.98165,     0.98165,     0.98165,\n",
       "            0.98165,     0.98165,     0.98165,     0.98165,     0.98165,     0.98165,     0.98165,     0.98165,     0.98165,     0.98165,     0.98165,     0.98165,     0.98165,     0.98165,     0.98165,     0.98165,     0.98165,     0.98165,     0.98165,     0.98165,     0.98165,     0.98165,     0.98165,\n",
       "            0.98165,     0.98165,     0.98165,     0.98165,     0.98165,     0.98165,     0.98165,     0.98165,     0.98165,     0.98165,     0.98165,     0.98165,     0.98165,     0.98165,     0.98165,     0.98165,     0.98165,     0.98165,     0.98165,     0.98165,     0.98165,     0.98165,     0.98165,\n",
       "            0.98165,     0.98165,     0.98165,     0.98165,     0.98165,     0.98165,     0.98165,     0.98165,     0.98165,     0.98165,     0.98165,     0.98165,     0.98165,     0.98165,     0.98165,     0.98165,     0.98165,     0.98165,     0.98165,     0.98165,     0.98165,     0.98165,     0.98165,\n",
       "            0.97368,     0.97368,     0.97368,     0.97368,     0.97368,     0.97368,     0.97368,     0.97368,     0.97368,     0.97368,     0.97368,     0.97368,     0.97368,     0.97368,     0.97368,     0.97368,     0.97368,     0.97368,     0.97368,     0.97368,     0.97368,     0.97368,     0.96774,\n",
       "            0.96774,     0.96774,     0.96774,     0.96774,     0.96774,     0.96774,     0.96774,     0.96774,     0.96774,     0.96774,     0.96774,     0.96774,     0.96774,     0.96774,     0.96774,     0.96774,     0.96774,     0.96774,     0.96774,     0.96774,     0.96774,     0.96774,     0.96774,\n",
       "            0.96774,     0.96774,     0.96774,     0.96774,     0.96774,     0.96774,     0.96774,     0.96774,     0.96774,     0.96774,     0.96774,     0.96774,     0.96774,     0.96774,     0.96774,     0.96774,     0.96774,     0.96774,     0.96774,     0.96774,     0.96774,     0.96774,     0.96774,\n",
       "            0.96774,     0.96063,     0.96063,     0.96063,     0.96063,     0.96063,     0.96063,     0.96063,     0.96063,     0.96063,     0.96063,     0.96063,      0.9562,      0.9562,      0.9562,      0.9562,      0.9562,      0.9562,      0.9562,      0.9562,      0.9562,      0.9562,      0.9562,\n",
       "             0.9562,      0.9562,      0.9562,      0.9562,      0.9562,      0.9562,      0.9562,      0.9562,      0.9562,      0.9562,      0.9562,      0.9562,      0.9562,      0.9562,      0.9562,      0.9562,      0.9562,      0.9562,      0.9562,      0.9562,      0.9562,      0.9562,      0.9562,\n",
       "             0.9562,      0.9562,      0.9562,      0.9562,      0.9562,      0.9562,      0.9562,      0.9562,      0.9562,      0.9562,      0.9562,      0.9562,      0.9562,      0.9562,     0.94839,     0.94839,     0.94839,     0.94839,     0.94839,     0.94839,     0.94839,     0.94839,     0.94839,\n",
       "            0.94839,     0.94839,     0.94839,     0.94839,     0.94839,     0.94839,     0.94839,     0.94839,     0.94839,     0.94839,     0.94839,     0.94839,     0.94839,     0.94839,     0.94839,     0.94839,     0.94839,     0.94839,     0.94839,     0.94839,     0.94839,     0.94839,     0.94839,\n",
       "            0.94839,     0.94839,     0.94839,     0.94839,     0.94839,     0.94839,     0.94839,     0.94839,     0.94839,     0.94839,     0.94839,     0.94839,     0.94839,     0.94839,     0.94839,     0.94839,     0.94839,     0.94839,     0.94839,     0.94839,     0.94839,     0.94839,     0.94839,\n",
       "            0.94839,     0.94839,     0.94839,     0.94839,     0.94839,     0.94839,     0.94839,     0.94839,     0.94839,     0.94839,     0.94839,     0.94839,     0.94839,     0.94839,     0.94839,     0.94839,     0.94839,     0.94839,     0.94839,     0.94839,     0.94839,     0.94839,     0.94839,\n",
       "            0.94839,     0.94839,     0.94839,     0.94839,     0.94839,     0.94839,     0.94839,     0.94839,     0.94545,     0.94545,     0.94545,     0.94545,     0.94545,     0.94545,     0.94545,     0.94545,     0.94545,     0.94545,     0.94545,     0.94545,     0.94545,     0.94545,     0.94545,\n",
       "            0.94545,     0.94545,     0.94545,     0.94545,     0.94545,     0.94545,     0.94545,     0.94545,     0.94545,     0.94545,     0.94545,     0.94545,     0.94545,     0.94545,     0.94545,     0.94545,     0.94545,     0.94545,     0.94545,     0.94545,     0.94545,     0.94545,     0.94545,\n",
       "            0.94545,     0.94545,     0.94545,     0.94545,     0.94545,     0.94545,     0.94545,     0.94545,     0.94545,     0.94545,     0.94048,     0.94048,     0.94048,     0.94048,     0.94048,     0.94048,     0.94048,     0.94048,     0.94048,     0.94048,     0.94048,     0.89326,     0.89326,\n",
       "            0.89326,     0.89326,     0.89326,     0.86957,     0.86957,     0.86957,     0.86957,     0.86957,     0.86957,     0.83854,     0.83854,     0.83854,     0.83854,     0.83854,     0.80693,     0.80693,     0.80693,     0.80693,     0.80693,     0.80693,     0.80693,     0.80693,     0.80693,\n",
       "            0.80693,     0.80693,     0.79227,     0.79227,     0.79227,     0.79227,     0.79227,     0.75688,     0.75688,     0.75688,     0.75688,     0.75688,     0.75688,     0.67206,     0.67206,     0.67206,     0.67206,     0.67206,     0.43152,     0.43152,     0.43152,     0.43152,     0.43152,\n",
       "            0.42532,     0.42532,     0.42532,     0.42532,     0.42532,     0.42532,     0.37556,     0.37556,     0.37556,     0.37556,     0.37556,     0.37199,     0.37199,     0.37199,     0.37199,     0.37199,     0.37199,     0.33529,     0.33529,     0.33529,     0.33529,     0.33529,     0.32216,\n",
       "            0.32216,     0.32216,     0.32216,     0.32216,     0.32216,     0.32216,     0.32216,     0.32216,     0.32216,     0.32216,     0.29642,     0.29642,     0.29642,     0.29642,     0.29642,     0.29561,     0.29561,     0.29561,     0.29561,     0.29561,     0.28205,     0.28205,     0.28205,\n",
       "            0.28205,     0.28205,     0.28205,     0.27786,     0.27786,     0.27786,     0.27786,     0.27786,     0.24722,     0.24722,     0.24722,     0.24722,     0.24722,     0.24722,     0.13919,     0.13588,     0.13256,     0.12925,     0.12594,     0.12262,     0.11931,     0.11599,     0.11268,\n",
       "            0.10937,     0.10605,     0.10274,    0.099423,    0.096109,    0.092795,    0.089481,    0.086167,    0.082853,    0.079539,    0.076225,    0.072911,    0.069596,    0.066282,    0.062968,    0.059654,     0.05634,    0.053026,    0.049712,    0.046398,    0.043083,    0.039769,    0.036455,\n",
       "           0.033141,    0.029827,    0.026513,    0.023199,    0.019885,    0.016571,    0.013256,   0.0099423,   0.0066282,   0.0033141,           0]]), 'Recall', 'Precision'], [array([          0,    0.001001,    0.002002,    0.003003,    0.004004,    0.005005,    0.006006,    0.007007,    0.008008,    0.009009,     0.01001,    0.011011,    0.012012,    0.013013,    0.014014,    0.015015,    0.016016,    0.017017,    0.018018,    0.019019,     0.02002,    0.021021,    0.022022,    0.023023,\n",
       "          0.024024,    0.025025,    0.026026,    0.027027,    0.028028,    0.029029,     0.03003,    0.031031,    0.032032,    0.033033,    0.034034,    0.035035,    0.036036,    0.037037,    0.038038,    0.039039,     0.04004,    0.041041,    0.042042,    0.043043,    0.044044,    0.045045,    0.046046,    0.047047,\n",
       "          0.048048,    0.049049,     0.05005,    0.051051,    0.052052,    0.053053,    0.054054,    0.055055,    0.056056,    0.057057,    0.058058,    0.059059,     0.06006,    0.061061,    0.062062,    0.063063,    0.064064,    0.065065,    0.066066,    0.067067,    0.068068,    0.069069,     0.07007,    0.071071,\n",
       "          0.072072,    0.073073,    0.074074,    0.075075,    0.076076,    0.077077,    0.078078,    0.079079,     0.08008,    0.081081,    0.082082,    0.083083,    0.084084,    0.085085,    0.086086,    0.087087,    0.088088,    0.089089,     0.09009,    0.091091,    0.092092,    0.093093,    0.094094,    0.095095,\n",
       "          0.096096,    0.097097,    0.098098,    0.099099,      0.1001,      0.1011,      0.1021,      0.1031,      0.1041,     0.10511,     0.10611,     0.10711,     0.10811,     0.10911,     0.11011,     0.11111,     0.11211,     0.11311,     0.11411,     0.11512,     0.11612,     0.11712,     0.11812,     0.11912,\n",
       "           0.12012,     0.12112,     0.12212,     0.12312,     0.12412,     0.12513,     0.12613,     0.12713,     0.12813,     0.12913,     0.13013,     0.13113,     0.13213,     0.13313,     0.13413,     0.13514,     0.13614,     0.13714,     0.13814,     0.13914,     0.14014,     0.14114,     0.14214,     0.14314,\n",
       "           0.14414,     0.14515,     0.14615,     0.14715,     0.14815,     0.14915,     0.15015,     0.15115,     0.15215,     0.15315,     0.15415,     0.15516,     0.15616,     0.15716,     0.15816,     0.15916,     0.16016,     0.16116,     0.16216,     0.16316,     0.16416,     0.16517,     0.16617,     0.16717,\n",
       "           0.16817,     0.16917,     0.17017,     0.17117,     0.17217,     0.17317,     0.17417,     0.17518,     0.17618,     0.17718,     0.17818,     0.17918,     0.18018,     0.18118,     0.18218,     0.18318,     0.18418,     0.18519,     0.18619,     0.18719,     0.18819,     0.18919,     0.19019,     0.19119,\n",
       "           0.19219,     0.19319,     0.19419,      0.1952,      0.1962,      0.1972,      0.1982,      0.1992,      0.2002,      0.2012,      0.2022,      0.2032,      0.2042,     0.20521,     0.20621,     0.20721,     0.20821,     0.20921,     0.21021,     0.21121,     0.21221,     0.21321,     0.21421,     0.21522,\n",
       "           0.21622,     0.21722,     0.21822,     0.21922,     0.22022,     0.22122,     0.22222,     0.22322,     0.22422,     0.22523,     0.22623,     0.22723,     0.22823,     0.22923,     0.23023,     0.23123,     0.23223,     0.23323,     0.23423,     0.23524,     0.23624,     0.23724,     0.23824,     0.23924,\n",
       "           0.24024,     0.24124,     0.24224,     0.24324,     0.24424,     0.24525,     0.24625,     0.24725,     0.24825,     0.24925,     0.25025,     0.25125,     0.25225,     0.25325,     0.25425,     0.25526,     0.25626,     0.25726,     0.25826,     0.25926,     0.26026,     0.26126,     0.26226,     0.26326,\n",
       "           0.26426,     0.26527,     0.26627,     0.26727,     0.26827,     0.26927,     0.27027,     0.27127,     0.27227,     0.27327,     0.27427,     0.27528,     0.27628,     0.27728,     0.27828,     0.27928,     0.28028,     0.28128,     0.28228,     0.28328,     0.28428,     0.28529,     0.28629,     0.28729,\n",
       "           0.28829,     0.28929,     0.29029,     0.29129,     0.29229,     0.29329,     0.29429,      0.2953,      0.2963,      0.2973,      0.2983,      0.2993,      0.3003,      0.3013,      0.3023,      0.3033,      0.3043,     0.30531,     0.30631,     0.30731,     0.30831,     0.30931,     0.31031,     0.31131,\n",
       "           0.31231,     0.31331,     0.31431,     0.31532,     0.31632,     0.31732,     0.31832,     0.31932,     0.32032,     0.32132,     0.32232,     0.32332,     0.32432,     0.32533,     0.32633,     0.32733,     0.32833,     0.32933,     0.33033,     0.33133,     0.33233,     0.33333,     0.33433,     0.33534,\n",
       "           0.33634,     0.33734,     0.33834,     0.33934,     0.34034,     0.34134,     0.34234,     0.34334,     0.34434,     0.34535,     0.34635,     0.34735,     0.34835,     0.34935,     0.35035,     0.35135,     0.35235,     0.35335,     0.35435,     0.35536,     0.35636,     0.35736,     0.35836,     0.35936,\n",
       "           0.36036,     0.36136,     0.36236,     0.36336,     0.36436,     0.36537,     0.36637,     0.36737,     0.36837,     0.36937,     0.37037,     0.37137,     0.37237,     0.37337,     0.37437,     0.37538,     0.37638,     0.37738,     0.37838,     0.37938,     0.38038,     0.38138,     0.38238,     0.38338,\n",
       "           0.38438,     0.38539,     0.38639,     0.38739,     0.38839,     0.38939,     0.39039,     0.39139,     0.39239,     0.39339,     0.39439,      0.3954,      0.3964,      0.3974,      0.3984,      0.3994,      0.4004,      0.4014,      0.4024,      0.4034,      0.4044,     0.40541,     0.40641,     0.40741,\n",
       "           0.40841,     0.40941,     0.41041,     0.41141,     0.41241,     0.41341,     0.41441,     0.41542,     0.41642,     0.41742,     0.41842,     0.41942,     0.42042,     0.42142,     0.42242,     0.42342,     0.42442,     0.42543,     0.42643,     0.42743,     0.42843,     0.42943,     0.43043,     0.43143,\n",
       "           0.43243,     0.43343,     0.43443,     0.43544,     0.43644,     0.43744,     0.43844,     0.43944,     0.44044,     0.44144,     0.44244,     0.44344,     0.44444,     0.44545,     0.44645,     0.44745,     0.44845,     0.44945,     0.45045,     0.45145,     0.45245,     0.45345,     0.45445,     0.45546,\n",
       "           0.45646,     0.45746,     0.45846,     0.45946,     0.46046,     0.46146,     0.46246,     0.46346,     0.46446,     0.46547,     0.46647,     0.46747,     0.46847,     0.46947,     0.47047,     0.47147,     0.47247,     0.47347,     0.47447,     0.47548,     0.47648,     0.47748,     0.47848,     0.47948,\n",
       "           0.48048,     0.48148,     0.48248,     0.48348,     0.48448,     0.48549,     0.48649,     0.48749,     0.48849,     0.48949,     0.49049,     0.49149,     0.49249,     0.49349,     0.49449,      0.4955,      0.4965,      0.4975,      0.4985,      0.4995,      0.5005,      0.5015,      0.5025,      0.5035,\n",
       "            0.5045,     0.50551,     0.50651,     0.50751,     0.50851,     0.50951,     0.51051,     0.51151,     0.51251,     0.51351,     0.51451,     0.51552,     0.51652,     0.51752,     0.51852,     0.51952,     0.52052,     0.52152,     0.52252,     0.52352,     0.52452,     0.52553,     0.52653,     0.52753,\n",
       "           0.52853,     0.52953,     0.53053,     0.53153,     0.53253,     0.53353,     0.53453,     0.53554,     0.53654,     0.53754,     0.53854,     0.53954,     0.54054,     0.54154,     0.54254,     0.54354,     0.54454,     0.54555,     0.54655,     0.54755,     0.54855,     0.54955,     0.55055,     0.55155,\n",
       "           0.55255,     0.55355,     0.55455,     0.55556,     0.55656,     0.55756,     0.55856,     0.55956,     0.56056,     0.56156,     0.56256,     0.56356,     0.56456,     0.56557,     0.56657,     0.56757,     0.56857,     0.56957,     0.57057,     0.57157,     0.57257,     0.57357,     0.57457,     0.57558,\n",
       "           0.57658,     0.57758,     0.57858,     0.57958,     0.58058,     0.58158,     0.58258,     0.58358,     0.58458,     0.58559,     0.58659,     0.58759,     0.58859,     0.58959,     0.59059,     0.59159,     0.59259,     0.59359,     0.59459,      0.5956,      0.5966,      0.5976,      0.5986,      0.5996,\n",
       "            0.6006,      0.6016,      0.6026,      0.6036,      0.6046,     0.60561,     0.60661,     0.60761,     0.60861,     0.60961,     0.61061,     0.61161,     0.61261,     0.61361,     0.61461,     0.61562,     0.61662,     0.61762,     0.61862,     0.61962,     0.62062,     0.62162,     0.62262,     0.62362,\n",
       "           0.62462,     0.62563,     0.62663,     0.62763,     0.62863,     0.62963,     0.63063,     0.63163,     0.63263,     0.63363,     0.63463,     0.63564,     0.63664,     0.63764,     0.63864,     0.63964,     0.64064,     0.64164,     0.64264,     0.64364,     0.64464,     0.64565,     0.64665,     0.64765,\n",
       "           0.64865,     0.64965,     0.65065,     0.65165,     0.65265,     0.65365,     0.65465,     0.65566,     0.65666,     0.65766,     0.65866,     0.65966,     0.66066,     0.66166,     0.66266,     0.66366,     0.66466,     0.66567,     0.66667,     0.66767,     0.66867,     0.66967,     0.67067,     0.67167,\n",
       "           0.67267,     0.67367,     0.67467,     0.67568,     0.67668,     0.67768,     0.67868,     0.67968,     0.68068,     0.68168,     0.68268,     0.68368,     0.68468,     0.68569,     0.68669,     0.68769,     0.68869,     0.68969,     0.69069,     0.69169,     0.69269,     0.69369,     0.69469,      0.6957,\n",
       "            0.6967,      0.6977,      0.6987,      0.6997,      0.7007,      0.7017,      0.7027,      0.7037,      0.7047,     0.70571,     0.70671,     0.70771,     0.70871,     0.70971,     0.71071,     0.71171,     0.71271,     0.71371,     0.71471,     0.71572,     0.71672,     0.71772,     0.71872,     0.71972,\n",
       "           0.72072,     0.72172,     0.72272,     0.72372,     0.72472,     0.72573,     0.72673,     0.72773,     0.72873,     0.72973,     0.73073,     0.73173,     0.73273,     0.73373,     0.73473,     0.73574,     0.73674,     0.73774,     0.73874,     0.73974,     0.74074,     0.74174,     0.74274,     0.74374,\n",
       "           0.74474,     0.74575,     0.74675,     0.74775,     0.74875,     0.74975,     0.75075,     0.75175,     0.75275,     0.75375,     0.75475,     0.75576,     0.75676,     0.75776,     0.75876,     0.75976,     0.76076,     0.76176,     0.76276,     0.76376,     0.76476,     0.76577,     0.76677,     0.76777,\n",
       "           0.76877,     0.76977,     0.77077,     0.77177,     0.77277,     0.77377,     0.77477,     0.77578,     0.77678,     0.77778,     0.77878,     0.77978,     0.78078,     0.78178,     0.78278,     0.78378,     0.78478,     0.78579,     0.78679,     0.78779,     0.78879,     0.78979,     0.79079,     0.79179,\n",
       "           0.79279,     0.79379,     0.79479,      0.7958,      0.7968,      0.7978,      0.7988,      0.7998,      0.8008,      0.8018,      0.8028,      0.8038,      0.8048,     0.80581,     0.80681,     0.80781,     0.80881,     0.80981,     0.81081,     0.81181,     0.81281,     0.81381,     0.81481,     0.81582,\n",
       "           0.81682,     0.81782,     0.81882,     0.81982,     0.82082,     0.82182,     0.82282,     0.82382,     0.82482,     0.82583,     0.82683,     0.82783,     0.82883,     0.82983,     0.83083,     0.83183,     0.83283,     0.83383,     0.83483,     0.83584,     0.83684,     0.83784,     0.83884,     0.83984,\n",
       "           0.84084,     0.84184,     0.84284,     0.84384,     0.84484,     0.84585,     0.84685,     0.84785,     0.84885,     0.84985,     0.85085,     0.85185,     0.85285,     0.85385,     0.85485,     0.85586,     0.85686,     0.85786,     0.85886,     0.85986,     0.86086,     0.86186,     0.86286,     0.86386,\n",
       "           0.86486,     0.86587,     0.86687,     0.86787,     0.86887,     0.86987,     0.87087,     0.87187,     0.87287,     0.87387,     0.87487,     0.87588,     0.87688,     0.87788,     0.87888,     0.87988,     0.88088,     0.88188,     0.88288,     0.88388,     0.88488,     0.88589,     0.88689,     0.88789,\n",
       "           0.88889,     0.88989,     0.89089,     0.89189,     0.89289,     0.89389,     0.89489,      0.8959,      0.8969,      0.8979,      0.8989,      0.8999,      0.9009,      0.9019,      0.9029,      0.9039,      0.9049,     0.90591,     0.90691,     0.90791,     0.90891,     0.90991,     0.91091,     0.91191,\n",
       "           0.91291,     0.91391,     0.91491,     0.91592,     0.91692,     0.91792,     0.91892,     0.91992,     0.92092,     0.92192,     0.92292,     0.92392,     0.92492,     0.92593,     0.92693,     0.92793,     0.92893,     0.92993,     0.93093,     0.93193,     0.93293,     0.93393,     0.93493,     0.93594,\n",
       "           0.93694,     0.93794,     0.93894,     0.93994,     0.94094,     0.94194,     0.94294,     0.94394,     0.94494,     0.94595,     0.94695,     0.94795,     0.94895,     0.94995,     0.95095,     0.95195,     0.95295,     0.95395,     0.95495,     0.95596,     0.95696,     0.95796,     0.95896,     0.95996,\n",
       "           0.96096,     0.96196,     0.96296,     0.96396,     0.96496,     0.96597,     0.96697,     0.96797,     0.96897,     0.96997,     0.97097,     0.97197,     0.97297,     0.97397,     0.97497,     0.97598,     0.97698,     0.97798,     0.97898,     0.97998,     0.98098,     0.98198,     0.98298,     0.98398,\n",
       "           0.98498,     0.98599,     0.98699,     0.98799,     0.98899,     0.98999,     0.99099,     0.99199,     0.99299,     0.99399,     0.99499,       0.996,       0.997,       0.998,       0.999,           1]), array([[    0.24791,     0.24793,     0.31618,      0.3522,     0.37806,     0.39148,     0.40755,     0.41514,     0.42153,     0.42756,     0.43013,     0.43577,     0.44333,      0.4498,     0.45651,     0.46469,     0.47163,      0.4742,     0.47807,     0.47606,     0.48365,     0.48876,     0.49283,\n",
       "            0.49595,     0.49798,     0.50402,     0.50644,     0.50824,     0.51509,     0.51912,     0.52086,     0.52634,     0.52756,     0.52842,     0.52985,     0.53013,     0.53136,     0.53477,     0.53585,     0.53853,     0.54178,     0.54637,     0.54706,     0.55015,     0.55141,     0.55378,\n",
       "            0.55421,     0.55593,     0.55779,     0.56018,     0.56293,     0.56331,      0.5637,     0.56498,     0.56791,     0.57028,     0.57098,     0.57206,     0.57639,     0.57821,     0.57866,     0.57902,     0.57932,     0.57962,     0.58064,     0.58255,     0.58151,     0.58148,     0.58415,\n",
       "            0.58495,     0.58544,     0.58601,     0.58701,     0.58822,     0.58981,     0.59036,      0.5914,     0.59241,     0.59319,     0.59438,     0.59596,     0.59652,     0.59703,     0.59818,      0.5989,     0.60009,     0.60529,     0.60614,     0.60653,     0.60691,     0.60773,     0.60904,\n",
       "            0.60996,     0.61309,     0.61622,     0.61708,     0.62028,     0.62339,     0.62473,     0.62745,     0.63163,     0.63351,     0.63763,     0.63904,     0.64002,     0.64438,     0.64504,     0.64545,     0.64586,     0.64703,      0.6475,     0.64787,     0.64824,     0.65044,     0.65203,\n",
       "            0.65301,     0.65499,     0.65541,     0.65584,     0.65672,     0.65894,      0.6595,     0.66014,     0.66174,     0.66271,     0.66322,     0.66372,      0.6654,     0.66598,     0.66656,     0.66725,     0.66797,     0.66859,     0.66921,     0.67079,     0.67118,     0.67157,     0.67196,\n",
       "             0.6736,     0.67421,     0.67483,     0.67596,     0.67817,     0.67947,     0.68068,     0.68144,     0.68245,     0.68337,     0.68394,     0.68451,     0.68582,     0.68664,     0.68741,     0.68808,     0.68875,     0.68909,     0.68941,     0.68973,     0.69005,      0.6904,     0.69081,\n",
       "            0.69122,     0.69163,     0.69345,     0.69479,     0.69681,     0.69769,     0.69823,     0.69877,     0.70099,     0.70289,     0.70361,     0.70395,     0.70429,     0.70463,     0.70495,     0.70522,      0.7055,     0.70577,     0.70605,     0.70632,     0.70896,     0.70993,     0.71062,\n",
       "            0.71248,     0.71274,       0.713,     0.71327,     0.71353,     0.71379,     0.71674,     0.71765,     0.71824,     0.71889,     0.71965,     0.72033,     0.72086,     0.72139,     0.72339,     0.72433,     0.72605,     0.72701,     0.72762,     0.72943,     0.73296,     0.73349,     0.73403,\n",
       "             0.7347,     0.73663,     0.73963,     0.74113,      0.7417,     0.74227,     0.74302,     0.74446,     0.74552,     0.74824,     0.75124,     0.75151,     0.75179,     0.75206,     0.75234,     0.75261,     0.75321,     0.75476,     0.75545,     0.75615,     0.75653,     0.75685,     0.75718,\n",
       "             0.7575,     0.75782,     0.75982,     0.76063,     0.76143,     0.76232,     0.76321,     0.76513,     0.76644,     0.76409,     0.76453,     0.76496,      0.7654,     0.76685,     0.76904,     0.76975,     0.77033,     0.77091,     0.77396,     0.77671,     0.77746,     0.77821,     0.77876,\n",
       "            0.77928,      0.7798,     0.78034,     0.78089,     0.78145,     0.78253,     0.78759,     0.78783,     0.78807,     0.78831,     0.78854,     0.78878,     0.78902,     0.78926,     0.78956,     0.79062,      0.7919,     0.79337,     0.79379,     0.79421,     0.79463,     0.79505,     0.79546,\n",
       "            0.79586,     0.79626,     0.79667,     0.79707,     0.79868,     0.79935,     0.79974,     0.80014,     0.80053,     0.80093,     0.80194,     0.80315,     0.80541,     0.80956,     0.81095,     0.81115,     0.81136,     0.81156,     0.81177,     0.81197,     0.81218,     0.81238,     0.81259,\n",
       "            0.81279,     0.81404,     0.81618,     0.81404,     0.81426,     0.81448,     0.81469,     0.81491,     0.81512,     0.81534,     0.81556,     0.81577,     0.81619,     0.81705,      0.8179,     0.81948,     0.82058,     0.82143,     0.82242,      0.8238,     0.82596,     0.82664,     0.82713,\n",
       "            0.82762,     0.82811,     0.82944,     0.83068,     0.83132,     0.83195,     0.83261,     0.83347,     0.83432,     0.83415,     0.83347,     0.83279,      0.8321,     0.83183,     0.83247,     0.83312,     0.83376,     0.83521,     0.83901,     0.83971,     0.83827,     0.83713,     0.83683,\n",
       "            0.83653,     0.83623,     0.83593,     0.83563,     0.83533,     0.83503,     0.83473,     0.83443,     0.83426,     0.83455,     0.83483,     0.83511,     0.83539,     0.83567,     0.83595,     0.83623,     0.83782,     0.83967,     0.84092,     0.84154,     0.84215,     0.84277,     0.84378,\n",
       "            0.84494,     0.84531,     0.84551,     0.84571,     0.84591,     0.84611,     0.84631,     0.84651,     0.84671,     0.84691,     0.84711,     0.84731,     0.84815,     0.84926,     0.84973,     0.84992,      0.8501,     0.85029,     0.85047,     0.85066,     0.85084,     0.85103,     0.85121,\n",
       "             0.8514,     0.85158,     0.85177,     0.85126,     0.85017,     0.84908,     0.84915,      0.8496,     0.85006,     0.85051,     0.85097,     0.85118,     0.85133,     0.85147,     0.85162,     0.85177,     0.85191,     0.85206,     0.85221,     0.85235,      0.8525,     0.85265,     0.85279,\n",
       "            0.85294,     0.85309,     0.85323,     0.85345,     0.85381,     0.85418,     0.85454,     0.85491,     0.85527,     0.85563,     0.85589,     0.85616,     0.85642,     0.85668,     0.85695,     0.85721,     0.85747,     0.85773,      0.8582,      0.8591,     0.85999,     0.86137,     0.86305,\n",
       "            0.86482,     0.86448,     0.86414,      0.8638,     0.86346,     0.86312,     0.86278,     0.86244,      0.8621,     0.86185,     0.86245,     0.86306,     0.86366,     0.86426,     0.86484,     0.86542,       0.866,     0.86679,     0.86874,     0.86901,     0.86918,     0.86935,     0.86952,\n",
       "            0.86969,     0.86985,     0.87002,     0.87019,     0.87036,     0.87053,     0.87069,     0.87086,     0.87103,      0.8712,     0.87187,     0.87268,     0.87348,     0.87067,     0.87105,     0.87143,      0.8718,     0.87218,     0.87255,     0.87293,     0.87465,     0.87553,     0.87585,\n",
       "            0.87616,     0.87647,     0.87679,      0.8771,     0.87741,     0.87772,     0.87823,     0.87877,     0.87932,     0.87986,     0.88038,     0.88087,     0.88136,     0.88184,     0.88233,     0.88271,      0.8828,     0.88289,     0.88299,     0.88308,     0.88318,     0.88327,     0.88336,\n",
       "            0.88346,     0.88355,     0.88364,     0.88374,     0.88383,     0.88392,     0.88402,     0.88411,      0.8842,      0.8843,     0.88439,     0.88448,     0.88458,     0.88467,     0.88476,     0.88486,     0.88495,     0.88504,     0.88514,      0.8861,     0.88725,     0.88782,      0.8881,\n",
       "            0.88838,     0.88866,     0.88894,     0.88922,      0.8895,     0.88978,     0.89006,      0.8915,     0.89249,     0.89206,     0.89164,     0.89122,      0.8908,     0.89037,     0.88995,     0.88953,     0.88942,     0.88933,     0.88923,     0.88913,     0.88904,     0.88894,     0.88884,\n",
       "            0.88875,     0.88865,     0.88855,     0.88846,     0.88836,     0.88826,     0.88817,     0.88807,     0.88797,     0.88788,     0.88778,     0.88768,     0.88759,     0.88749,     0.88739,      0.8873,      0.8872,      0.8871,     0.88701,     0.88691,     0.88681,     0.88672,     0.88662,\n",
       "            0.88652,     0.88642,      0.8864,      0.8865,      0.8866,     0.88671,     0.88681,     0.88691,     0.88701,     0.88711,     0.88721,     0.88732,     0.88742,     0.88752,     0.88762,     0.88772,     0.88782,     0.88792,     0.88803,     0.88813,     0.88823,     0.88833,     0.88843,\n",
       "            0.88853,     0.88863,     0.88874,     0.88884,     0.88871,     0.88835,     0.88799,     0.88763,     0.88727,     0.88691,     0.88654,     0.88618,     0.88582,     0.88545,     0.88509,     0.88473,     0.88436,       0.884,     0.88363,     0.88327,      0.8829,     0.88254,     0.88155,\n",
       "            0.88054,     0.87953,     0.87877,     0.87809,     0.87741,     0.87672,     0.87607,     0.87591,     0.87574,     0.87558,     0.87541,     0.87525,     0.87508,     0.87492,     0.87476,     0.87459,     0.87443,     0.87426,      0.8741,     0.87393,     0.87377,      0.8736,     0.87344,\n",
       "            0.87327,     0.87311,     0.87294,     0.87066,     0.86569,     0.86494,      0.8642,     0.86345,      0.8627,     0.86194,     0.86119,     0.86043,     0.85967,      0.8614,     0.86043,     0.85945,     0.85874,     0.85849,     0.85824,       0.858,     0.85775,     0.85751,     0.85726,\n",
       "            0.85701,     0.85677,     0.85652,     0.85627,     0.85603,     0.85578,     0.85553,     0.85035,      0.8482,     0.84711,     0.84601,     0.84497,     0.84408,     0.84318,     0.84229,     0.83799,     0.83688,     0.83577,     0.83464,     0.83347,      0.8323,     0.83129,     0.83109,\n",
       "             0.8309,      0.8307,      0.8305,     0.83031,     0.83011,     0.82991,     0.82972,     0.82952,     0.82932,     0.82912,     0.82893,     0.82873,     0.82853,     0.82834,     0.82814,     0.82794,     0.82765,     0.82711,     0.82656,     0.82602,     0.82547,     0.82493,     0.82438,\n",
       "            0.82393,     0.82351,     0.82308,     0.82266,     0.82224,     0.82181,     0.82139,     0.82097,     0.81699,     0.81634,     0.81568,     0.81503,     0.81437,     0.81372,     0.81293,     0.81204,     0.81116,     0.81028,      0.8092,     0.80791,     0.80661,     0.80665,     0.80742,\n",
       "            0.80819,     0.80909,      0.8102,     0.81098,      0.8098,     0.80862,     0.80744,     0.80672,       0.806,     0.80528,     0.80456,     0.80383,     0.80353,     0.80328,     0.80303,     0.80279,     0.80254,      0.8023,     0.80205,      0.8018,     0.80156,     0.80131,     0.80107,\n",
       "            0.80082,     0.80057,     0.80033,     0.80008,     0.79905,     0.79766,     0.79626,     0.79357,      0.7921,     0.79149,     0.79088,     0.79027,     0.78966,     0.78905,     0.78686,     0.78225,     0.78007,     0.77877,     0.77747,     0.77855,     0.77703,      0.7741,     0.77191,\n",
       "             0.7726,     0.77358,     0.77336,     0.77114,     0.76814,     0.76574,     0.76468,     0.76361,     0.76254,     0.76136,     0.76013,      0.7589,      0.7568,     0.75383,     0.75248,     0.75112,      0.7489,     0.74458,     0.74204,     0.73792,     0.73852,     0.73912,     0.73972,\n",
       "            0.73544,     0.73065,     0.72776,     0.72341,     0.72397,     0.72453,     0.72508,     0.72074,     0.70951,      0.7065,     0.70507,     0.70363,     0.69569,     0.68842,     0.68311,     0.67396,     0.65172,     0.64898,     0.64671,     0.64501,     0.64331,     0.63504,     0.62587,\n",
       "            0.61692,     0.61298,     0.60683,      0.6031,     0.59439,      0.5852,     0.58154,     0.57763,     0.56979,     0.56538,     0.56315,      0.5612,     0.55885,     0.55273,     0.54917,     0.54364,     0.52752,     0.51013,     0.50258,     0.48212,     0.47745,     0.47611,     0.47478,\n",
       "            0.47344,      0.4721,     0.46801,     0.46476,     0.46376,     0.46276,     0.46177,     0.46077,     0.45977,     0.45989,     0.45657,     0.45169,     0.44523,     0.42639,     0.42226,     0.40203,     0.39122,     0.38707,     0.38251,      0.3774,     0.37048,      0.3553,     0.33743,\n",
       "            0.33072,     0.32767,     0.32483,     0.32128,     0.31621,     0.30712,     0.29345,     0.29049,     0.28751,      0.2831,     0.27472,      0.2606,     0.24124,     0.23087,     0.22442,     0.21906,     0.21056,     0.20694,      0.2033,     0.19582,     0.17108,     0.15802,     0.15621,\n",
       "             0.1544,     0.15258,     0.15077,     0.14562,     0.12269,     0.11552,     0.10557,    0.082458,     0.07778,    0.073078,    0.063055,    0.058189,    0.053623,    0.047701,    0.041961,    0.040887,    0.039812,    0.038736,    0.037659,    0.036581,    0.035501,     0.03442,    0.033339,\n",
       "           0.032255,    0.031164,    0.030065,    0.028965,    0.027864,    0.026761,    0.025658,    0.024553,    0.023447,    0.022339,    0.021266,    0.021019,    0.020771,    0.020524,    0.020276,    0.020028,     0.01978,    0.019532,    0.019284,    0.019036,    0.018788,     0.01854,    0.018292,\n",
       "           0.018044,    0.017795,    0.017547,    0.017298,     0.01705,    0.016801,    0.016553,    0.016304,    0.016055,    0.015806,    0.015557,    0.015309,    0.015059,     0.01481,    0.014561,    0.014312,    0.014063,    0.013813,    0.013564,    0.013315,    0.013065,    0.012816,    0.012566,\n",
       "           0.012316,    0.012066,    0.011817,    0.011567,    0.011317,    0.011067,    0.010817,           0,           0,           0,           0,           0,           0,           0,           0,           0,           0,           0,           0,           0,           0,           0,           0,\n",
       "                  0,           0,           0,           0,           0,           0,           0,           0,           0,           0,           0]]), 'Confidence', 'F1'], [array([          0,    0.001001,    0.002002,    0.003003,    0.004004,    0.005005,    0.006006,    0.007007,    0.008008,    0.009009,     0.01001,    0.011011,    0.012012,    0.013013,    0.014014,    0.015015,    0.016016,    0.017017,    0.018018,    0.019019,     0.02002,    0.021021,    0.022022,    0.023023,\n",
       "          0.024024,    0.025025,    0.026026,    0.027027,    0.028028,    0.029029,     0.03003,    0.031031,    0.032032,    0.033033,    0.034034,    0.035035,    0.036036,    0.037037,    0.038038,    0.039039,     0.04004,    0.041041,    0.042042,    0.043043,    0.044044,    0.045045,    0.046046,    0.047047,\n",
       "          0.048048,    0.049049,     0.05005,    0.051051,    0.052052,    0.053053,    0.054054,    0.055055,    0.056056,    0.057057,    0.058058,    0.059059,     0.06006,    0.061061,    0.062062,    0.063063,    0.064064,    0.065065,    0.066066,    0.067067,    0.068068,    0.069069,     0.07007,    0.071071,\n",
       "          0.072072,    0.073073,    0.074074,    0.075075,    0.076076,    0.077077,    0.078078,    0.079079,     0.08008,    0.081081,    0.082082,    0.083083,    0.084084,    0.085085,    0.086086,    0.087087,    0.088088,    0.089089,     0.09009,    0.091091,    0.092092,    0.093093,    0.094094,    0.095095,\n",
       "          0.096096,    0.097097,    0.098098,    0.099099,      0.1001,      0.1011,      0.1021,      0.1031,      0.1041,     0.10511,     0.10611,     0.10711,     0.10811,     0.10911,     0.11011,     0.11111,     0.11211,     0.11311,     0.11411,     0.11512,     0.11612,     0.11712,     0.11812,     0.11912,\n",
       "           0.12012,     0.12112,     0.12212,     0.12312,     0.12412,     0.12513,     0.12613,     0.12713,     0.12813,     0.12913,     0.13013,     0.13113,     0.13213,     0.13313,     0.13413,     0.13514,     0.13614,     0.13714,     0.13814,     0.13914,     0.14014,     0.14114,     0.14214,     0.14314,\n",
       "           0.14414,     0.14515,     0.14615,     0.14715,     0.14815,     0.14915,     0.15015,     0.15115,     0.15215,     0.15315,     0.15415,     0.15516,     0.15616,     0.15716,     0.15816,     0.15916,     0.16016,     0.16116,     0.16216,     0.16316,     0.16416,     0.16517,     0.16617,     0.16717,\n",
       "           0.16817,     0.16917,     0.17017,     0.17117,     0.17217,     0.17317,     0.17417,     0.17518,     0.17618,     0.17718,     0.17818,     0.17918,     0.18018,     0.18118,     0.18218,     0.18318,     0.18418,     0.18519,     0.18619,     0.18719,     0.18819,     0.18919,     0.19019,     0.19119,\n",
       "           0.19219,     0.19319,     0.19419,      0.1952,      0.1962,      0.1972,      0.1982,      0.1992,      0.2002,      0.2012,      0.2022,      0.2032,      0.2042,     0.20521,     0.20621,     0.20721,     0.20821,     0.20921,     0.21021,     0.21121,     0.21221,     0.21321,     0.21421,     0.21522,\n",
       "           0.21622,     0.21722,     0.21822,     0.21922,     0.22022,     0.22122,     0.22222,     0.22322,     0.22422,     0.22523,     0.22623,     0.22723,     0.22823,     0.22923,     0.23023,     0.23123,     0.23223,     0.23323,     0.23423,     0.23524,     0.23624,     0.23724,     0.23824,     0.23924,\n",
       "           0.24024,     0.24124,     0.24224,     0.24324,     0.24424,     0.24525,     0.24625,     0.24725,     0.24825,     0.24925,     0.25025,     0.25125,     0.25225,     0.25325,     0.25425,     0.25526,     0.25626,     0.25726,     0.25826,     0.25926,     0.26026,     0.26126,     0.26226,     0.26326,\n",
       "           0.26426,     0.26527,     0.26627,     0.26727,     0.26827,     0.26927,     0.27027,     0.27127,     0.27227,     0.27327,     0.27427,     0.27528,     0.27628,     0.27728,     0.27828,     0.27928,     0.28028,     0.28128,     0.28228,     0.28328,     0.28428,     0.28529,     0.28629,     0.28729,\n",
       "           0.28829,     0.28929,     0.29029,     0.29129,     0.29229,     0.29329,     0.29429,      0.2953,      0.2963,      0.2973,      0.2983,      0.2993,      0.3003,      0.3013,      0.3023,      0.3033,      0.3043,     0.30531,     0.30631,     0.30731,     0.30831,     0.30931,     0.31031,     0.31131,\n",
       "           0.31231,     0.31331,     0.31431,     0.31532,     0.31632,     0.31732,     0.31832,     0.31932,     0.32032,     0.32132,     0.32232,     0.32332,     0.32432,     0.32533,     0.32633,     0.32733,     0.32833,     0.32933,     0.33033,     0.33133,     0.33233,     0.33333,     0.33433,     0.33534,\n",
       "           0.33634,     0.33734,     0.33834,     0.33934,     0.34034,     0.34134,     0.34234,     0.34334,     0.34434,     0.34535,     0.34635,     0.34735,     0.34835,     0.34935,     0.35035,     0.35135,     0.35235,     0.35335,     0.35435,     0.35536,     0.35636,     0.35736,     0.35836,     0.35936,\n",
       "           0.36036,     0.36136,     0.36236,     0.36336,     0.36436,     0.36537,     0.36637,     0.36737,     0.36837,     0.36937,     0.37037,     0.37137,     0.37237,     0.37337,     0.37437,     0.37538,     0.37638,     0.37738,     0.37838,     0.37938,     0.38038,     0.38138,     0.38238,     0.38338,\n",
       "           0.38438,     0.38539,     0.38639,     0.38739,     0.38839,     0.38939,     0.39039,     0.39139,     0.39239,     0.39339,     0.39439,      0.3954,      0.3964,      0.3974,      0.3984,      0.3994,      0.4004,      0.4014,      0.4024,      0.4034,      0.4044,     0.40541,     0.40641,     0.40741,\n",
       "           0.40841,     0.40941,     0.41041,     0.41141,     0.41241,     0.41341,     0.41441,     0.41542,     0.41642,     0.41742,     0.41842,     0.41942,     0.42042,     0.42142,     0.42242,     0.42342,     0.42442,     0.42543,     0.42643,     0.42743,     0.42843,     0.42943,     0.43043,     0.43143,\n",
       "           0.43243,     0.43343,     0.43443,     0.43544,     0.43644,     0.43744,     0.43844,     0.43944,     0.44044,     0.44144,     0.44244,     0.44344,     0.44444,     0.44545,     0.44645,     0.44745,     0.44845,     0.44945,     0.45045,     0.45145,     0.45245,     0.45345,     0.45445,     0.45546,\n",
       "           0.45646,     0.45746,     0.45846,     0.45946,     0.46046,     0.46146,     0.46246,     0.46346,     0.46446,     0.46547,     0.46647,     0.46747,     0.46847,     0.46947,     0.47047,     0.47147,     0.47247,     0.47347,     0.47447,     0.47548,     0.47648,     0.47748,     0.47848,     0.47948,\n",
       "           0.48048,     0.48148,     0.48248,     0.48348,     0.48448,     0.48549,     0.48649,     0.48749,     0.48849,     0.48949,     0.49049,     0.49149,     0.49249,     0.49349,     0.49449,      0.4955,      0.4965,      0.4975,      0.4985,      0.4995,      0.5005,      0.5015,      0.5025,      0.5035,\n",
       "            0.5045,     0.50551,     0.50651,     0.50751,     0.50851,     0.50951,     0.51051,     0.51151,     0.51251,     0.51351,     0.51451,     0.51552,     0.51652,     0.51752,     0.51852,     0.51952,     0.52052,     0.52152,     0.52252,     0.52352,     0.52452,     0.52553,     0.52653,     0.52753,\n",
       "           0.52853,     0.52953,     0.53053,     0.53153,     0.53253,     0.53353,     0.53453,     0.53554,     0.53654,     0.53754,     0.53854,     0.53954,     0.54054,     0.54154,     0.54254,     0.54354,     0.54454,     0.54555,     0.54655,     0.54755,     0.54855,     0.54955,     0.55055,     0.55155,\n",
       "           0.55255,     0.55355,     0.55455,     0.55556,     0.55656,     0.55756,     0.55856,     0.55956,     0.56056,     0.56156,     0.56256,     0.56356,     0.56456,     0.56557,     0.56657,     0.56757,     0.56857,     0.56957,     0.57057,     0.57157,     0.57257,     0.57357,     0.57457,     0.57558,\n",
       "           0.57658,     0.57758,     0.57858,     0.57958,     0.58058,     0.58158,     0.58258,     0.58358,     0.58458,     0.58559,     0.58659,     0.58759,     0.58859,     0.58959,     0.59059,     0.59159,     0.59259,     0.59359,     0.59459,      0.5956,      0.5966,      0.5976,      0.5986,      0.5996,\n",
       "            0.6006,      0.6016,      0.6026,      0.6036,      0.6046,     0.60561,     0.60661,     0.60761,     0.60861,     0.60961,     0.61061,     0.61161,     0.61261,     0.61361,     0.61461,     0.61562,     0.61662,     0.61762,     0.61862,     0.61962,     0.62062,     0.62162,     0.62262,     0.62362,\n",
       "           0.62462,     0.62563,     0.62663,     0.62763,     0.62863,     0.62963,     0.63063,     0.63163,     0.63263,     0.63363,     0.63463,     0.63564,     0.63664,     0.63764,     0.63864,     0.63964,     0.64064,     0.64164,     0.64264,     0.64364,     0.64464,     0.64565,     0.64665,     0.64765,\n",
       "           0.64865,     0.64965,     0.65065,     0.65165,     0.65265,     0.65365,     0.65465,     0.65566,     0.65666,     0.65766,     0.65866,     0.65966,     0.66066,     0.66166,     0.66266,     0.66366,     0.66466,     0.66567,     0.66667,     0.66767,     0.66867,     0.66967,     0.67067,     0.67167,\n",
       "           0.67267,     0.67367,     0.67467,     0.67568,     0.67668,     0.67768,     0.67868,     0.67968,     0.68068,     0.68168,     0.68268,     0.68368,     0.68468,     0.68569,     0.68669,     0.68769,     0.68869,     0.68969,     0.69069,     0.69169,     0.69269,     0.69369,     0.69469,      0.6957,\n",
       "            0.6967,      0.6977,      0.6987,      0.6997,      0.7007,      0.7017,      0.7027,      0.7037,      0.7047,     0.70571,     0.70671,     0.70771,     0.70871,     0.70971,     0.71071,     0.71171,     0.71271,     0.71371,     0.71471,     0.71572,     0.71672,     0.71772,     0.71872,     0.71972,\n",
       "           0.72072,     0.72172,     0.72272,     0.72372,     0.72472,     0.72573,     0.72673,     0.72773,     0.72873,     0.72973,     0.73073,     0.73173,     0.73273,     0.73373,     0.73473,     0.73574,     0.73674,     0.73774,     0.73874,     0.73974,     0.74074,     0.74174,     0.74274,     0.74374,\n",
       "           0.74474,     0.74575,     0.74675,     0.74775,     0.74875,     0.74975,     0.75075,     0.75175,     0.75275,     0.75375,     0.75475,     0.75576,     0.75676,     0.75776,     0.75876,     0.75976,     0.76076,     0.76176,     0.76276,     0.76376,     0.76476,     0.76577,     0.76677,     0.76777,\n",
       "           0.76877,     0.76977,     0.77077,     0.77177,     0.77277,     0.77377,     0.77477,     0.77578,     0.77678,     0.77778,     0.77878,     0.77978,     0.78078,     0.78178,     0.78278,     0.78378,     0.78478,     0.78579,     0.78679,     0.78779,     0.78879,     0.78979,     0.79079,     0.79179,\n",
       "           0.79279,     0.79379,     0.79479,      0.7958,      0.7968,      0.7978,      0.7988,      0.7998,      0.8008,      0.8018,      0.8028,      0.8038,      0.8048,     0.80581,     0.80681,     0.80781,     0.80881,     0.80981,     0.81081,     0.81181,     0.81281,     0.81381,     0.81481,     0.81582,\n",
       "           0.81682,     0.81782,     0.81882,     0.81982,     0.82082,     0.82182,     0.82282,     0.82382,     0.82482,     0.82583,     0.82683,     0.82783,     0.82883,     0.82983,     0.83083,     0.83183,     0.83283,     0.83383,     0.83483,     0.83584,     0.83684,     0.83784,     0.83884,     0.83984,\n",
       "           0.84084,     0.84184,     0.84284,     0.84384,     0.84484,     0.84585,     0.84685,     0.84785,     0.84885,     0.84985,     0.85085,     0.85185,     0.85285,     0.85385,     0.85485,     0.85586,     0.85686,     0.85786,     0.85886,     0.85986,     0.86086,     0.86186,     0.86286,     0.86386,\n",
       "           0.86486,     0.86587,     0.86687,     0.86787,     0.86887,     0.86987,     0.87087,     0.87187,     0.87287,     0.87387,     0.87487,     0.87588,     0.87688,     0.87788,     0.87888,     0.87988,     0.88088,     0.88188,     0.88288,     0.88388,     0.88488,     0.88589,     0.88689,     0.88789,\n",
       "           0.88889,     0.88989,     0.89089,     0.89189,     0.89289,     0.89389,     0.89489,      0.8959,      0.8969,      0.8979,      0.8989,      0.8999,      0.9009,      0.9019,      0.9029,      0.9039,      0.9049,     0.90591,     0.90691,     0.90791,     0.90891,     0.90991,     0.91091,     0.91191,\n",
       "           0.91291,     0.91391,     0.91491,     0.91592,     0.91692,     0.91792,     0.91892,     0.91992,     0.92092,     0.92192,     0.92292,     0.92392,     0.92492,     0.92593,     0.92693,     0.92793,     0.92893,     0.92993,     0.93093,     0.93193,     0.93293,     0.93393,     0.93493,     0.93594,\n",
       "           0.93694,     0.93794,     0.93894,     0.93994,     0.94094,     0.94194,     0.94294,     0.94394,     0.94494,     0.94595,     0.94695,     0.94795,     0.94895,     0.94995,     0.95095,     0.95195,     0.95295,     0.95395,     0.95495,     0.95596,     0.95696,     0.95796,     0.95896,     0.95996,\n",
       "           0.96096,     0.96196,     0.96296,     0.96396,     0.96496,     0.96597,     0.96697,     0.96797,     0.96897,     0.96997,     0.97097,     0.97197,     0.97297,     0.97397,     0.97497,     0.97598,     0.97698,     0.97798,     0.97898,     0.97998,     0.98098,     0.98198,     0.98298,     0.98398,\n",
       "           0.98498,     0.98599,     0.98699,     0.98799,     0.98899,     0.98999,     0.99099,     0.99199,     0.99299,     0.99399,     0.99499,       0.996,       0.997,       0.998,       0.999,           1]), array([[     0.1424,     0.14241,     0.18937,     0.21581,     0.23556,     0.24643,      0.2593,     0.26547,     0.27072,     0.27572,     0.27786,     0.28355,     0.28999,     0.29608,     0.30249,     0.30971,     0.31591,     0.31822,     0.32172,     0.32119,     0.32814,     0.33286,     0.33738,\n",
       "            0.34031,     0.34222,     0.34795,     0.35026,     0.35199,     0.35859,     0.36251,     0.36421,     0.36959,     0.37127,     0.37254,     0.37397,     0.37476,     0.37639,     0.37983,     0.38092,     0.38363,     0.38694,     0.39164,     0.39235,     0.39553,     0.39684,      0.3993,\n",
       "            0.39975,     0.40154,     0.40348,     0.40599,     0.40888,     0.40929,     0.40969,     0.41105,     0.41416,     0.41668,     0.41743,     0.41859,     0.42443,     0.42641,      0.4269,     0.42729,     0.42762,     0.42794,     0.42905,     0.43115,      0.4307,     0.43122,     0.43416,\n",
       "            0.43504,     0.43558,     0.43622,     0.43732,     0.43867,     0.44044,     0.44106,     0.44222,     0.44335,     0.44422,     0.44555,     0.44734,     0.44797,     0.44854,     0.44985,     0.45066,     0.45201,     0.45793,     0.45891,     0.45935,     0.45979,     0.46073,     0.46224,\n",
       "             0.4633,     0.46692,     0.47056,     0.47157,     0.47532,     0.47898,     0.48056,     0.48379,     0.48878,     0.49103,       0.496,     0.49771,      0.4989,     0.50421,     0.50503,     0.50553,     0.50603,     0.50746,     0.50805,      0.5085,     0.50896,     0.51168,     0.51365,\n",
       "            0.51486,     0.51733,     0.51786,     0.51839,      0.5195,     0.52228,     0.52299,     0.52378,     0.52581,     0.52702,     0.52767,     0.52831,     0.53045,     0.53118,     0.53191,     0.53279,     0.53371,     0.53451,      0.5353,     0.53732,     0.53782,     0.53832,     0.53882,\n",
       "            0.54094,     0.54172,     0.54252,     0.54399,     0.54686,     0.54855,     0.55013,     0.55112,     0.55245,     0.55365,     0.55439,     0.55514,     0.55688,     0.55796,     0.55897,     0.55986,     0.56075,      0.5612,     0.56162,     0.56205,     0.56247,     0.56294,     0.56349,\n",
       "            0.56403,     0.56457,       0.567,      0.5688,     0.57151,      0.5727,     0.57343,     0.57415,     0.57716,     0.57974,     0.58072,     0.58118,     0.58164,     0.58211,     0.58255,     0.58292,      0.5833,     0.58367,     0.58405,     0.58442,     0.58804,     0.58938,     0.59034,\n",
       "             0.5929,     0.59326,     0.59363,     0.59399,     0.59436,     0.59472,     0.59883,     0.60009,     0.60093,     0.60184,      0.6029,     0.60386,     0.60461,     0.60535,     0.60818,     0.60949,     0.61194,      0.6133,     0.61418,     0.61676,     0.62182,     0.62259,     0.62336,\n",
       "            0.62433,     0.62712,     0.63149,     0.63368,     0.63451,     0.63534,     0.63644,     0.63856,     0.64011,     0.64414,      0.6486,     0.64901,     0.64942,     0.64983,     0.65024,     0.65065,     0.65154,     0.65387,     0.65491,     0.65595,     0.65653,     0.65702,      0.6575,\n",
       "            0.65799,     0.65848,     0.66151,     0.66272,     0.66394,      0.6653,     0.66665,     0.66959,      0.6716,     0.67104,     0.67171,     0.67239,     0.67306,     0.67531,     0.67872,     0.67983,     0.68073,     0.68163,     0.68641,     0.69076,     0.69195,     0.69313,     0.69401,\n",
       "            0.69484,     0.69566,     0.69651,      0.6974,     0.69829,     0.70002,     0.70816,     0.70854,     0.70893,     0.70931,      0.7097,     0.71008,     0.71047,     0.71085,     0.71135,     0.71307,     0.71515,     0.71756,     0.71825,     0.71893,     0.71962,     0.72031,     0.72098,\n",
       "            0.72164,      0.7223,     0.72297,     0.72363,      0.7263,      0.7274,     0.72805,     0.72871,     0.72936,     0.73002,      0.7317,     0.73371,      0.7375,     0.74449,     0.74684,     0.74719,     0.74754,     0.74788,     0.74823,     0.74858,     0.74893,     0.74928,     0.74962,\n",
       "            0.74997,      0.7521,     0.75663,     0.75602,     0.75639,     0.75676,     0.75714,     0.75751,     0.75788,     0.75826,     0.75863,       0.759,     0.75972,     0.76121,      0.7627,     0.76545,     0.76737,     0.76886,     0.77059,     0.77302,     0.77683,     0.77804,      0.7789,\n",
       "            0.77977,     0.78064,     0.78302,     0.78523,     0.78636,      0.7875,     0.78869,     0.79023,     0.79176,     0.79212,     0.79188,     0.79165,     0.79142,     0.79162,     0.79279,     0.79395,     0.79512,     0.79776,     0.80472,     0.80677,     0.80631,     0.80595,     0.80585,\n",
       "            0.80575,     0.80565,     0.80556,     0.80546,     0.80536,     0.80527,     0.80517,     0.80507,     0.80513,     0.80565,     0.80618,      0.8067,     0.80723,     0.80775,     0.80828,      0.8088,     0.81177,     0.81525,     0.81761,     0.81878,     0.81995,     0.82111,     0.82304,\n",
       "            0.82526,     0.82596,     0.82634,     0.82672,      0.8271,     0.82749,     0.82787,     0.82825,     0.82863,     0.82902,      0.8294,     0.82978,     0.83139,     0.83354,     0.83444,      0.8348,     0.83516,     0.83552,     0.83587,     0.83623,     0.83659,     0.83695,     0.83731,\n",
       "            0.83766,     0.83802,     0.83838,     0.83838,     0.83808,     0.83777,     0.83836,     0.83925,     0.84014,     0.84103,     0.84192,     0.84233,     0.84262,     0.84291,      0.8432,     0.84348,     0.84377,     0.84406,     0.84435,     0.84464,     0.84492,     0.84521,      0.8455,\n",
       "            0.84579,     0.84607,     0.84636,     0.84679,      0.8475,     0.84822,     0.84894,     0.84966,     0.85038,     0.85109,     0.85161,     0.85213,     0.85266,     0.85318,      0.8537,     0.85422,     0.85474,     0.85527,      0.8562,     0.85799,     0.85977,     0.86253,      0.8659,\n",
       "            0.86955,     0.86948,      0.8694,     0.86932,     0.86924,     0.86916,     0.86908,       0.869,     0.86892,     0.86897,     0.87021,     0.87144,     0.87268,      0.8739,     0.87508,     0.87627,     0.87745,     0.87908,     0.88311,     0.88366,     0.88401,     0.88436,     0.88471,\n",
       "            0.88506,     0.88541,     0.88575,      0.8861,     0.88645,      0.8868,     0.88715,      0.8875,     0.88785,     0.88819,      0.8896,     0.89128,     0.89296,     0.89297,     0.89376,     0.89455,     0.89535,     0.89614,     0.89693,     0.89772,     0.90139,     0.90326,     0.90392,\n",
       "            0.90459,     0.90526,     0.90593,     0.90659,     0.90726,     0.90793,     0.90901,     0.91018,     0.91134,     0.91251,     0.91364,     0.91469,     0.91574,     0.91679,     0.91784,     0.91866,     0.91886,     0.91907,     0.91927,     0.91947,     0.91968,     0.91988,     0.92008,\n",
       "            0.92029,     0.92049,     0.92069,     0.92089,      0.9211,      0.9213,      0.9215,     0.92171,     0.92191,     0.92211,     0.92232,     0.92252,     0.92272,     0.92293,     0.92313,     0.92333,     0.92354,     0.92374,     0.92394,     0.92605,     0.92855,     0.92981,     0.93043,\n",
       "            0.93104,     0.93166,     0.93227,     0.93289,      0.9335,     0.93411,     0.93473,     0.93792,     0.94046,     0.94041,     0.94036,     0.94031,     0.94026,     0.94022,     0.94017,     0.94012,     0.94011,      0.9401,     0.94009,     0.94008,     0.94006,     0.94005,     0.94004,\n",
       "            0.94003,     0.94002,     0.94001,        0.94,     0.93999,     0.93998,     0.93997,     0.93995,     0.93994,     0.93993,     0.93992,     0.93991,      0.9399,     0.93989,     0.93988,     0.93987,     0.93985,     0.93984,     0.93983,     0.93982,     0.93981,      0.9398,     0.93979,\n",
       "            0.93978,     0.93977,     0.93984,     0.94007,      0.9403,     0.94053,     0.94076,     0.94099,     0.94122,     0.94145,     0.94167,      0.9419,     0.94213,     0.94236,     0.94259,     0.94282,     0.94305,     0.94328,     0.94351,     0.94373,     0.94396,     0.94419,     0.94442,\n",
       "            0.94465,     0.94488,     0.94511,     0.94534,     0.94544,      0.9454,     0.94536,     0.94532,     0.94528,     0.94525,     0.94521,     0.94517,     0.94513,     0.94509,     0.94506,     0.94502,     0.94498,     0.94494,      0.9449,     0.94486,     0.94483,     0.94479,     0.94468,\n",
       "            0.94457,     0.94447,     0.94439,     0.94431,     0.94424,     0.94417,      0.9441,     0.94408,     0.94406,     0.94405,     0.94403,     0.94401,     0.94399,     0.94397,     0.94396,     0.94394,     0.94392,      0.9439,     0.94389,     0.94387,     0.94385,     0.94383,     0.94382,\n",
       "             0.9438,     0.94378,     0.94376,     0.94351,     0.94297,     0.94289,     0.94281,     0.94273,     0.94264,     0.94256,     0.94248,     0.94239,     0.94231,     0.94831,     0.94821,     0.94811,     0.94804,     0.94802,     0.94799,     0.94797,     0.94794,     0.94792,     0.94789,\n",
       "            0.94787,     0.94784,     0.94782,     0.94779,     0.94777,     0.94774,     0.94772,     0.94719,     0.94697,     0.94686,     0.94675,     0.94664,     0.94655,     0.94645,     0.94636,     0.94591,     0.94579,     0.94568,     0.94556,     0.94543,     0.94531,      0.9452,     0.94518,\n",
       "            0.94516,     0.94514,     0.94512,      0.9451,     0.94508,     0.94505,     0.94503,     0.94501,     0.94499,     0.94497,     0.94495,     0.94493,     0.94491,     0.94489,     0.94486,     0.94484,     0.94481,     0.94475,     0.94469,     0.94464,     0.94458,     0.94452,     0.94446,\n",
       "            0.94441,     0.94436,     0.94432,     0.94427,     0.94423,     0.94418,     0.94413,     0.94409,     0.94365,     0.94358,     0.94351,     0.94344,     0.94336,     0.94329,      0.9432,     0.94311,     0.94301,     0.94291,     0.94279,     0.94264,      0.9425,     0.94381,     0.94592,\n",
       "            0.94803,     0.95052,     0.95357,     0.95619,     0.95609,     0.95598,     0.95588,     0.95582,     0.95575,     0.95569,     0.95563,     0.95556,     0.95554,     0.95551,     0.95549,     0.95547,     0.95545,     0.95543,     0.95541,     0.95538,     0.95536,     0.95534,     0.95532,\n",
       "             0.9553,     0.95527,     0.95525,     0.95523,     0.95514,     0.95501,     0.95489,     0.95465,     0.95451,     0.95446,      0.9544,     0.95435,     0.95429,     0.95424,     0.95403,     0.95361,     0.95341,     0.95328,     0.95316,      0.9576,     0.96043,     0.96019,     0.96002,\n",
       "            0.96277,     0.96584,     0.96769,     0.96754,     0.96734,     0.96718,     0.96711,     0.96704,     0.96696,     0.96688,      0.9668,     0.96672,     0.96657,     0.96637,     0.96627,     0.96618,     0.96602,     0.96572,     0.96554,      0.9665,     0.96857,     0.97064,     0.97271,\n",
       "            0.97343,     0.97316,       0.973,     0.97432,     0.97635,     0.97837,      0.9804,     0.98147,     0.98102,     0.98089,     0.98084,     0.98078,     0.98044,     0.98013,      0.9799,      0.9795,     0.97847,     0.97833,     0.97822,     0.97814,     0.97806,     0.97764,     0.97718,\n",
       "            0.97671,     0.97649,     0.97616,     0.97595,     0.97546,     0.97492,     0.97471,     0.97447,     0.97399,     0.97372,     0.97357,     0.97345,      0.9733,      0.9729,     0.97266,     0.97229,     0.97116,     0.96986,     0.96928,     0.96759,     0.96719,     0.96707,     0.96695,\n",
       "            0.96683,     0.96672,     0.96635,     0.96605,     0.96596,     0.96586,     0.96577,     0.96568,     0.96559,     0.97329,     0.98224,       0.982,     0.98167,     0.98064,     0.98041,     0.97919,     0.97848,      0.9782,     0.97789,     0.97752,     0.97702,     0.97584,     0.97433,\n",
       "            0.97372,     0.97343,     0.97316,     0.97281,     0.97231,           1,           1,           1,           1,           1,           1,           1,           1,           1,           1,           1,           1,           1,           1,           1,           1,           1,           1,\n",
       "                  1,           1,           1,           1,           1,           1,           1,           1,           1,           1,           1,           1,           1,           1,           1,           1,           1,           1,           1,           1,           1,           1,           1,\n",
       "                  1,           1,           1,           1,           1,           1,           1,           1,           1,           1,           1,           1,           1,           1,           1,           1,           1,           1,           1,           1,           1,           1,           1,\n",
       "                  1,           1,           1,           1,           1,           1,           1,           1,           1,           1,           1,           1,           1,           1,           1,           1,           1,           1,           1,           1,           1,           1,           1,\n",
       "                  1,           1,           1,           1,           1,           1,           1,           1,           1,           1,           1,           1,           1,           1,           1,           1,           1,           1,           1,           1,           1,           1,           1,\n",
       "                  1,           1,           1,           1,           1,           1,           1,           1,           1,           1,           1]]), 'Confidence', 'Precision'], [array([          0,    0.001001,    0.002002,    0.003003,    0.004004,    0.005005,    0.006006,    0.007007,    0.008008,    0.009009,     0.01001,    0.011011,    0.012012,    0.013013,    0.014014,    0.015015,    0.016016,    0.017017,    0.018018,    0.019019,     0.02002,    0.021021,    0.022022,    0.023023,\n",
       "          0.024024,    0.025025,    0.026026,    0.027027,    0.028028,    0.029029,     0.03003,    0.031031,    0.032032,    0.033033,    0.034034,    0.035035,    0.036036,    0.037037,    0.038038,    0.039039,     0.04004,    0.041041,    0.042042,    0.043043,    0.044044,    0.045045,    0.046046,    0.047047,\n",
       "          0.048048,    0.049049,     0.05005,    0.051051,    0.052052,    0.053053,    0.054054,    0.055055,    0.056056,    0.057057,    0.058058,    0.059059,     0.06006,    0.061061,    0.062062,    0.063063,    0.064064,    0.065065,    0.066066,    0.067067,    0.068068,    0.069069,     0.07007,    0.071071,\n",
       "          0.072072,    0.073073,    0.074074,    0.075075,    0.076076,    0.077077,    0.078078,    0.079079,     0.08008,    0.081081,    0.082082,    0.083083,    0.084084,    0.085085,    0.086086,    0.087087,    0.088088,    0.089089,     0.09009,    0.091091,    0.092092,    0.093093,    0.094094,    0.095095,\n",
       "          0.096096,    0.097097,    0.098098,    0.099099,      0.1001,      0.1011,      0.1021,      0.1031,      0.1041,     0.10511,     0.10611,     0.10711,     0.10811,     0.10911,     0.11011,     0.11111,     0.11211,     0.11311,     0.11411,     0.11512,     0.11612,     0.11712,     0.11812,     0.11912,\n",
       "           0.12012,     0.12112,     0.12212,     0.12312,     0.12412,     0.12513,     0.12613,     0.12713,     0.12813,     0.12913,     0.13013,     0.13113,     0.13213,     0.13313,     0.13413,     0.13514,     0.13614,     0.13714,     0.13814,     0.13914,     0.14014,     0.14114,     0.14214,     0.14314,\n",
       "           0.14414,     0.14515,     0.14615,     0.14715,     0.14815,     0.14915,     0.15015,     0.15115,     0.15215,     0.15315,     0.15415,     0.15516,     0.15616,     0.15716,     0.15816,     0.15916,     0.16016,     0.16116,     0.16216,     0.16316,     0.16416,     0.16517,     0.16617,     0.16717,\n",
       "           0.16817,     0.16917,     0.17017,     0.17117,     0.17217,     0.17317,     0.17417,     0.17518,     0.17618,     0.17718,     0.17818,     0.17918,     0.18018,     0.18118,     0.18218,     0.18318,     0.18418,     0.18519,     0.18619,     0.18719,     0.18819,     0.18919,     0.19019,     0.19119,\n",
       "           0.19219,     0.19319,     0.19419,      0.1952,      0.1962,      0.1972,      0.1982,      0.1992,      0.2002,      0.2012,      0.2022,      0.2032,      0.2042,     0.20521,     0.20621,     0.20721,     0.20821,     0.20921,     0.21021,     0.21121,     0.21221,     0.21321,     0.21421,     0.21522,\n",
       "           0.21622,     0.21722,     0.21822,     0.21922,     0.22022,     0.22122,     0.22222,     0.22322,     0.22422,     0.22523,     0.22623,     0.22723,     0.22823,     0.22923,     0.23023,     0.23123,     0.23223,     0.23323,     0.23423,     0.23524,     0.23624,     0.23724,     0.23824,     0.23924,\n",
       "           0.24024,     0.24124,     0.24224,     0.24324,     0.24424,     0.24525,     0.24625,     0.24725,     0.24825,     0.24925,     0.25025,     0.25125,     0.25225,     0.25325,     0.25425,     0.25526,     0.25626,     0.25726,     0.25826,     0.25926,     0.26026,     0.26126,     0.26226,     0.26326,\n",
       "           0.26426,     0.26527,     0.26627,     0.26727,     0.26827,     0.26927,     0.27027,     0.27127,     0.27227,     0.27327,     0.27427,     0.27528,     0.27628,     0.27728,     0.27828,     0.27928,     0.28028,     0.28128,     0.28228,     0.28328,     0.28428,     0.28529,     0.28629,     0.28729,\n",
       "           0.28829,     0.28929,     0.29029,     0.29129,     0.29229,     0.29329,     0.29429,      0.2953,      0.2963,      0.2973,      0.2983,      0.2993,      0.3003,      0.3013,      0.3023,      0.3033,      0.3043,     0.30531,     0.30631,     0.30731,     0.30831,     0.30931,     0.31031,     0.31131,\n",
       "           0.31231,     0.31331,     0.31431,     0.31532,     0.31632,     0.31732,     0.31832,     0.31932,     0.32032,     0.32132,     0.32232,     0.32332,     0.32432,     0.32533,     0.32633,     0.32733,     0.32833,     0.32933,     0.33033,     0.33133,     0.33233,     0.33333,     0.33433,     0.33534,\n",
       "           0.33634,     0.33734,     0.33834,     0.33934,     0.34034,     0.34134,     0.34234,     0.34334,     0.34434,     0.34535,     0.34635,     0.34735,     0.34835,     0.34935,     0.35035,     0.35135,     0.35235,     0.35335,     0.35435,     0.35536,     0.35636,     0.35736,     0.35836,     0.35936,\n",
       "           0.36036,     0.36136,     0.36236,     0.36336,     0.36436,     0.36537,     0.36637,     0.36737,     0.36837,     0.36937,     0.37037,     0.37137,     0.37237,     0.37337,     0.37437,     0.37538,     0.37638,     0.37738,     0.37838,     0.37938,     0.38038,     0.38138,     0.38238,     0.38338,\n",
       "           0.38438,     0.38539,     0.38639,     0.38739,     0.38839,     0.38939,     0.39039,     0.39139,     0.39239,     0.39339,     0.39439,      0.3954,      0.3964,      0.3974,      0.3984,      0.3994,      0.4004,      0.4014,      0.4024,      0.4034,      0.4044,     0.40541,     0.40641,     0.40741,\n",
       "           0.40841,     0.40941,     0.41041,     0.41141,     0.41241,     0.41341,     0.41441,     0.41542,     0.41642,     0.41742,     0.41842,     0.41942,     0.42042,     0.42142,     0.42242,     0.42342,     0.42442,     0.42543,     0.42643,     0.42743,     0.42843,     0.42943,     0.43043,     0.43143,\n",
       "           0.43243,     0.43343,     0.43443,     0.43544,     0.43644,     0.43744,     0.43844,     0.43944,     0.44044,     0.44144,     0.44244,     0.44344,     0.44444,     0.44545,     0.44645,     0.44745,     0.44845,     0.44945,     0.45045,     0.45145,     0.45245,     0.45345,     0.45445,     0.45546,\n",
       "           0.45646,     0.45746,     0.45846,     0.45946,     0.46046,     0.46146,     0.46246,     0.46346,     0.46446,     0.46547,     0.46647,     0.46747,     0.46847,     0.46947,     0.47047,     0.47147,     0.47247,     0.47347,     0.47447,     0.47548,     0.47648,     0.47748,     0.47848,     0.47948,\n",
       "           0.48048,     0.48148,     0.48248,     0.48348,     0.48448,     0.48549,     0.48649,     0.48749,     0.48849,     0.48949,     0.49049,     0.49149,     0.49249,     0.49349,     0.49449,      0.4955,      0.4965,      0.4975,      0.4985,      0.4995,      0.5005,      0.5015,      0.5025,      0.5035,\n",
       "            0.5045,     0.50551,     0.50651,     0.50751,     0.50851,     0.50951,     0.51051,     0.51151,     0.51251,     0.51351,     0.51451,     0.51552,     0.51652,     0.51752,     0.51852,     0.51952,     0.52052,     0.52152,     0.52252,     0.52352,     0.52452,     0.52553,     0.52653,     0.52753,\n",
       "           0.52853,     0.52953,     0.53053,     0.53153,     0.53253,     0.53353,     0.53453,     0.53554,     0.53654,     0.53754,     0.53854,     0.53954,     0.54054,     0.54154,     0.54254,     0.54354,     0.54454,     0.54555,     0.54655,     0.54755,     0.54855,     0.54955,     0.55055,     0.55155,\n",
       "           0.55255,     0.55355,     0.55455,     0.55556,     0.55656,     0.55756,     0.55856,     0.55956,     0.56056,     0.56156,     0.56256,     0.56356,     0.56456,     0.56557,     0.56657,     0.56757,     0.56857,     0.56957,     0.57057,     0.57157,     0.57257,     0.57357,     0.57457,     0.57558,\n",
       "           0.57658,     0.57758,     0.57858,     0.57958,     0.58058,     0.58158,     0.58258,     0.58358,     0.58458,     0.58559,     0.58659,     0.58759,     0.58859,     0.58959,     0.59059,     0.59159,     0.59259,     0.59359,     0.59459,      0.5956,      0.5966,      0.5976,      0.5986,      0.5996,\n",
       "            0.6006,      0.6016,      0.6026,      0.6036,      0.6046,     0.60561,     0.60661,     0.60761,     0.60861,     0.60961,     0.61061,     0.61161,     0.61261,     0.61361,     0.61461,     0.61562,     0.61662,     0.61762,     0.61862,     0.61962,     0.62062,     0.62162,     0.62262,     0.62362,\n",
       "           0.62462,     0.62563,     0.62663,     0.62763,     0.62863,     0.62963,     0.63063,     0.63163,     0.63263,     0.63363,     0.63463,     0.63564,     0.63664,     0.63764,     0.63864,     0.63964,     0.64064,     0.64164,     0.64264,     0.64364,     0.64464,     0.64565,     0.64665,     0.64765,\n",
       "           0.64865,     0.64965,     0.65065,     0.65165,     0.65265,     0.65365,     0.65465,     0.65566,     0.65666,     0.65766,     0.65866,     0.65966,     0.66066,     0.66166,     0.66266,     0.66366,     0.66466,     0.66567,     0.66667,     0.66767,     0.66867,     0.66967,     0.67067,     0.67167,\n",
       "           0.67267,     0.67367,     0.67467,     0.67568,     0.67668,     0.67768,     0.67868,     0.67968,     0.68068,     0.68168,     0.68268,     0.68368,     0.68468,     0.68569,     0.68669,     0.68769,     0.68869,     0.68969,     0.69069,     0.69169,     0.69269,     0.69369,     0.69469,      0.6957,\n",
       "            0.6967,      0.6977,      0.6987,      0.6997,      0.7007,      0.7017,      0.7027,      0.7037,      0.7047,     0.70571,     0.70671,     0.70771,     0.70871,     0.70971,     0.71071,     0.71171,     0.71271,     0.71371,     0.71471,     0.71572,     0.71672,     0.71772,     0.71872,     0.71972,\n",
       "           0.72072,     0.72172,     0.72272,     0.72372,     0.72472,     0.72573,     0.72673,     0.72773,     0.72873,     0.72973,     0.73073,     0.73173,     0.73273,     0.73373,     0.73473,     0.73574,     0.73674,     0.73774,     0.73874,     0.73974,     0.74074,     0.74174,     0.74274,     0.74374,\n",
       "           0.74474,     0.74575,     0.74675,     0.74775,     0.74875,     0.74975,     0.75075,     0.75175,     0.75275,     0.75375,     0.75475,     0.75576,     0.75676,     0.75776,     0.75876,     0.75976,     0.76076,     0.76176,     0.76276,     0.76376,     0.76476,     0.76577,     0.76677,     0.76777,\n",
       "           0.76877,     0.76977,     0.77077,     0.77177,     0.77277,     0.77377,     0.77477,     0.77578,     0.77678,     0.77778,     0.77878,     0.77978,     0.78078,     0.78178,     0.78278,     0.78378,     0.78478,     0.78579,     0.78679,     0.78779,     0.78879,     0.78979,     0.79079,     0.79179,\n",
       "           0.79279,     0.79379,     0.79479,      0.7958,      0.7968,      0.7978,      0.7988,      0.7998,      0.8008,      0.8018,      0.8028,      0.8038,      0.8048,     0.80581,     0.80681,     0.80781,     0.80881,     0.80981,     0.81081,     0.81181,     0.81281,     0.81381,     0.81481,     0.81582,\n",
       "           0.81682,     0.81782,     0.81882,     0.81982,     0.82082,     0.82182,     0.82282,     0.82382,     0.82482,     0.82583,     0.82683,     0.82783,     0.82883,     0.82983,     0.83083,     0.83183,     0.83283,     0.83383,     0.83483,     0.83584,     0.83684,     0.83784,     0.83884,     0.83984,\n",
       "           0.84084,     0.84184,     0.84284,     0.84384,     0.84484,     0.84585,     0.84685,     0.84785,     0.84885,     0.84985,     0.85085,     0.85185,     0.85285,     0.85385,     0.85485,     0.85586,     0.85686,     0.85786,     0.85886,     0.85986,     0.86086,     0.86186,     0.86286,     0.86386,\n",
       "           0.86486,     0.86587,     0.86687,     0.86787,     0.86887,     0.86987,     0.87087,     0.87187,     0.87287,     0.87387,     0.87487,     0.87588,     0.87688,     0.87788,     0.87888,     0.87988,     0.88088,     0.88188,     0.88288,     0.88388,     0.88488,     0.88589,     0.88689,     0.88789,\n",
       "           0.88889,     0.88989,     0.89089,     0.89189,     0.89289,     0.89389,     0.89489,      0.8959,      0.8969,      0.8979,      0.8989,      0.8999,      0.9009,      0.9019,      0.9029,      0.9039,      0.9049,     0.90591,     0.90691,     0.90791,     0.90891,     0.90991,     0.91091,     0.91191,\n",
       "           0.91291,     0.91391,     0.91491,     0.91592,     0.91692,     0.91792,     0.91892,     0.91992,     0.92092,     0.92192,     0.92292,     0.92392,     0.92492,     0.92593,     0.92693,     0.92793,     0.92893,     0.92993,     0.93093,     0.93193,     0.93293,     0.93393,     0.93493,     0.93594,\n",
       "           0.93694,     0.93794,     0.93894,     0.93994,     0.94094,     0.94194,     0.94294,     0.94394,     0.94494,     0.94595,     0.94695,     0.94795,     0.94895,     0.94995,     0.95095,     0.95195,     0.95295,     0.95395,     0.95495,     0.95596,     0.95696,     0.95796,     0.95896,     0.95996,\n",
       "           0.96096,     0.96196,     0.96296,     0.96396,     0.96496,     0.96597,     0.96697,     0.96797,     0.96897,     0.96997,     0.97097,     0.97197,     0.97297,     0.97397,     0.97497,     0.97598,     0.97698,     0.97798,     0.97898,     0.97998,     0.98098,     0.98198,     0.98298,     0.98398,\n",
       "           0.98498,     0.98599,     0.98699,     0.98799,     0.98899,     0.98999,     0.99099,     0.99199,     0.99299,     0.99399,     0.99499,       0.996,       0.997,       0.998,       0.999,           1]), array([[    0.95699,     0.95699,     0.95699,     0.95699,     0.95699,     0.95161,     0.95161,     0.95161,     0.95161,     0.95161,     0.95161,     0.94086,     0.94086,     0.93548,     0.93011,     0.93011,     0.93011,     0.93011,     0.93011,     0.91935,     0.91935,     0.91935,     0.91398,\n",
       "            0.91398,     0.91398,     0.91398,     0.91398,     0.91398,     0.91398,     0.91398,     0.91398,     0.91398,     0.91115,      0.9086,      0.9086,     0.90554,     0.90323,     0.90323,     0.90323,     0.90323,     0.90323,     0.90323,     0.90323,     0.90323,     0.90323,     0.90323,\n",
       "            0.90323,     0.90323,     0.90323,     0.90323,     0.90323,     0.90323,     0.90323,     0.90323,     0.90323,     0.90323,     0.90323,     0.90323,     0.89785,     0.89785,     0.89785,     0.89785,     0.89785,     0.89785,     0.89785,     0.89785,     0.89484,     0.89247,     0.89247,\n",
       "            0.89247,     0.89247,     0.89247,     0.89247,     0.89247,     0.89247,     0.89247,     0.89247,     0.89247,     0.89247,     0.89247,     0.89247,     0.89247,     0.89247,     0.89247,     0.89247,     0.89247,     0.89247,     0.89247,     0.89247,     0.89247,     0.89247,     0.89247,\n",
       "            0.89247,     0.89247,     0.89247,     0.89247,     0.89247,     0.89247,     0.89247,     0.89247,     0.89247,     0.89247,     0.89247,     0.89247,     0.89247,     0.89247,     0.89247,     0.89247,     0.89247,     0.89247,     0.89247,     0.89247,     0.89247,     0.89247,     0.89247,\n",
       "            0.89247,     0.89247,     0.89247,     0.89247,     0.89247,     0.89247,     0.89247,     0.89247,     0.89247,     0.89247,     0.89247,     0.89247,     0.89247,     0.89247,     0.89247,     0.89247,     0.89247,     0.89247,     0.89247,     0.89247,     0.89247,     0.89247,     0.89247,\n",
       "            0.89247,     0.89247,     0.89247,     0.89247,     0.89247,     0.89247,     0.89247,     0.89247,     0.89247,     0.89247,     0.89247,     0.89247,     0.89247,     0.89247,     0.89247,     0.89247,     0.89247,     0.89247,     0.89247,     0.89247,     0.89247,     0.89247,     0.89247,\n",
       "            0.89247,     0.89247,     0.89247,     0.89247,     0.89247,     0.89247,     0.89247,     0.89247,     0.89247,     0.89247,     0.89247,     0.89247,     0.89247,     0.89247,     0.89247,     0.89247,     0.89247,     0.89247,     0.89247,     0.89247,     0.89247,     0.89247,     0.89247,\n",
       "            0.89247,     0.89247,     0.89247,     0.89247,     0.89247,     0.89247,     0.89247,     0.89247,     0.89247,     0.89247,     0.89247,     0.89247,     0.89247,     0.89247,     0.89247,     0.89247,     0.89247,     0.89247,     0.89247,     0.89247,     0.89247,     0.89247,     0.89247,\n",
       "            0.89247,     0.89247,     0.89247,     0.89247,     0.89247,     0.89247,     0.89247,     0.89247,     0.89247,     0.89247,     0.89247,     0.89247,     0.89247,     0.89247,     0.89247,     0.89247,     0.89247,     0.89247,     0.89247,     0.89247,     0.89247,     0.89247,     0.89247,\n",
       "            0.89247,     0.89247,     0.89247,     0.89247,     0.89247,     0.89247,     0.89247,     0.89247,     0.89247,      0.8871,      0.8871,      0.8871,      0.8871,      0.8871,      0.8871,      0.8871,      0.8871,      0.8871,      0.8871,      0.8871,      0.8871,      0.8871,      0.8871,\n",
       "             0.8871,      0.8871,      0.8871,      0.8871,      0.8871,      0.8871,      0.8871,      0.8871,      0.8871,      0.8871,      0.8871,      0.8871,      0.8871,      0.8871,      0.8871,      0.8871,      0.8871,      0.8871,      0.8871,      0.8871,      0.8871,      0.8871,      0.8871,\n",
       "             0.8871,      0.8871,      0.8871,      0.8871,      0.8871,      0.8871,      0.8871,      0.8871,      0.8871,      0.8871,      0.8871,      0.8871,      0.8871,      0.8871,      0.8871,      0.8871,      0.8871,      0.8871,      0.8871,      0.8871,      0.8871,      0.8871,      0.8871,\n",
       "             0.8871,      0.8871,      0.8859,     0.88172,     0.88172,     0.88172,     0.88172,     0.88172,     0.88172,     0.88172,     0.88172,     0.88172,     0.88172,     0.88172,     0.88172,     0.88172,     0.88172,     0.88172,     0.88172,     0.88172,     0.88172,     0.88172,     0.88172,\n",
       "            0.88172,     0.88172,     0.88172,     0.88172,     0.88172,     0.88172,     0.88172,     0.88172,     0.88172,     0.88089,     0.87966,     0.87843,      0.8772,     0.87634,     0.87634,     0.87634,     0.87634,     0.87634,     0.87634,     0.87545,     0.87288,     0.87083,     0.87029,\n",
       "            0.86976,     0.86922,     0.86868,     0.86815,     0.86761,     0.86707,     0.86654,       0.866,     0.86559,     0.86559,     0.86559,     0.86559,     0.86559,     0.86559,     0.86559,     0.86559,     0.86559,     0.86559,     0.86559,     0.86559,     0.86559,     0.86559,     0.86559,\n",
       "            0.86559,     0.86559,     0.86559,     0.86559,     0.86559,     0.86559,     0.86559,     0.86559,     0.86559,     0.86559,     0.86559,     0.86559,     0.86559,     0.86559,     0.86559,     0.86559,     0.86559,     0.86559,     0.86559,     0.86559,     0.86559,     0.86559,     0.86559,\n",
       "            0.86559,     0.86559,     0.86559,     0.86455,     0.86263,      0.8607,     0.86022,     0.86022,     0.86022,     0.86022,     0.86022,     0.86022,     0.86022,     0.86022,     0.86022,     0.86022,     0.86022,     0.86022,     0.86022,     0.86022,     0.86022,     0.86022,     0.86022,\n",
       "            0.86022,     0.86022,     0.86022,     0.86022,     0.86022,     0.86022,     0.86022,     0.86022,     0.86022,     0.86022,     0.86022,     0.86022,     0.86022,     0.86022,     0.86022,     0.86022,     0.86022,     0.86022,     0.86022,     0.86022,     0.86022,     0.86022,     0.86022,\n",
       "            0.86014,     0.85954,     0.85895,     0.85835,     0.85776,     0.85716,     0.85657,     0.85597,     0.85538,     0.85484,     0.85484,     0.85484,     0.85484,     0.85484,     0.85484,     0.85484,     0.85484,     0.85484,     0.85484,     0.85484,     0.85484,     0.85484,     0.85484,\n",
       "            0.85484,     0.85484,     0.85484,     0.85484,     0.85484,     0.85484,     0.85484,     0.85484,     0.85484,     0.85484,     0.85484,     0.85484,     0.85484,     0.84946,     0.84946,     0.84946,     0.84946,     0.84946,     0.84946,     0.84946,     0.84946,     0.84946,     0.84946,\n",
       "            0.84946,     0.84946,     0.84946,     0.84946,     0.84946,     0.84946,     0.84946,     0.84946,     0.84946,     0.84946,     0.84946,     0.84946,     0.84946,     0.84946,     0.84946,     0.84946,     0.84946,     0.84946,     0.84946,     0.84946,     0.84946,     0.84946,     0.84946,\n",
       "            0.84946,     0.84946,     0.84946,     0.84946,     0.84946,     0.84946,     0.84946,     0.84946,     0.84946,     0.84946,     0.84946,     0.84946,     0.84946,     0.84946,     0.84946,     0.84946,     0.84946,     0.84946,     0.84946,     0.84946,     0.84946,     0.84946,     0.84946,\n",
       "            0.84946,     0.84946,     0.84946,     0.84946,     0.84946,     0.84946,     0.84946,     0.84946,     0.84917,     0.84845,     0.84772,       0.847,     0.84627,     0.84555,     0.84482,      0.8441,     0.84392,     0.84376,     0.84359,     0.84343,     0.84326,      0.8431,     0.84294,\n",
       "            0.84277,     0.84261,     0.84244,     0.84228,     0.84211,     0.84195,     0.84178,     0.84162,     0.84145,     0.84129,     0.84112,     0.84096,     0.84079,     0.84063,     0.84046,      0.8403,     0.84013,     0.83997,      0.8398,     0.83964,     0.83947,     0.83931,     0.83914,\n",
       "            0.83898,     0.83881,     0.83871,     0.83871,     0.83871,     0.83871,     0.83871,     0.83871,     0.83871,     0.83871,     0.83871,     0.83871,     0.83871,     0.83871,     0.83871,     0.83871,     0.83871,     0.83871,     0.83871,     0.83871,     0.83871,     0.83871,     0.83871,\n",
       "            0.83871,     0.83871,     0.83871,     0.83871,     0.83841,      0.8378,     0.83719,     0.83657,     0.83596,     0.83535,     0.83474,     0.83412,     0.83351,      0.8329,     0.83228,     0.83167,     0.83105,     0.83044,     0.82982,     0.82921,     0.82859,     0.82798,     0.82633,\n",
       "            0.82463,     0.82294,     0.82169,     0.82055,     0.81941,     0.81827,     0.81719,     0.81691,     0.81664,     0.81637,      0.8161,     0.81583,     0.81555,     0.81528,     0.81501,     0.81474,     0.81446,     0.81419,     0.81392,     0.81365,     0.81337,      0.8131,     0.81283,\n",
       "            0.81256,     0.81228,     0.81201,     0.80826,     0.80011,      0.7989,     0.79768,     0.79647,     0.79525,     0.79403,     0.79281,     0.79158,     0.79036,     0.78909,     0.78752,     0.78596,     0.78481,     0.78441,     0.78402,     0.78363,     0.78323,     0.78284,     0.78244,\n",
       "            0.78205,     0.78166,     0.78126,     0.78087,     0.78048,     0.78008,     0.77969,     0.77148,     0.76809,     0.76637,     0.76464,     0.76302,     0.76162,     0.76023,     0.75884,     0.75218,     0.75046,     0.74875,     0.74702,     0.74522,     0.74342,     0.74188,     0.74158,\n",
       "            0.74128,     0.74098,     0.74068,     0.74038,     0.74008,     0.73978,     0.73948,     0.73918,     0.73888,     0.73858,     0.73828,     0.73798,     0.73768,     0.73738,     0.73708,     0.73678,     0.73634,     0.73552,     0.73469,     0.73387,     0.73304,     0.73222,     0.73139,\n",
       "            0.73071,     0.73007,     0.72944,      0.7288,     0.72816,     0.72753,     0.72689,     0.72626,      0.7203,     0.71933,     0.71836,     0.71739,     0.71641,     0.71544,     0.71427,     0.71297,     0.71166,     0.71036,     0.70877,     0.70687,     0.70497,      0.7043,      0.7043,\n",
       "             0.7043,      0.7043,      0.7043,     0.70407,     0.70234,     0.70062,      0.6989,     0.69786,     0.69682,     0.69577,     0.69473,     0.69369,     0.69324,     0.69289,     0.69253,     0.69218,     0.69183,     0.69147,     0.69112,     0.69076,     0.69041,     0.69005,      0.6897,\n",
       "            0.68935,     0.68899,     0.68864,     0.68828,     0.68681,     0.68482,     0.68283,     0.67901,     0.67691,     0.67606,      0.6752,     0.67434,     0.67348,     0.67262,     0.66953,      0.6631,     0.66006,     0.65826,     0.65646,     0.65591,     0.65244,     0.64842,     0.64545,\n",
       "            0.64516,     0.64516,     0.64402,     0.64102,     0.63697,     0.63375,     0.63232,     0.63089,     0.62947,      0.6279,     0.62626,     0.62462,     0.62184,     0.61793,     0.61615,     0.61437,     0.61146,     0.60585,     0.60256,     0.59677,     0.59677,     0.59677,     0.59677,\n",
       "            0.59095,     0.58489,     0.58126,     0.57527,     0.57527,     0.57527,     0.57527,     0.56946,     0.55572,     0.55207,     0.55034,     0.54861,     0.53911,     0.53052,     0.52431,     0.51372,     0.48857,     0.48552,     0.48302,     0.48114,     0.47927,     0.47024,     0.46036,\n",
       "            0.45085,     0.44669,     0.44026,     0.43639,     0.42742,     0.41808,     0.41438,     0.41047,     0.40268,     0.39833,     0.39615,     0.39424,     0.39195,     0.38602,     0.38259,      0.3773,      0.3621,     0.34608,     0.33924,     0.32105,     0.31696,     0.31579,     0.31463,\n",
       "            0.31347,     0.31231,     0.30878,     0.30598,     0.30513,     0.30427,     0.30342,     0.30257,     0.30171,     0.30108,     0.29741,      0.2933,      0.2879,     0.27242,     0.26907,     0.25294,     0.24448,     0.24127,     0.23776,     0.23384,     0.22858,     0.21719,     0.20405,\n",
       "            0.19919,     0.19699,     0.19495,     0.19241,     0.18881,     0.18142,     0.17196,     0.16992,     0.16789,     0.16489,     0.15923,     0.14982,     0.13717,      0.1305,     0.12639,       0.123,     0.11767,     0.11541,     0.11315,     0.10854,    0.093541,    0.085786,    0.084722,\n",
       "           0.083658,    0.082594,     0.08153,    0.078527,    0.065352,      0.0613,    0.055724,    0.043002,    0.040463,    0.037925,    0.032554,    0.029966,     0.02755,    0.024433,     0.02143,     0.02087,     0.02031,    0.019751,    0.019191,    0.018631,    0.018071,    0.017512,    0.016952,\n",
       "           0.016392,    0.015829,    0.015262,    0.014695,    0.014129,    0.013562,    0.012996,    0.012429,    0.011862,    0.011296,    0.010747,    0.010621,    0.010495,    0.010368,    0.010242,    0.010115,   0.0099889,   0.0098625,    0.009736,   0.0096096,   0.0094832,   0.0093568,   0.0092304,\n",
       "          0.0091039,   0.0089775,   0.0088511,   0.0087247,   0.0085983,   0.0084718,   0.0083454,    0.008219,   0.0080926,   0.0079661,   0.0078397,   0.0077133,   0.0075869,   0.0074605,    0.007334,   0.0072076,   0.0070812,   0.0069548,   0.0068283,   0.0067019,   0.0065755,   0.0064491,   0.0063227,\n",
       "          0.0061962,   0.0060698,   0.0059434,    0.005817,   0.0056905,   0.0055641,   0.0054377,           0,           0,           0,           0,           0,           0,           0,           0,           0,           0,           0,           0,           0,           0,           0,           0,\n",
       "                  0,           0,           0,           0,           0,           0,           0,           0,           0,           0,           0]]), 'Confidence', 'Recall']]\n",
       "fitness: 0.705529872974012\n",
       "keys: ['metrics/precision(B)', 'metrics/recall(B)', 'metrics/mAP50(B)', 'metrics/mAP50-95(B)']\n",
       "maps: array([    0.68508])\n",
       "names: {0: 'text'}\n",
       "plot: True\n",
       "results_dict: {'metrics/precision(B)': 0.9398987579050216, 'metrics/recall(B)': 0.8407921326037691, 'metrics/mAP50(B)': 0.8895983974830518, 'metrics/mAP50-95(B)': 0.6850778146952299, 'fitness': 0.705529872974012}\n",
       "save_dir: WindowsPath('runs/detect/val3')\n",
       "speed: {'preprocess': 1.67446912721146, 'inference': 11.246476062508515, 'loss': 0.0, 'postprocess': 7.6370017473087755}\n",
       "task: 'detect'"
      ]
     },
     "execution_count": 2,
     "metadata": {},
     "output_type": "execute_result"
    }
   ],
   "execution_count": 2
  },
  {
   "cell_type": "code",
   "id": "92e12c35",
   "metadata": {
    "ExecuteTime": {
     "end_time": "2024-08-27T03:39:18.831683Z",
     "start_time": "2024-08-27T03:39:17.790282Z"
    }
   },
   "source": [
    "from ultralytics import YOLO\n",
    "\n",
    "model_path = \"runs\\\\detect\\\\train42\\\\weights\\\\best.pt\"\n",
    "model = YOLO(model=model_path)\n",
    "\n",
    "img_path = \"Dataset\\\\yolo_data\\\\val\\\\images\\\\from_joanne.jpg\"\n",
    "\n",
    "test = model.predict(img_path, show=True)\n",
    "print(test)"
   ],
   "outputs": [
    {
     "name": "stdout",
     "output_type": "stream",
     "text": [
      "\n",
      "image 1/1 C:\\Users\\hieuh\\Downloads\\Project\\Scene-Text-Recognition\\Dataset\\yolo_data\\val\\images\\from_joanne.jpg: 224x512 26 texts, 64.6ms\n",
      "Speed: 0.0ms preprocess, 64.6ms inference, 7.5ms postprocess per image at shape (1, 3, 224, 512)\n",
      "[ultralytics.engine.results.Results object with attributes:\n",
      "\n",
      "boxes: ultralytics.engine.results.Boxes object\n",
      "keypoints: None\n",
      "masks: None\n",
      "names: {0: 'text'}\n",
      "obb: None\n",
      "orig_img: array([[[109, 164, 179],\n",
      "        [ 87, 139, 155],\n",
      "        [ 96, 141, 155],\n",
      "        ...,\n",
      "        [104, 136, 147],\n",
      "        [108, 139, 138],\n",
      "        [110, 141, 134]],\n",
      "\n",
      "       [[ 88, 137, 153],\n",
      "        [ 65, 110, 124],\n",
      "        [ 69, 108, 123],\n",
      "        ...,\n",
      "        [ 75, 102, 112],\n",
      "        [ 82, 106, 104],\n",
      "        [ 84, 109,  99]],\n",
      "\n",
      "       [[101, 135, 151],\n",
      "        [ 71, 104, 119],\n",
      "        [ 73,  99, 115],\n",
      "        ...,\n",
      "        [ 85,  99, 105],\n",
      "        [ 89, 103,  97],\n",
      "        [ 91, 106,  92]],\n",
      "\n",
      "       ...,\n",
      "\n",
      "       [[147, 174, 184],\n",
      "        [139, 165, 172],\n",
      "        [140, 162, 168],\n",
      "        ...,\n",
      "        [  1,   3,   3],\n",
      "        [  2,   5,   3],\n",
      "        [  0,   5,   3]],\n",
      "\n",
      "       [[126, 173, 187],\n",
      "        [118, 163, 177],\n",
      "        [119, 161, 174],\n",
      "        ...,\n",
      "        [  0,   1,   9],\n",
      "        [  0,   4,  11],\n",
      "        [  0,   4,  10]],\n",
      "\n",
      "       [[ 97, 187, 218],\n",
      "        [ 90, 177, 209],\n",
      "        [ 93, 176, 207],\n",
      "        ...,\n",
      "        [ 50, 120, 144],\n",
      "        [ 51, 121, 145],\n",
      "        [ 51, 121, 145]]], dtype=uint8)\n",
      "orig_shape: (403, 930)\n",
      "path: 'C:\\\\Users\\\\hieuh\\\\Downloads\\\\Project\\\\Scene-Text-Recognition\\\\Dataset\\\\yolo_data\\\\val\\\\images\\\\from_joanne.jpg'\n",
      "probs: None\n",
      "save_dir: 'runs\\\\detect\\\\predict'\n",
      "speed: {'preprocess': 0.0, 'inference': 64.63742256164551, 'postprocess': 7.505655288696289}]\n"
     ]
    }
   ],
   "execution_count": 3
  },
  {
   "metadata": {},
   "cell_type": "code",
   "outputs": [],
   "execution_count": null,
   "source": [
    "def split_bbox(img_path, img_labels, bboxes, save_dir,):\n",
    "    os.makedirs(save_dir, exist_ok=True)\n",
    "    \n",
    "    count = 0\n",
    "    labels = []\n",
    "    for img_path, img_label, bbox  in zip(img_path, img_labels, bboxes):\n",
    "        "
   ],
   "id": "f56210fbcedd0acf"
  }
 ],
 "metadata": {
  "kernelspec": {
   "display_name": "Python 3",
   "language": "python",
   "name": "python3"
  },
  "language_info": {
   "codemirror_mode": {
    "name": "ipython",
    "version": 3
   },
   "file_extension": ".py",
   "mimetype": "text/x-python",
   "name": "python",
   "nbconvert_exporter": "python",
   "pygments_lexer": "ipython3",
   "version": "3.12.5"
  }
 },
 "nbformat": 4,
 "nbformat_minor": 5
}
